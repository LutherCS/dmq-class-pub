{
 "cells": [
  {
   "cell_type": "markdown",
   "metadata": {},
   "source": [
    "# Grouping and Aggregation Using SQL\n",
    "\n",
    "## Review of SQL clauses\n",
    "\n",
    "* SELECT \\* | col1 [, col2, ...]  -- corresponds to **project**\n",
    "* FROM table [, table, ...]\n",
    "* WHERE condition [AND|OR condition]   -- corresponds to **query**\n",
    "* ORDER BY column [,column, ...] [DESC] -- corresponds to **sort**\n",
    "* LIMIT numrows  -- corresponds to **head**\n",
    "\n",
    "`GROUP BY` clause\n",
    "\n",
    "* Comes after WHERE\n",
    "\n",
    "* List the column or columns to squash\n",
    "    * The aggregate **operator** goes in the select clause\n",
    "    * The groupby column **MUST** appear in the select clause as well\n",
    "\n",
    "* NO other columns can be added, does not make sense!\n",
    "    * Which rows would you keep?\n",
    "\n",
    "* Valid aggregates in SQL\n",
    "    * count(*)\n",
    "    * avg\n",
    "    * min\n",
    "    * max\n",
    "    * sum\n",
    "  "
   ]
  },
  {
   "cell_type": "code",
   "execution_count": null,
   "metadata": {},
   "outputs": [],
   "source": [
    "# all of your notebooks and homework using SQL are going to start something like this\n",
    "import warnings\n",
    "warnings.filterwarnings('ignore')\n",
    "\n",
    "%load_ext sql\n"
   ]
  },
  {
   "cell_type": "code",
   "execution_count": null,
   "metadata": {},
   "outputs": [],
   "source": [
    "%%sql\n",
    "\n",
    "postgresql://yasiro01:@localhost/world\n"
   ]
  },
  {
   "cell_type": "markdown",
   "metadata": {},
   "source": [
    "## How many countries are in each region?"
   ]
  },
  {
   "cell_type": "code",
   "execution_count": null,
   "metadata": {},
   "outputs": [],
   "source": [
    "%%sql\n",
    "\n"
   ]
  },
  {
   "cell_type": "code",
   "execution_count": null,
   "metadata": {},
   "outputs": [],
   "source": [
    "%%sql\n",
    "\n"
   ]
  },
  {
   "cell_type": "markdown",
   "metadata": {},
   "source": [
    "## What is the average life expectancy for each continent\n"
   ]
  },
  {
   "cell_type": "code",
   "execution_count": null,
   "metadata": {},
   "outputs": [],
   "source": [
    "%%sql\n",
    "\n"
   ]
  },
  {
   "cell_type": "markdown",
   "metadata": {},
   "source": [
    "## Why the discrepancy?"
   ]
  },
  {
   "cell_type": "code",
   "execution_count": null,
   "metadata": {},
   "outputs": [],
   "source": [
    "from reframe import Relation\n",
    "country = Relation('/home/faculty/yasiro01/pub/country.csv', sep='|')\n"
   ]
  },
  {
   "cell_type": "code",
   "execution_count": null,
   "metadata": {},
   "outputs": [],
   "source": []
  },
  {
   "cell_type": "code",
   "execution_count": null,
   "metadata": {},
   "outputs": [],
   "source": [
    "%%sql\n",
    "\n"
   ]
  },
  {
   "cell_type": "code",
   "execution_count": null,
   "metadata": {},
   "outputs": [],
   "source": [
    "%%sql\n",
    "\n"
   ]
  },
  {
   "cell_type": "markdown",
   "metadata": {},
   "source": [
    "## What is the max gnp for any country in each region?"
   ]
  },
  {
   "cell_type": "code",
   "execution_count": null,
   "metadata": {},
   "outputs": [],
   "source": [
    "%%sql\n",
    "\n"
   ]
  },
  {
   "cell_type": "markdown",
   "metadata": {},
   "source": [
    "## List continents by their surface area"
   ]
  },
  {
   "cell_type": "code",
   "execution_count": null,
   "metadata": {},
   "outputs": [],
   "source": [
    "%%sql\n",
    "\n"
   ]
  },
  {
   "cell_type": "markdown",
   "metadata": {},
   "source": [
    "## List continents by their population density"
   ]
  },
  {
   "cell_type": "code",
   "execution_count": null,
   "metadata": {},
   "outputs": [],
   "source": [
    "%%sql\n",
    "\n"
   ]
  },
  {
   "cell_type": "markdown",
   "metadata": {},
   "source": [
    "## What is the most popular form of government in Europe/Asia/Africa?"
   ]
  },
  {
   "cell_type": "code",
   "execution_count": null,
   "metadata": {},
   "outputs": [],
   "source": [
    "%%sql\n",
    "\n"
   ]
  },
  {
   "cell_type": "markdown",
   "metadata": {},
   "source": [
    "## What is the most popular form of government in Europe/Asia/Africa with more than 2 countries?"
   ]
  },
  {
   "cell_type": "code",
   "execution_count": null,
   "metadata": {},
   "outputs": [],
   "source": [
    "%%sql\n",
    "\n"
   ]
  },
  {
   "cell_type": "markdown",
   "metadata": {},
   "source": [
    "# SQL: Order of Clauses\n",
    "\n",
    "The lexical (syntactical) order of SQL operations (clauses) **does not** correspond at all to the logical order of operations.\n",
    "\n",
    "Read [A Beginner’s Guide to the True Order of SQL Operations](https://blog.jooq.org/2016/12/09/a-beginners-guide-to-the-true-order-of-sql-operations/) for details.\n",
    "\n",
    "Logical order of SQL operations\n",
    "\n",
    "1. FROM\n",
    "\n",
    "1. WHERE\n",
    "\n",
    "1. GROUP BY\n",
    "\n",
    "1. AGGREGATION FUNCTION\n",
    "\n",
    "1. HAVING\n",
    "\n",
    "1. SELECT\n",
    "\n",
    "1. DISTINCT\n",
    "\n",
    "1. ORDER BY\n",
    "\n",
    "1. LIMIT\n"
   ]
  }
 ],
 "metadata": {
  "kernelspec": {
   "display_name": "Python 3",
   "language": "python",
   "name": "python3"
  },
  "language_info": {
   "codemirror_mode": {
    "name": "ipython",
    "version": 3
   },
   "file_extension": ".py",
   "mimetype": "text/x-python",
   "name": "python",
   "nbconvert_exporter": "python",
   "pygments_lexer": "ipython3",
   "version": "3.5.1"
  }
 },
 "nbformat": 4,
 "nbformat_minor": 2
}
