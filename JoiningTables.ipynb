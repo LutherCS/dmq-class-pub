{
 "cells": [
  {
   "cell_type": "markdown",
   "metadata": {},
   "source": [
    "# Joining Tables"
   ]
  },
  {
   "cell_type": "code",
   "execution_count": null,
   "metadata": {},
   "outputs": [],
   "source": [
    "import warnings\n",
    "warnings.filterwarnings('ignore')\n",
    "\n",
    "from reframe import Relation\n",
    "r1 = Relation('/home/faculty/yasiro01/pub/R1.csv',sep=',')\n",
    "r2 = Relation('/home/faculty/yasiro01/pub/R2.csv',sep=',')\n"
   ]
  },
  {
   "cell_type": "code",
   "execution_count": null,
   "metadata": {},
   "outputs": [],
   "source": [
    "r1"
   ]
  },
  {
   "cell_type": "code",
   "execution_count": null,
   "metadata": {},
   "outputs": [],
   "source": [
    "r2"
   ]
  },
  {
   "cell_type": "markdown",
   "metadata": {},
   "source": [
    "## Cartesian Product\n",
    "\n",
    "So far we have restricted ourselves to operators that operate on one table (relation) at a time. This is logical in the sense that our operators create relations! However, we know that a typical database contains many tables, which in fact may be related. So, how do we do queries using mulitple tables?\n",
    "\n",
    "The first step toward applying the operators we have learned so far to multiple tables is to merge the tables together. We do this using the cartesian product.\n",
    "\n",
    "A cartesian product creates one table out of two tables by creating every possible combination of each row in table A with each row in table B, forming a new relation with A+B columns, and A\\*B rows!\n"
   ]
  },
  {
   "cell_type": "code",
   "execution_count": null,
   "metadata": {},
   "outputs": [],
   "source": []
  },
  {
   "cell_type": "markdown",
   "metadata": {},
   "source": [
    "### Relation 1\n",
    "\n",
    "COL_1 | COL_2\n",
    "------|------\n",
    " A | B\n",
    " C | D\n",
    " E | F\n",
    " "
   ]
  },
  {
   "cell_type": "markdown",
   "metadata": {},
   "source": [
    "### Relation 2\n",
    "\n",
    "COL_3 | COL_4\n",
    "------|-------\n",
    " 1 | A\n",
    " 2 | C\n",
    " 3 | A\n",
    " "
   ]
  },
  {
   "cell_type": "markdown",
   "metadata": {},
   "source": [
    "### Cartesian Product: Result\n",
    "\n",
    "COL_1 | COL_2 | COL_3 | COL_4\n",
    "------|-------|-------|------\n",
    " A | B | 1 | A\n",
    " A | B | 2 | C\n",
    " A | B | 3 | A\n",
    " C | D | 1 | A\n",
    " C | D | 2 | C\n",
    " C | D | 3 | A\n",
    " E | F | 1 | A\n",
    " E | F | 2 | C\n",
    " E | F | 3 | A\n",
    " "
   ]
  },
  {
   "cell_type": "markdown",
   "metadata": {},
   "source": [
    "### Cartesian Product: Challenge\n",
    "\n",
    "Of course this can create an **enormous** table, so the cartesian product is always followed by a query where we limit the number of rows by comparing a column in relation 1 against a column in relation 2.\n"
   ]
  },
  {
   "cell_type": "markdown",
   "metadata": {},
   "source": [
    "### Cartesian Product: Query\n",
    "\n",
    "COL_1 == COL_4\n",
    "\n",
    "COL_1 | COL_2 | COL_3 | COL_4\n",
    "------|-------|-------|------\n",
    " A | B | 1 | A\n",
    " A | B | 3 | A\n",
    " C | D | 2 | C\n"
   ]
  },
  {
   "cell_type": "markdown",
   "metadata": {},
   "source": [
    "## Natural Join\n",
    "\n",
    "The natural join or `njoin` operator takes the pattern of cartesian product followed by query, and wraps it all into one operation subject to the following:\n",
    "\n",
    "* The query condition tests for equality\n",
    "* The query condition of equality applies to all columns with the same name in both relations\n",
    "\n",
    "You can see this in the following diagram, where we have two relations. Both have a column named C1.\n",
    "\n",
    "The resulting relation has a single C1 column where only the rows where C1 holds the same value in both relations. The other values from the row are filled in with the values from the matching rows.\n"
   ]
  },
  {
   "cell_type": "code",
   "execution_count": null,
   "metadata": {},
   "outputs": [],
   "source": []
  },
  {
   "cell_type": "markdown",
   "metadata": {},
   "source": [
    "## SQL\n"
   ]
  },
  {
   "cell_type": "code",
   "execution_count": null,
   "metadata": {},
   "outputs": [],
   "source": [
    "%load_ext sql\n"
   ]
  },
  {
   "cell_type": "code",
   "execution_count": null,
   "metadata": {},
   "outputs": [],
   "source": [
    "%%sql\n",
    "\n",
    "postgresql://yasiro01:@localhost/jtest\n"
   ]
  },
  {
   "cell_type": "markdown",
   "metadata": {},
   "source": [
    "### Cartesian Product: SQL\n"
   ]
  },
  {
   "cell_type": "code",
   "execution_count": null,
   "metadata": {},
   "outputs": [],
   "source": [
    "%%sql\n",
    "\n"
   ]
  },
  {
   "cell_type": "markdown",
   "metadata": {},
   "source": [
    "### Natural Join: SQL"
   ]
  },
  {
   "cell_type": "code",
   "execution_count": null,
   "metadata": {},
   "outputs": [],
   "source": [
    "%%sql\n",
    "\n"
   ]
  },
  {
   "cell_type": "markdown",
   "metadata": {},
   "source": [
    "### Natural Join vs Cartesian Product\n",
    "\n",
    "To return to the cartesian product example, note that it is not 100% equivalent as the cartesian product retains and renames the second copy of column1.\n"
   ]
  },
  {
   "cell_type": "code",
   "execution_count": null,
   "metadata": {},
   "outputs": [],
   "source": [
    "%%sql\n",
    "\n"
   ]
  },
  {
   "cell_type": "markdown",
   "metadata": {},
   "source": [
    "## Natural Join Example\n",
    "\n",
    "Now lets look at a more real example. From our city and country tables we have a problem:\n",
    "\n",
    "* the column name is in both relations, but means different things\n",
    "* the column population is in both relations but means different things\n",
    "* the column we would like to join on is the **countrycode** column, but it is called code in the country relation and countrycode in the city relation\n",
    "\n",
    "We can remedy this in relational algebra by using the rename operator.\n"
   ]
  },
  {
   "cell_type": "code",
   "execution_count": null,
   "metadata": {},
   "outputs": [],
   "source": [
    "city = Relation('/home/faculty/yasiro01/pub/city.csv')\n",
    "country = Relation('/home/faculty/yasiro01/pub/country.csv')"
   ]
  },
  {
   "cell_type": "code",
   "execution_count": null,
   "metadata": {},
   "outputs": [],
   "source": [
    "city.head()"
   ]
  },
  {
   "cell_type": "code",
   "execution_count": null,
   "metadata": {},
   "outputs": [],
   "source": [
    "country.head()"
   ]
  },
  {
   "cell_type": "code",
   "execution_count": null,
   "metadata": {},
   "outputs": [],
   "source": []
  },
  {
   "cell_type": "markdown",
   "metadata": {},
   "source": [
    "### Find all cities in Norway\n",
    "\n",
    "Relational Algebra\n"
   ]
  },
  {
   "cell_type": "code",
   "execution_count": null,
   "metadata": {},
   "outputs": [],
   "source": []
  },
  {
   "cell_type": "code",
   "execution_count": null,
   "metadata": {},
   "outputs": [],
   "source": []
  },
  {
   "cell_type": "code",
   "execution_count": null,
   "metadata": {},
   "outputs": [],
   "source": [
    "\n"
   ]
  },
  {
   "cell_type": "markdown",
   "metadata": {},
   "source": [
    "### Find all cities in Norway\n",
    "\n",
    "Structured Query Language\n"
   ]
  },
  {
   "cell_type": "code",
   "execution_count": null,
   "metadata": {},
   "outputs": [],
   "source": [
    "%sql postgresql://yasiro01:@localhost/world\n"
   ]
  },
  {
   "cell_type": "code",
   "execution_count": null,
   "metadata": {},
   "outputs": [],
   "source": [
    "%%sql\n",
    "\n"
   ]
  },
  {
   "cell_type": "code",
   "execution_count": null,
   "metadata": {},
   "outputs": [],
   "source": [
    "%%sql\n",
    "\n"
   ]
  },
  {
   "cell_type": "markdown",
   "metadata": {},
   "source": [
    "## Movie Database\n",
    "\n",
    "The natural join operator works very well on the movie database as it has two columns with the same name in both the moviecast table and the release_date table.\n"
   ]
  },
  {
   "cell_type": "markdown",
   "metadata": {},
   "source": [
    "### Find the names of all of the lead actors in the  movies released in October of 2015 in Norway"
   ]
  },
  {
   "cell_type": "code",
   "execution_count": null,
   "metadata": {},
   "outputs": [],
   "source": [
    "moviecast = Relation('/home/faculty/yasiro01/pub/cast.csv',sep=',')\n",
    "release_date = Relation('/home/faculty/yasiro01/pub/release_dates.csv',sep=',')"
   ]
  },
  {
   "cell_type": "code",
   "execution_count": null,
   "metadata": {},
   "outputs": [],
   "source": [
    "moviecast.head()"
   ]
  },
  {
   "cell_type": "code",
   "execution_count": null,
   "metadata": {},
   "outputs": [],
   "source": [
    "release_date.head()"
   ]
  },
  {
   "cell_type": "code",
   "execution_count": null,
   "metadata": {},
   "outputs": [],
   "source": []
  },
  {
   "cell_type": "markdown",
   "metadata": {},
   "source": [
    "When you run the above query it takes a while, because it is doing a very large join. However we can make it run more quickly by reducing the size of the relations involved in the join by using a query on each."
   ]
  },
  {
   "cell_type": "code",
   "execution_count": null,
   "metadata": {},
   "outputs": [],
   "source": []
  },
  {
   "cell_type": "code",
   "execution_count": null,
   "metadata": {},
   "outputs": [],
   "source": [
    "%sql postgresql://yasiro01:@localhost/movies\n"
   ]
  },
  {
   "cell_type": "code",
   "execution_count": null,
   "metadata": {},
   "outputs": [],
   "source": [
    "%%sql\n",
    "\n"
   ]
  }
 ],
 "metadata": {
  "kernelspec": {
   "display_name": "Python 3",
   "language": "python",
   "name": "python3"
  },
  "language_info": {
   "codemirror_mode": {
    "name": "ipython",
    "version": 3
   },
   "file_extension": ".py",
   "mimetype": "text/x-python",
   "name": "python",
   "nbconvert_exporter": "python",
   "pygments_lexer": "ipython3",
   "version": "3.5.1"
  }
 },
 "nbformat": 4,
 "nbformat_minor": 2
}
