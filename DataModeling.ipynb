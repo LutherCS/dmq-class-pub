{
 "cells": [
  {
   "cell_type": "markdown",
   "metadata": {},
   "source": [
    "# Data Modeling\n",
    "\n",
    "## Registration database"
   ]
  },
  {
   "cell_type": "markdown",
   "metadata": {},
   "source": [
    "## Modeling a Registration Database\n",
    "\n",
    "* It is registration time, and the registration process is driven by the online registration system\n",
    "* Lets think about this and develop a data model for registration\n",
    "* We'll use Logical Data Structure (LDS) for modeling\n",
    "\n",
    "\n",
    "1. What are the main entities involved?\n",
    "1. Ask the question \"what do we want to remember about each entity?\"\n",
    "1. How do we uniquely identify each entity?\n",
    "1. For each attribute, are there other things we want to remember? \n",
    "\n",
    "    1. If so, then promote that attribute to an entity\n",
    "    1. What are the relationships between these entities?\n"
   ]
  },
  {
   "cell_type": "markdown",
   "metadata": {},
   "source": [
    "# Data Model: Entities\n",
    "\n",
    "Here is one version of the model. This one has entities only, without any relationships.\n",
    "\n",
    "![](registrationdb_entities.png)"
   ]
  },
  {
   "cell_type": "markdown",
   "metadata": {},
   "source": [
    "# Data Model: Relationships\n",
    "\n",
    "Here is a version of the model with realtionships. **Notice that there are several many-many relationships**  These relationships need to be further evolved, but we will keep them this way for now.\n",
    "\n",
    "![](registrationdb_relationships.png)"
   ]
  },
  {
   "cell_type": "markdown",
   "metadata": {},
   "source": [
    "# Data Model: Converting to a Database\n",
    "\n",
    "* We will use SQL Data Definition Language (DDL) to create a table\n",
    "\n",
    "* Full documentation is here:\n",
    "  * [PostgreSQL 9.4](https://www.postgresql.org/docs/9.4/static/sql-createtable.html)\n",
    "  * [Latest PostgreSQL](https://www.postgresql.org/docs/current/static/sql-createtable.html)\n",
    "\n",
    "* More than you want to know at the moment\n",
    "\n",
    "* Give the table a name\n",
    "  * Singular noun\n",
    "\n",
    "* Describe each column (field) with a name and a data type\n",
    "  * integer\n",
    "  * real - float\n",
    "  * text - varchar\n",
    "  * date \n",
    "  \n",
    "* Describe any constraints\n",
    "  * One important constraint is to identify the primary key"
   ]
  },
  {
   "cell_type": "markdown",
   "metadata": {},
   "source": [
    "# SQL: Connecting to Your Database\n",
    "\n",
    "1. Load sql module in the notebook: `%load_ext sql`\n",
    "\n",
    "1. Connect to **your** database: `postgresql://yasiro01:@localhost/yasiro01`\n",
    "  * Replace *yasiro01* with your name both as a user and a database name"
   ]
  },
  {
   "cell_type": "code",
   "execution_count": null,
   "metadata": {},
   "outputs": [],
   "source": [
    "import warnings\n",
    "warnings.filterwarnings('ignore')\n",
    "\n",
    "%load_ext sql\n"
   ]
  },
  {
   "cell_type": "code",
   "execution_count": null,
   "metadata": {},
   "outputs": [],
   "source": [
    "%%sql \n",
    "\n",
    "postgresql://yasiro01:@localhost/yasiro01\n"
   ]
  },
  {
   "cell_type": "markdown",
   "metadata": {},
   "source": [
    "# SQL: Data Manipulation\n",
    "\n",
    "* **C**reate\n",
    "* **R**ead\n",
    "* **U**pdate\n",
    "* **D**elete"
   ]
  },
  {
   "cell_type": "markdown",
   "metadata": {},
   "source": [
    "# SQL: Database Structure Manipulation\n",
    "\n",
    "SQL can be used to create both the database structure and data inside."
   ]
  },
  {
   "cell_type": "code",
   "execution_count": null,
   "metadata": {},
   "outputs": [],
   "source": [
    "%%sql\n",
    "\n"
   ]
  },
  {
   "cell_type": "markdown",
   "metadata": {},
   "source": [
    "# SQL: Medatada\n",
    "\n",
    "Each table hold description of the data (metadata) in its *INFORMATION_SCHEMA.COLUMNS*. Some metadata fields are:\n",
    "\n",
    "* table_name\n",
    "\n",
    "* column_name\n",
    "\n",
    "* is_nullable\n",
    "\n",
    "* character_maximum_length\n",
    "\n",
    "* is_updatable"
   ]
  },
  {
   "cell_type": "code",
   "execution_count": null,
   "metadata": {},
   "outputs": [],
   "source": [
    "%%sql\n",
    "\n"
   ]
  },
  {
   "cell_type": "markdown",
   "metadata": {},
   "source": [
    "# SQL: Create\n",
    "\n",
    "SQL has another clause, `INSERT`, to add **data** to a database\n",
    "\n",
    "    insert into table (column_1, column_2, ..., column_n) values(value_1, value_2, ..., value_n);\n",
    "    \n",
    "The list of columns is optional. If it is not given then value_1, value_2, etc. must be in the order they appear in the create table statement. If you give the column list then the columns and values must be in the same order.\n",
    "\n",
    "If you do not give a column its value, it will be null or the default value you specify."
   ]
  },
  {
   "cell_type": "code",
   "execution_count": null,
   "metadata": {},
   "outputs": [],
   "source": [
    "%%sql\n",
    "\n"
   ]
  },
  {
   "cell_type": "code",
   "execution_count": null,
   "metadata": {},
   "outputs": [],
   "source": [
    "%%sql\n",
    "\n"
   ]
  },
  {
   "cell_type": "markdown",
   "metadata": {},
   "source": [
    "# SQL: Read\n",
    "\n",
    "Use `SELECT` clause to read (retrieve) data from the database."
   ]
  },
  {
   "cell_type": "code",
   "execution_count": null,
   "metadata": {},
   "outputs": [],
   "source": [
    "%%sql\n",
    "\n"
   ]
  },
  {
   "cell_type": "markdown",
   "metadata": {},
   "source": [
    "# SQL: Conditional Read"
   ]
  },
  {
   "cell_type": "code",
   "execution_count": null,
   "metadata": {},
   "outputs": [],
   "source": [
    "%%sql\n",
    "\n"
   ]
  },
  {
   "cell_type": "markdown",
   "metadata": {},
   "source": [
    "# SQL: Update\n",
    "\n",
    "Use `UPDATE` clause to update (change) data in the database.\n"
   ]
  },
  {
   "cell_type": "code",
   "execution_count": null,
   "metadata": {},
   "outputs": [],
   "source": [
    "%%sql\n",
    "\n"
   ]
  },
  {
   "cell_type": "code",
   "execution_count": null,
   "metadata": {},
   "outputs": [],
   "source": [
    "%%sql\n",
    "\n"
   ]
  },
  {
   "cell_type": "markdown",
   "metadata": {},
   "source": [
    "# SQL: Conditional Update\n",
    "\n",
    "Populate the database first"
   ]
  },
  {
   "cell_type": "code",
   "execution_count": null,
   "metadata": {},
   "outputs": [],
   "source": [
    "%%sql\n",
    "\n"
   ]
  },
  {
   "cell_type": "code",
   "execution_count": null,
   "metadata": {},
   "outputs": [],
   "source": [
    "%%sql\n",
    "\n"
   ]
  },
  {
   "cell_type": "code",
   "execution_count": null,
   "metadata": {},
   "outputs": [],
   "source": [
    "%%sql\n",
    "\n"
   ]
  },
  {
   "cell_type": "code",
   "execution_count": null,
   "metadata": {},
   "outputs": [],
   "source": [
    "%%sql\n",
    "\n"
   ]
  },
  {
   "cell_type": "code",
   "execution_count": null,
   "metadata": {},
   "outputs": [],
   "source": [
    "%%sql\n",
    "\n"
   ]
  },
  {
   "cell_type": "code",
   "execution_count": null,
   "metadata": {},
   "outputs": [],
   "source": [
    "%%sql\n",
    "\n"
   ]
  },
  {
   "cell_type": "code",
   "execution_count": null,
   "metadata": {},
   "outputs": [],
   "source": [
    "%%sql\n",
    "\n"
   ]
  },
  {
   "cell_type": "markdown",
   "metadata": {},
   "source": [
    "# SQL: Delete\n",
    "\n",
    "Use `DELETE` clause to delete (remove) data from the database.\n"
   ]
  },
  {
   "cell_type": "code",
   "execution_count": null,
   "metadata": {},
   "outputs": [],
   "source": [
    "%%sql\n",
    "\n"
   ]
  },
  {
   "cell_type": "code",
   "execution_count": null,
   "metadata": {},
   "outputs": [],
   "source": [
    "%%sql\n",
    "\n"
   ]
  },
  {
   "cell_type": "markdown",
   "metadata": {},
   "source": [
    "# SQL: Conditional Delete\n",
    "\n",
    "Populate the database first"
   ]
  },
  {
   "cell_type": "code",
   "execution_count": null,
   "metadata": {},
   "outputs": [],
   "source": [
    "%%sql\n",
    "\n"
   ]
  },
  {
   "cell_type": "code",
   "execution_count": null,
   "metadata": {},
   "outputs": [],
   "source": [
    "%%sql\n",
    "\n"
   ]
  },
  {
   "cell_type": "code",
   "execution_count": null,
   "metadata": {},
   "outputs": [],
   "source": [
    "%%sql\n",
    "\n"
   ]
  },
  {
   "cell_type": "code",
   "execution_count": null,
   "metadata": {},
   "outputs": [],
   "source": [
    "%%sql\n",
    "\n"
   ]
  },
  {
   "cell_type": "code",
   "execution_count": null,
   "metadata": {},
   "outputs": [],
   "source": [
    "%%sql\n",
    "\n"
   ]
  },
  {
   "cell_type": "code",
   "execution_count": null,
   "metadata": {},
   "outputs": [],
   "source": [
    "%%sql\n",
    "\n"
   ]
  }
 ],
 "metadata": {
  "kernelspec": {
   "display_name": "Python 3",
   "language": "python",
   "name": "python3"
  },
  "language_info": {
   "codemirror_mode": {
    "name": "ipython",
    "version": 3
   },
   "file_extension": ".py",
   "mimetype": "text/x-python",
   "name": "python",
   "nbconvert_exporter": "python",
   "pygments_lexer": "ipython3",
   "version": "3.5.1"
  }
 },
 "nbformat": 4,
 "nbformat_minor": 2
}
