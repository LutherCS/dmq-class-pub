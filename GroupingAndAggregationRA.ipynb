{
 "cells": [
  {
   "cell_type": "markdown",
   "metadata": {},
   "source": [
    "# Grouping and Aggregation\n",
    "\n",
    "Consider some common questions (queries):\n",
    "\n",
    "1. Compare the surface area of the regions and sort in ascending order.\n",
    "\n",
    "1. Which continent has the largest surface area?\n",
    "\n",
    "1. List the total population of each continent and order them from smallest to largest\n",
    "\n",
    "1. List the total population of each region in Africa from lowest to highest.\n",
    "\n",
    "1. What regions have a high life expectancy?\n",
    "\n",
    "1. Which government form has the highest life expectancy?\n",
    "\n",
    "1. Compare government type and life expectancy.\n",
    "\n",
    "1. What is the most common form of government?\n",
    "\n",
    "1. What is the most common form of government in Asia?\n",
    "\n",
    "1. List the 10 government forms with the largest population.\n",
    "\n",
    "1. Which region has the highest total gnp?\n",
    "\n",
    "1. In which decade did the most countries achieve independence?\n"
   ]
  },
  {
   "cell_type": "markdown",
   "metadata": {},
   "source": [
    "All of these questions have something in common.  They ask you to summarize (aggregate) some data from a group of countries."
   ]
  },
  {
   "cell_type": "code",
   "execution_count": 1,
   "metadata": {},
   "outputs": [],
   "source": [
    "import warnings\n",
    "warnings.filterwarnings('ignore')\n",
    "\n",
    "from reframe import Relation\n",
    "\n",
    "country = Relation('/home/faculty/yasiro01/pub/country.csv', sep='|')\n"
   ]
  },
  {
   "cell_type": "markdown",
   "metadata": {},
   "source": [
    "Grouping must be followed by an aggregation function"
   ]
  },
  {
   "cell_type": "code",
   "execution_count": 2,
   "metadata": {},
   "outputs": [
    {
     "data": {
      "text/plain": [
       "<reframe.GroupWrap object at 0x7f8da8658278>"
      ]
     },
     "execution_count": 2,
     "metadata": {},
     "output_type": "execute_result"
    }
   ],
   "source": [
    "country.groupby(['region'])"
   ]
  },
  {
   "cell_type": "markdown",
   "metadata": {},
   "source": [
    "## How many countries are in each region?"
   ]
  },
  {
   "cell_type": "code",
   "execution_count": null,
   "metadata": {},
   "outputs": [],
   "source": []
  },
  {
   "cell_type": "markdown",
   "metadata": {},
   "source": [
    "## Idea: squash all the rows down to 1 per region, counting number of countries\n",
    "\n",
    "* Relational algebra uses operator `groupby` to aggregate date from one or more columns\n",
    "\n",
    "* `groupby` relies on aggregation operators\n",
    "  * count\n",
    "  * min\n",
    "  * max\n",
    "  * sum\n",
    "  * mean\n",
    "  * median\n",
    "\n",
    "* Aggregation is a very powerful technique that allows you to view and compare data"
   ]
  },
  {
   "cell_type": "markdown",
   "metadata": {},
   "source": [
    "## How many countries are in each region?"
   ]
  },
  {
   "cell_type": "code",
   "execution_count": null,
   "metadata": {},
   "outputs": [],
   "source": []
  },
  {
   "cell_type": "markdown",
   "metadata": {},
   "source": [
    "## How many countries are in each region of every continent?"
   ]
  },
  {
   "cell_type": "code",
   "execution_count": null,
   "metadata": {},
   "outputs": [],
   "source": []
  },
  {
   "cell_type": "markdown",
   "metadata": {},
   "source": [
    "## What is the average life expectancy for each continent?"
   ]
  },
  {
   "cell_type": "code",
   "execution_count": null,
   "metadata": {},
   "outputs": [],
   "source": []
  },
  {
   "cell_type": "markdown",
   "metadata": {},
   "source": [
    "## Regions where nobody lives"
   ]
  },
  {
   "cell_type": "code",
   "execution_count": null,
   "metadata": {},
   "outputs": [],
   "source": []
  },
  {
   "cell_type": "markdown",
   "metadata": {},
   "source": [
    "## Ok, jeopardy style... What question does the following query answer?"
   ]
  },
  {
   "cell_type": "code",
   "execution_count": null,
   "metadata": {},
   "outputs": [],
   "source": []
  },
  {
   "cell_type": "markdown",
   "metadata": {},
   "source": [
    "## What is the max gnp for any country in each region?"
   ]
  },
  {
   "cell_type": "code",
   "execution_count": null,
   "metadata": {},
   "outputs": [],
   "source": []
  },
  {
   "cell_type": "markdown",
   "metadata": {},
   "source": [
    "## Operator: Rename\n",
    "\n",
    "Notice that the column names have changed to aggregate_column. We can change that if we want to using the rename operator.\n"
   ]
  },
  {
   "cell_type": "code",
   "execution_count": null,
   "metadata": {},
   "outputs": [],
   "source": []
  },
  {
   "cell_type": "markdown",
   "metadata": {},
   "source": [
    "## List continents by their surface area"
   ]
  },
  {
   "cell_type": "code",
   "execution_count": null,
   "metadata": {},
   "outputs": [],
   "source": []
  },
  {
   "cell_type": "markdown",
   "metadata": {},
   "source": [
    "## What is the most popular government form in Asia?\n",
    "\n",
    "Of course combining groupby with query and project is an important part of problem solving.\n"
   ]
  },
  {
   "cell_type": "code",
   "execution_count": null,
   "metadata": {},
   "outputs": [],
   "source": []
  },
  {
   "cell_type": "markdown",
   "metadata": {},
   "source": [
    "Let's not worry about all forms that appear once\n"
   ]
  },
  {
   "cell_type": "code",
   "execution_count": null,
   "metadata": {},
   "outputs": [],
   "source": []
  }
 ],
 "metadata": {
  "kernelspec": {
   "display_name": "Python 3",
   "language": "python",
   "name": "python3"
  },
  "language_info": {
   "codemirror_mode": {
    "name": "ipython",
    "version": 3
   },
   "file_extension": ".py",
   "mimetype": "text/x-python",
   "name": "python",
   "nbconvert_exporter": "python",
   "pygments_lexer": "ipython3",
   "version": "3.5.1"
  }
 },
 "nbformat": 4,
 "nbformat_minor": 2
}
