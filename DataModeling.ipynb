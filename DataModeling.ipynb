{
 "cells": [
  {
   "cell_type": "markdown",
   "metadata": {},
   "source": [
    "# Data Modeling\n",
    "\n",
    "## Registration database"
   ]
  },
  {
   "cell_type": "markdown",
   "metadata": {},
   "source": [
    "## Modeling a Registration Database\n",
    "\n",
    "* It is registration time, and the registration process is driven by the online registration system\n",
    "* Lets think about this and develop a data model for registration\n",
    "* We'll use Logical Data Structure (LDS) for modeling\n",
    "\n",
    "\n",
    "1. What are the main entities involved?\n",
    "1. Ask the question \"what do we want to remember about each entity?\"\n",
    "1. How do we uniquely identify each entity?\n",
    "1. For each attribute, are there other things we want to remember? \n",
    "\n",
    "    1. If so, then promote that attribute to an entity\n",
    "    1. What are the relationships between these entities?\n"
   ]
  },
  {
   "cell_type": "markdown",
   "metadata": {},
   "source": [
    "# Data Model: Entities\n",
    "\n",
    "Here is one version of the model. This one has entities only, without any relationships.\n",
    "\n",
    "![](registrationdb_entities.png)"
   ]
  },
  {
   "cell_type": "markdown",
   "metadata": {},
   "source": [
    "# Data Model: Relationships\n",
    "\n",
    "Here is a version of the model with realtionships. **Notice that there are several many-many relationships**  These relationships need to be further evolved, but we will keep them this way for now.\n",
    "\n",
    "![](registrationdb_relationships.png)"
   ]
  },
  {
   "cell_type": "markdown",
   "metadata": {},
   "source": [
    "# Data Model: Converting to a Database\n",
    "\n",
    "* We will use SQL Data Definition Language (DDL) to create a table\n",
    "\n",
    "* Full documentation is here:\n",
    "  * [PostgreSQL 9.4](https://www.postgresql.org/docs/9.4/static/sql-createtable.html)\n",
    "  * [Latest PostgreSQL](https://www.postgresql.org/docs/current/static/sql-createtable.html)\n",
    "\n",
    "* More than you want to know at the moment\n",
    "\n",
    "* Give the table a name\n",
    "  * Singular noun\n",
    "\n",
    "* Describe each column (field) with a name and a data type\n",
    "  * integer\n",
    "  * real - float\n",
    "  * text - varchar\n",
    "  * date \n",
    "  \n",
    "* Describe any constraints\n",
    "  * One important constraint is to identify the primary key"
   ]
  },
  {
   "cell_type": "markdown",
   "metadata": {},
   "source": [
    "# SQL: Connecting to Your Database\n",
    "\n",
    "1. Load sql module in the notebook: `%load_ext sql`\n",
    "\n",
    "1. Connect to **your** database: `postgresql://yasiro01:@localhost/yasiro01`\n",
    "  * Replace *yasiro01* with your name both as a user and a database name"
   ]
  },
  {
   "cell_type": "code",
   "execution_count": 12,
   "metadata": {},
   "outputs": [
    {
     "name": "stdout",
     "output_type": "stream",
     "text": [
      "The sql extension is already loaded. To reload it, use:\n",
      "  %reload_ext sql\n"
     ]
    }
   ],
   "source": [
    "import warnings\n",
    "warnings.filterwarnings('ignore')\n",
    "\n",
    "%load_ext sql\n"
   ]
  },
  {
   "cell_type": "code",
   "execution_count": 13,
   "metadata": {},
   "outputs": [
    {
     "data": {
      "text/plain": [
       "'Connected: yasiro01@yasiro01'"
      ]
     },
     "execution_count": 13,
     "metadata": {},
     "output_type": "execute_result"
    }
   ],
   "source": [
    "%%sql \n",
    "\n",
    "postgresql://yasiro01:@localhost/yasiro01\n"
   ]
  },
  {
   "cell_type": "markdown",
   "metadata": {},
   "source": [
    "# SQL: Data Manipulation\n",
    "\n",
    "* **C**reate\n",
    "* **R**ead\n",
    "* **U**pdate\n",
    "* **D**elete"
   ]
  },
  {
   "cell_type": "markdown",
   "metadata": {},
   "source": [
    "# SQL: Database Structure Manipulation\n",
    "\n",
    "SQL can be used to create both the database structure and data inside."
   ]
  },
  {
   "cell_type": "code",
   "execution_count": 8,
   "metadata": {},
   "outputs": [
    {
     "name": "stdout",
     "output_type": "stream",
     "text": [
      "Done.\n",
      "Done.\n"
     ]
    },
    {
     "data": {
      "text/plain": [
       "[]"
      ]
     },
     "execution_count": 8,
     "metadata": {},
     "output_type": "execute_result"
    }
   ],
   "source": [
    "%%sql\n",
    "\n",
    "drop table if exists student;\n",
    "\n",
    "create table student(\n",
    "    username varchar(10) not null,\n",
    "    name_first varchar(20),\n",
    "    name_last varchar(20),\n",
    "    date_start date,\n",
    "    \n",
    "    constraint sid_key primary key(username)\n",
    ");"
   ]
  },
  {
   "cell_type": "markdown",
   "metadata": {},
   "source": [
    "# SQL: Medatada\n",
    "\n",
    "Each table hold description of the data (metadata) in its *INFORMATION_SCHEMA.COLUMNS*. Some metadata fields are:\n",
    "\n",
    "* table_name\n",
    "\n",
    "* column_name\n",
    "\n",
    "* is_nullable\n",
    "\n",
    "* character_maximum_length\n",
    "\n",
    "* is_updatable"
   ]
  },
  {
   "cell_type": "code",
   "execution_count": 14,
   "metadata": {},
   "outputs": [
    {
     "name": "stdout",
     "output_type": "stream",
     "text": [
      "4 rows affected.\n"
     ]
    },
    {
     "data": {
      "text/html": [
       "<table>\n",
       "    <tr>\n",
       "        <th>column_name</th>\n",
       "        <th>data_type</th>\n",
       "        <th>character_maximum_length</th>\n",
       "    </tr>\n",
       "    <tr>\n",
       "        <td>username</td>\n",
       "        <td>character varying</td>\n",
       "        <td>10</td>\n",
       "    </tr>\n",
       "    <tr>\n",
       "        <td>name_first</td>\n",
       "        <td>character varying</td>\n",
       "        <td>20</td>\n",
       "    </tr>\n",
       "    <tr>\n",
       "        <td>name_last</td>\n",
       "        <td>character varying</td>\n",
       "        <td>20</td>\n",
       "    </tr>\n",
       "    <tr>\n",
       "        <td>date_start</td>\n",
       "        <td>date</td>\n",
       "        <td>None</td>\n",
       "    </tr>\n",
       "</table>"
      ],
      "text/plain": [
       "[('username', 'character varying', 10),\n",
       " ('name_first', 'character varying', 20),\n",
       " ('name_last', 'character varying', 20),\n",
       " ('date_start', 'date', None)]"
      ]
     },
     "execution_count": 14,
     "metadata": {},
     "output_type": "execute_result"
    }
   ],
   "source": [
    "%%sql\n",
    "\n",
    "select column_name, data_type, character_maximum_length\n",
    "from INFORMATION_SCHEMA.COLUMNS\n",
    "where table_name = 'student';\n"
   ]
  },
  {
   "cell_type": "markdown",
   "metadata": {},
   "source": [
    "# SQL: Create\n",
    "\n",
    "SQL has another clause, `INSERT`, to add **data** to a database\n",
    "\n",
    "    insert into table (column_1, column_2, ..., column_n) values(value_1, value_2, ..., value_n);\n",
    "    \n",
    "The list of columns is optional. If it is not given then value_1, value_2, etc. must be in the order they appear in the create table statement. If you give the column list then the columns and values must be in the same order.\n",
    "\n",
    "If you do not give a column its value, it will be null or the default value you specify."
   ]
  },
  {
   "cell_type": "code",
   "execution_count": 17,
   "metadata": {},
   "outputs": [
    {
     "ename": "IntegrityError",
     "evalue": "(psycopg2.IntegrityError) duplicate key value violates unique constraint \"sid_key\"\nDETAIL:  Key (username)=(pottha01) already exists.\n [SQL: \"insert into student (username, name_first, name_last) values ('pottha01', 'Harry', 'Potter')\"] (Background on this error at: http://sqlalche.me/e/gkpj)",
     "output_type": "error",
     "traceback": [
      "\u001b[0;31m---------------------------------------------------------------------------\u001b[0m",
      "\u001b[0;31mIntegrityError\u001b[0m                            Traceback (most recent call last)",
      "\u001b[0;32m/usr/local/lib/python3.5/site-packages/sqlalchemy/engine/base.py\u001b[0m in \u001b[0;36m_execute_context\u001b[0;34m(self, dialect, constructor, statement, parameters, *args)\u001b[0m\n\u001b[1;32m   1192\u001b[0m                         \u001b[0mparameters\u001b[0m\u001b[0;34m,\u001b[0m\u001b[0;34m\u001b[0m\u001b[0m\n\u001b[0;32m-> 1193\u001b[0;31m                         context)\n\u001b[0m\u001b[1;32m   1194\u001b[0m         \u001b[0;32mexcept\u001b[0m \u001b[0mBaseException\u001b[0m \u001b[0;32mas\u001b[0m \u001b[0me\u001b[0m\u001b[0;34m:\u001b[0m\u001b[0;34m\u001b[0m\u001b[0m\n",
      "\u001b[0;32m/usr/local/lib/python3.5/site-packages/sqlalchemy/engine/default.py\u001b[0m in \u001b[0;36mdo_execute\u001b[0;34m(self, cursor, statement, parameters, context)\u001b[0m\n\u001b[1;32m    506\u001b[0m     \u001b[0;32mdef\u001b[0m \u001b[0mdo_execute\u001b[0m\u001b[0;34m(\u001b[0m\u001b[0mself\u001b[0m\u001b[0;34m,\u001b[0m \u001b[0mcursor\u001b[0m\u001b[0;34m,\u001b[0m \u001b[0mstatement\u001b[0m\u001b[0;34m,\u001b[0m \u001b[0mparameters\u001b[0m\u001b[0;34m,\u001b[0m \u001b[0mcontext\u001b[0m\u001b[0;34m=\u001b[0m\u001b[0;32mNone\u001b[0m\u001b[0;34m)\u001b[0m\u001b[0;34m:\u001b[0m\u001b[0;34m\u001b[0m\u001b[0m\n\u001b[0;32m--> 507\u001b[0;31m         \u001b[0mcursor\u001b[0m\u001b[0;34m.\u001b[0m\u001b[0mexecute\u001b[0m\u001b[0;34m(\u001b[0m\u001b[0mstatement\u001b[0m\u001b[0;34m,\u001b[0m \u001b[0mparameters\u001b[0m\u001b[0;34m)\u001b[0m\u001b[0;34m\u001b[0m\u001b[0m\n\u001b[0m\u001b[1;32m    508\u001b[0m \u001b[0;34m\u001b[0m\u001b[0m\n",
      "\u001b[0;31mIntegrityError\u001b[0m: duplicate key value violates unique constraint \"sid_key\"\nDETAIL:  Key (username)=(pottha01) already exists.\n",
      "\nThe above exception was the direct cause of the following exception:\n",
      "\u001b[0;31mIntegrityError\u001b[0m                            Traceback (most recent call last)",
      "\u001b[0;32m<ipython-input-17-df19e164277e>\u001b[0m in \u001b[0;36m<module>\u001b[0;34m()\u001b[0m\n\u001b[0;32m----> 1\u001b[0;31m \u001b[0mget_ipython\u001b[0m\u001b[0;34m(\u001b[0m\u001b[0;34m)\u001b[0m\u001b[0;34m.\u001b[0m\u001b[0mrun_cell_magic\u001b[0m\u001b[0;34m(\u001b[0m\u001b[0;34m'sql'\u001b[0m\u001b[0;34m,\u001b[0m \u001b[0;34m''\u001b[0m\u001b[0;34m,\u001b[0m \u001b[0;34m\"\\ninsert into student (username, name_first, name_last) values ('pottha01', 'Harry', 'Potter')\"\u001b[0m\u001b[0;34m)\u001b[0m\u001b[0;34m\u001b[0m\u001b[0m\n\u001b[0m",
      "\u001b[0;32m/usr/local/lib/python3.5/site-packages/IPython/core/interactiveshell.py\u001b[0m in \u001b[0;36mrun_cell_magic\u001b[0;34m(self, magic_name, line, cell)\u001b[0m\n\u001b[1;32m   2129\u001b[0m             \u001b[0mmagic_arg_s\u001b[0m \u001b[0;34m=\u001b[0m \u001b[0mself\u001b[0m\u001b[0;34m.\u001b[0m\u001b[0mvar_expand\u001b[0m\u001b[0;34m(\u001b[0m\u001b[0mline\u001b[0m\u001b[0;34m,\u001b[0m \u001b[0mstack_depth\u001b[0m\u001b[0;34m)\u001b[0m\u001b[0;34m\u001b[0m\u001b[0m\n\u001b[1;32m   2130\u001b[0m             \u001b[0;32mwith\u001b[0m \u001b[0mself\u001b[0m\u001b[0;34m.\u001b[0m\u001b[0mbuiltin_trap\u001b[0m\u001b[0;34m:\u001b[0m\u001b[0;34m\u001b[0m\u001b[0m\n\u001b[0;32m-> 2131\u001b[0;31m                 \u001b[0mresult\u001b[0m \u001b[0;34m=\u001b[0m \u001b[0mfn\u001b[0m\u001b[0;34m(\u001b[0m\u001b[0mmagic_arg_s\u001b[0m\u001b[0;34m,\u001b[0m \u001b[0mcell\u001b[0m\u001b[0;34m)\u001b[0m\u001b[0;34m\u001b[0m\u001b[0m\n\u001b[0m\u001b[1;32m   2132\u001b[0m             \u001b[0;32mreturn\u001b[0m \u001b[0mresult\u001b[0m\u001b[0;34m\u001b[0m\u001b[0m\n\u001b[1;32m   2133\u001b[0m \u001b[0;34m\u001b[0m\u001b[0m\n",
      "\u001b[0;32m<decorator-gen-156>\u001b[0m in \u001b[0;36mexecute\u001b[0;34m(self, line, cell, local_ns)\u001b[0m\n",
      "\u001b[0;32m/usr/local/lib/python3.5/site-packages/IPython/core/magic.py\u001b[0m in \u001b[0;36m<lambda>\u001b[0;34m(f, *a, **k)\u001b[0m\n\u001b[1;32m    185\u001b[0m     \u001b[0;31m# but it's overkill for just that one bit of state.\u001b[0m\u001b[0;34m\u001b[0m\u001b[0;34m\u001b[0m\u001b[0m\n\u001b[1;32m    186\u001b[0m     \u001b[0;32mdef\u001b[0m \u001b[0mmagic_deco\u001b[0m\u001b[0;34m(\u001b[0m\u001b[0marg\u001b[0m\u001b[0;34m)\u001b[0m\u001b[0;34m:\u001b[0m\u001b[0;34m\u001b[0m\u001b[0m\n\u001b[0;32m--> 187\u001b[0;31m         \u001b[0mcall\u001b[0m \u001b[0;34m=\u001b[0m \u001b[0;32mlambda\u001b[0m \u001b[0mf\u001b[0m\u001b[0;34m,\u001b[0m \u001b[0;34m*\u001b[0m\u001b[0ma\u001b[0m\u001b[0;34m,\u001b[0m \u001b[0;34m**\u001b[0m\u001b[0mk\u001b[0m\u001b[0;34m:\u001b[0m \u001b[0mf\u001b[0m\u001b[0;34m(\u001b[0m\u001b[0;34m*\u001b[0m\u001b[0ma\u001b[0m\u001b[0;34m,\u001b[0m \u001b[0;34m**\u001b[0m\u001b[0mk\u001b[0m\u001b[0;34m)\u001b[0m\u001b[0;34m\u001b[0m\u001b[0m\n\u001b[0m\u001b[1;32m    188\u001b[0m \u001b[0;34m\u001b[0m\u001b[0m\n\u001b[1;32m    189\u001b[0m         \u001b[0;32mif\u001b[0m \u001b[0mcallable\u001b[0m\u001b[0;34m(\u001b[0m\u001b[0marg\u001b[0m\u001b[0;34m)\u001b[0m\u001b[0;34m:\u001b[0m\u001b[0;34m\u001b[0m\u001b[0m\n",
      "\u001b[0;32m<decorator-gen-155>\u001b[0m in \u001b[0;36mexecute\u001b[0;34m(self, line, cell, local_ns)\u001b[0m\n",
      "\u001b[0;32m/usr/local/lib/python3.5/site-packages/IPython/core/magic.py\u001b[0m in \u001b[0;36m<lambda>\u001b[0;34m(f, *a, **k)\u001b[0m\n\u001b[1;32m    185\u001b[0m     \u001b[0;31m# but it's overkill for just that one bit of state.\u001b[0m\u001b[0;34m\u001b[0m\u001b[0;34m\u001b[0m\u001b[0m\n\u001b[1;32m    186\u001b[0m     \u001b[0;32mdef\u001b[0m \u001b[0mmagic_deco\u001b[0m\u001b[0;34m(\u001b[0m\u001b[0marg\u001b[0m\u001b[0;34m)\u001b[0m\u001b[0;34m:\u001b[0m\u001b[0;34m\u001b[0m\u001b[0m\n\u001b[0;32m--> 187\u001b[0;31m         \u001b[0mcall\u001b[0m \u001b[0;34m=\u001b[0m \u001b[0;32mlambda\u001b[0m \u001b[0mf\u001b[0m\u001b[0;34m,\u001b[0m \u001b[0;34m*\u001b[0m\u001b[0ma\u001b[0m\u001b[0;34m,\u001b[0m \u001b[0;34m**\u001b[0m\u001b[0mk\u001b[0m\u001b[0;34m:\u001b[0m \u001b[0mf\u001b[0m\u001b[0;34m(\u001b[0m\u001b[0;34m*\u001b[0m\u001b[0ma\u001b[0m\u001b[0;34m,\u001b[0m \u001b[0;34m**\u001b[0m\u001b[0mk\u001b[0m\u001b[0;34m)\u001b[0m\u001b[0;34m\u001b[0m\u001b[0m\n\u001b[0m\u001b[1;32m    188\u001b[0m \u001b[0;34m\u001b[0m\u001b[0m\n\u001b[1;32m    189\u001b[0m         \u001b[0;32mif\u001b[0m \u001b[0mcallable\u001b[0m\u001b[0;34m(\u001b[0m\u001b[0marg\u001b[0m\u001b[0;34m)\u001b[0m\u001b[0;34m:\u001b[0m\u001b[0;34m\u001b[0m\u001b[0m\n",
      "\u001b[0;32m/usr/local/lib/python3.5/site-packages/sql/magic.py\u001b[0m in \u001b[0;36mexecute\u001b[0;34m(self, line, cell, local_ns)\u001b[0m\n\u001b[1;32m     85\u001b[0m \u001b[0;34m\u001b[0m\u001b[0m\n\u001b[1;32m     86\u001b[0m         \u001b[0;32mtry\u001b[0m\u001b[0;34m:\u001b[0m\u001b[0;34m\u001b[0m\u001b[0m\n\u001b[0;32m---> 87\u001b[0;31m             \u001b[0mresult\u001b[0m \u001b[0;34m=\u001b[0m \u001b[0msql\u001b[0m\u001b[0;34m.\u001b[0m\u001b[0mrun\u001b[0m\u001b[0;34m.\u001b[0m\u001b[0mrun\u001b[0m\u001b[0;34m(\u001b[0m\u001b[0mconn\u001b[0m\u001b[0;34m,\u001b[0m \u001b[0mparsed\u001b[0m\u001b[0;34m[\u001b[0m\u001b[0;34m'sql'\u001b[0m\u001b[0;34m]\u001b[0m\u001b[0;34m,\u001b[0m \u001b[0mself\u001b[0m\u001b[0;34m,\u001b[0m \u001b[0muser_ns\u001b[0m\u001b[0;34m)\u001b[0m\u001b[0;34m\u001b[0m\u001b[0m\n\u001b[0m\u001b[1;32m     88\u001b[0m \u001b[0;34m\u001b[0m\u001b[0m\n\u001b[1;32m     89\u001b[0m             \u001b[0;32mif\u001b[0m \u001b[0mresult\u001b[0m \u001b[0;32mand\u001b[0m \u001b[0;34m~\u001b[0m\u001b[0misinstance\u001b[0m\u001b[0;34m(\u001b[0m\u001b[0mresult\u001b[0m\u001b[0;34m,\u001b[0m \u001b[0mstr\u001b[0m\u001b[0;34m)\u001b[0m \u001b[0;32mand\u001b[0m \u001b[0mself\u001b[0m\u001b[0;34m.\u001b[0m\u001b[0mcolumn_local_vars\u001b[0m\u001b[0;34m:\u001b[0m\u001b[0;34m\u001b[0m\u001b[0m\n",
      "\u001b[0;32m/usr/local/lib/python3.5/site-packages/sql/run.py\u001b[0m in \u001b[0;36mrun\u001b[0;34m(conn, sql, config, user_namespace)\u001b[0m\n\u001b[1;32m    274\u001b[0m                 \u001b[0;32mraise\u001b[0m \u001b[0mException\u001b[0m\u001b[0;34m(\u001b[0m\u001b[0;34m\"ipython_sql does not support transactions\"\u001b[0m\u001b[0;34m)\u001b[0m\u001b[0;34m\u001b[0m\u001b[0m\n\u001b[1;32m    275\u001b[0m             \u001b[0mtxt\u001b[0m \u001b[0;34m=\u001b[0m \u001b[0msqlalchemy\u001b[0m\u001b[0;34m.\u001b[0m\u001b[0msql\u001b[0m\u001b[0;34m.\u001b[0m\u001b[0mtext\u001b[0m\u001b[0;34m(\u001b[0m\u001b[0mstatement\u001b[0m\u001b[0;34m)\u001b[0m\u001b[0;34m\u001b[0m\u001b[0m\n\u001b[0;32m--> 276\u001b[0;31m             \u001b[0mresult\u001b[0m \u001b[0;34m=\u001b[0m \u001b[0mconn\u001b[0m\u001b[0;34m.\u001b[0m\u001b[0msession\u001b[0m\u001b[0;34m.\u001b[0m\u001b[0mexecute\u001b[0m\u001b[0;34m(\u001b[0m\u001b[0mtxt\u001b[0m\u001b[0;34m,\u001b[0m \u001b[0muser_namespace\u001b[0m\u001b[0;34m)\u001b[0m\u001b[0;34m\u001b[0m\u001b[0m\n\u001b[0m\u001b[1;32m    277\u001b[0m             \u001b[0;32mtry\u001b[0m\u001b[0;34m:\u001b[0m\u001b[0;34m\u001b[0m\u001b[0m\n\u001b[1;32m    278\u001b[0m                 \u001b[0;31m# mssql has autocommit\u001b[0m\u001b[0;34m\u001b[0m\u001b[0;34m\u001b[0m\u001b[0m\n",
      "\u001b[0;32m/usr/local/lib/python3.5/site-packages/sqlalchemy/engine/base.py\u001b[0m in \u001b[0;36mexecute\u001b[0;34m(self, object, *multiparams, **params)\u001b[0m\n\u001b[1;32m    946\u001b[0m             \u001b[0;32mraise\u001b[0m \u001b[0mexc\u001b[0m\u001b[0;34m.\u001b[0m\u001b[0mObjectNotExecutableError\u001b[0m\u001b[0;34m(\u001b[0m\u001b[0mobject\u001b[0m\u001b[0;34m)\u001b[0m\u001b[0;34m\u001b[0m\u001b[0m\n\u001b[1;32m    947\u001b[0m         \u001b[0;32melse\u001b[0m\u001b[0;34m:\u001b[0m\u001b[0;34m\u001b[0m\u001b[0m\n\u001b[0;32m--> 948\u001b[0;31m             \u001b[0;32mreturn\u001b[0m \u001b[0mmeth\u001b[0m\u001b[0;34m(\u001b[0m\u001b[0mself\u001b[0m\u001b[0;34m,\u001b[0m \u001b[0mmultiparams\u001b[0m\u001b[0;34m,\u001b[0m \u001b[0mparams\u001b[0m\u001b[0;34m)\u001b[0m\u001b[0;34m\u001b[0m\u001b[0m\n\u001b[0m\u001b[1;32m    949\u001b[0m \u001b[0;34m\u001b[0m\u001b[0m\n\u001b[1;32m    950\u001b[0m     \u001b[0;32mdef\u001b[0m \u001b[0m_execute_function\u001b[0m\u001b[0;34m(\u001b[0m\u001b[0mself\u001b[0m\u001b[0;34m,\u001b[0m \u001b[0mfunc\u001b[0m\u001b[0;34m,\u001b[0m \u001b[0mmultiparams\u001b[0m\u001b[0;34m,\u001b[0m \u001b[0mparams\u001b[0m\u001b[0;34m)\u001b[0m\u001b[0;34m:\u001b[0m\u001b[0;34m\u001b[0m\u001b[0m\n",
      "\u001b[0;32m/usr/local/lib/python3.5/site-packages/sqlalchemy/sql/elements.py\u001b[0m in \u001b[0;36m_execute_on_connection\u001b[0;34m(self, connection, multiparams, params)\u001b[0m\n\u001b[1;32m    267\u001b[0m     \u001b[0;32mdef\u001b[0m \u001b[0m_execute_on_connection\u001b[0m\u001b[0;34m(\u001b[0m\u001b[0mself\u001b[0m\u001b[0;34m,\u001b[0m \u001b[0mconnection\u001b[0m\u001b[0;34m,\u001b[0m \u001b[0mmultiparams\u001b[0m\u001b[0;34m,\u001b[0m \u001b[0mparams\u001b[0m\u001b[0;34m)\u001b[0m\u001b[0;34m:\u001b[0m\u001b[0;34m\u001b[0m\u001b[0m\n\u001b[1;32m    268\u001b[0m         \u001b[0;32mif\u001b[0m \u001b[0mself\u001b[0m\u001b[0;34m.\u001b[0m\u001b[0msupports_execution\u001b[0m\u001b[0;34m:\u001b[0m\u001b[0;34m\u001b[0m\u001b[0m\n\u001b[0;32m--> 269\u001b[0;31m             \u001b[0;32mreturn\u001b[0m \u001b[0mconnection\u001b[0m\u001b[0;34m.\u001b[0m\u001b[0m_execute_clauseelement\u001b[0m\u001b[0;34m(\u001b[0m\u001b[0mself\u001b[0m\u001b[0;34m,\u001b[0m \u001b[0mmultiparams\u001b[0m\u001b[0;34m,\u001b[0m \u001b[0mparams\u001b[0m\u001b[0;34m)\u001b[0m\u001b[0;34m\u001b[0m\u001b[0m\n\u001b[0m\u001b[1;32m    270\u001b[0m         \u001b[0;32melse\u001b[0m\u001b[0;34m:\u001b[0m\u001b[0;34m\u001b[0m\u001b[0m\n\u001b[1;32m    271\u001b[0m             \u001b[0;32mraise\u001b[0m \u001b[0mexc\u001b[0m\u001b[0;34m.\u001b[0m\u001b[0mObjectNotExecutableError\u001b[0m\u001b[0;34m(\u001b[0m\u001b[0mself\u001b[0m\u001b[0;34m)\u001b[0m\u001b[0;34m\u001b[0m\u001b[0m\n",
      "\u001b[0;32m/usr/local/lib/python3.5/site-packages/sqlalchemy/engine/base.py\u001b[0m in \u001b[0;36m_execute_clauseelement\u001b[0;34m(self, elem, multiparams, params)\u001b[0m\n\u001b[1;32m   1058\u001b[0m             \u001b[0mcompiled_sql\u001b[0m\u001b[0;34m,\u001b[0m\u001b[0;34m\u001b[0m\u001b[0m\n\u001b[1;32m   1059\u001b[0m             \u001b[0mdistilled_params\u001b[0m\u001b[0;34m,\u001b[0m\u001b[0;34m\u001b[0m\u001b[0m\n\u001b[0;32m-> 1060\u001b[0;31m             \u001b[0mcompiled_sql\u001b[0m\u001b[0;34m,\u001b[0m \u001b[0mdistilled_params\u001b[0m\u001b[0;34m\u001b[0m\u001b[0m\n\u001b[0m\u001b[1;32m   1061\u001b[0m         )\n\u001b[1;32m   1062\u001b[0m         \u001b[0;32mif\u001b[0m \u001b[0mself\u001b[0m\u001b[0;34m.\u001b[0m\u001b[0m_has_events\u001b[0m \u001b[0;32mor\u001b[0m \u001b[0mself\u001b[0m\u001b[0;34m.\u001b[0m\u001b[0mengine\u001b[0m\u001b[0;34m.\u001b[0m\u001b[0m_has_events\u001b[0m\u001b[0;34m:\u001b[0m\u001b[0;34m\u001b[0m\u001b[0m\n",
      "\u001b[0;32m/usr/local/lib/python3.5/site-packages/sqlalchemy/engine/base.py\u001b[0m in \u001b[0;36m_execute_context\u001b[0;34m(self, dialect, constructor, statement, parameters, *args)\u001b[0m\n\u001b[1;32m   1198\u001b[0m                 \u001b[0mparameters\u001b[0m\u001b[0;34m,\u001b[0m\u001b[0;34m\u001b[0m\u001b[0m\n\u001b[1;32m   1199\u001b[0m                 \u001b[0mcursor\u001b[0m\u001b[0;34m,\u001b[0m\u001b[0;34m\u001b[0m\u001b[0m\n\u001b[0;32m-> 1200\u001b[0;31m                 context)\n\u001b[0m\u001b[1;32m   1201\u001b[0m \u001b[0;34m\u001b[0m\u001b[0m\n\u001b[1;32m   1202\u001b[0m         \u001b[0;32mif\u001b[0m \u001b[0mself\u001b[0m\u001b[0;34m.\u001b[0m\u001b[0m_has_events\u001b[0m \u001b[0;32mor\u001b[0m \u001b[0mself\u001b[0m\u001b[0;34m.\u001b[0m\u001b[0mengine\u001b[0m\u001b[0;34m.\u001b[0m\u001b[0m_has_events\u001b[0m\u001b[0;34m:\u001b[0m\u001b[0;34m\u001b[0m\u001b[0m\n",
      "\u001b[0;32m/usr/local/lib/python3.5/site-packages/sqlalchemy/engine/base.py\u001b[0m in \u001b[0;36m_handle_dbapi_exception\u001b[0;34m(self, e, statement, parameters, cursor, context)\u001b[0m\n\u001b[1;32m   1411\u001b[0m                 util.raise_from_cause(\n\u001b[1;32m   1412\u001b[0m                     \u001b[0msqlalchemy_exception\u001b[0m\u001b[0;34m,\u001b[0m\u001b[0;34m\u001b[0m\u001b[0m\n\u001b[0;32m-> 1413\u001b[0;31m                     \u001b[0mexc_info\u001b[0m\u001b[0;34m\u001b[0m\u001b[0m\n\u001b[0m\u001b[1;32m   1414\u001b[0m                 )\n\u001b[1;32m   1415\u001b[0m             \u001b[0;32melse\u001b[0m\u001b[0;34m:\u001b[0m\u001b[0;34m\u001b[0m\u001b[0m\n",
      "\u001b[0;32m/usr/local/lib/python3.5/site-packages/sqlalchemy/util/compat.py\u001b[0m in \u001b[0;36mraise_from_cause\u001b[0;34m(exception, exc_info)\u001b[0m\n\u001b[1;32m    201\u001b[0m     \u001b[0mexc_type\u001b[0m\u001b[0;34m,\u001b[0m \u001b[0mexc_value\u001b[0m\u001b[0;34m,\u001b[0m \u001b[0mexc_tb\u001b[0m \u001b[0;34m=\u001b[0m \u001b[0mexc_info\u001b[0m\u001b[0;34m\u001b[0m\u001b[0m\n\u001b[1;32m    202\u001b[0m     \u001b[0mcause\u001b[0m \u001b[0;34m=\u001b[0m \u001b[0mexc_value\u001b[0m \u001b[0;32mif\u001b[0m \u001b[0mexc_value\u001b[0m \u001b[0;32mis\u001b[0m \u001b[0;32mnot\u001b[0m \u001b[0mexception\u001b[0m \u001b[0;32melse\u001b[0m \u001b[0;32mNone\u001b[0m\u001b[0;34m\u001b[0m\u001b[0m\n\u001b[0;32m--> 203\u001b[0;31m     \u001b[0mreraise\u001b[0m\u001b[0;34m(\u001b[0m\u001b[0mtype\u001b[0m\u001b[0;34m(\u001b[0m\u001b[0mexception\u001b[0m\u001b[0;34m)\u001b[0m\u001b[0;34m,\u001b[0m \u001b[0mexception\u001b[0m\u001b[0;34m,\u001b[0m \u001b[0mtb\u001b[0m\u001b[0;34m=\u001b[0m\u001b[0mexc_tb\u001b[0m\u001b[0;34m,\u001b[0m \u001b[0mcause\u001b[0m\u001b[0;34m=\u001b[0m\u001b[0mcause\u001b[0m\u001b[0;34m)\u001b[0m\u001b[0;34m\u001b[0m\u001b[0m\n\u001b[0m\u001b[1;32m    204\u001b[0m \u001b[0;34m\u001b[0m\u001b[0m\n\u001b[1;32m    205\u001b[0m \u001b[0;32mif\u001b[0m \u001b[0mpy3k\u001b[0m\u001b[0;34m:\u001b[0m\u001b[0;34m\u001b[0m\u001b[0m\n",
      "\u001b[0;32m/usr/local/lib/python3.5/site-packages/sqlalchemy/util/compat.py\u001b[0m in \u001b[0;36mreraise\u001b[0;34m(tp, value, tb, cause)\u001b[0m\n\u001b[1;32m    184\u001b[0m             \u001b[0mvalue\u001b[0m\u001b[0;34m.\u001b[0m\u001b[0m__cause__\u001b[0m \u001b[0;34m=\u001b[0m \u001b[0mcause\u001b[0m\u001b[0;34m\u001b[0m\u001b[0m\n\u001b[1;32m    185\u001b[0m         \u001b[0;32mif\u001b[0m \u001b[0mvalue\u001b[0m\u001b[0;34m.\u001b[0m\u001b[0m__traceback__\u001b[0m \u001b[0;32mis\u001b[0m \u001b[0;32mnot\u001b[0m \u001b[0mtb\u001b[0m\u001b[0;34m:\u001b[0m\u001b[0;34m\u001b[0m\u001b[0m\n\u001b[0;32m--> 186\u001b[0;31m             \u001b[0;32mraise\u001b[0m \u001b[0mvalue\u001b[0m\u001b[0;34m.\u001b[0m\u001b[0mwith_traceback\u001b[0m\u001b[0;34m(\u001b[0m\u001b[0mtb\u001b[0m\u001b[0;34m)\u001b[0m\u001b[0;34m\u001b[0m\u001b[0m\n\u001b[0m\u001b[1;32m    187\u001b[0m         \u001b[0;32mraise\u001b[0m \u001b[0mvalue\u001b[0m\u001b[0;34m\u001b[0m\u001b[0m\n\u001b[1;32m    188\u001b[0m \u001b[0;34m\u001b[0m\u001b[0m\n",
      "\u001b[0;32m/usr/local/lib/python3.5/site-packages/sqlalchemy/engine/base.py\u001b[0m in \u001b[0;36m_execute_context\u001b[0;34m(self, dialect, constructor, statement, parameters, *args)\u001b[0m\n\u001b[1;32m   1191\u001b[0m                         \u001b[0mstatement\u001b[0m\u001b[0;34m,\u001b[0m\u001b[0;34m\u001b[0m\u001b[0m\n\u001b[1;32m   1192\u001b[0m                         \u001b[0mparameters\u001b[0m\u001b[0;34m,\u001b[0m\u001b[0;34m\u001b[0m\u001b[0m\n\u001b[0;32m-> 1193\u001b[0;31m                         context)\n\u001b[0m\u001b[1;32m   1194\u001b[0m         \u001b[0;32mexcept\u001b[0m \u001b[0mBaseException\u001b[0m \u001b[0;32mas\u001b[0m \u001b[0me\u001b[0m\u001b[0;34m:\u001b[0m\u001b[0;34m\u001b[0m\u001b[0m\n\u001b[1;32m   1195\u001b[0m             self._handle_dbapi_exception(\n",
      "\u001b[0;32m/usr/local/lib/python3.5/site-packages/sqlalchemy/engine/default.py\u001b[0m in \u001b[0;36mdo_execute\u001b[0;34m(self, cursor, statement, parameters, context)\u001b[0m\n\u001b[1;32m    505\u001b[0m \u001b[0;34m\u001b[0m\u001b[0m\n\u001b[1;32m    506\u001b[0m     \u001b[0;32mdef\u001b[0m \u001b[0mdo_execute\u001b[0m\u001b[0;34m(\u001b[0m\u001b[0mself\u001b[0m\u001b[0;34m,\u001b[0m \u001b[0mcursor\u001b[0m\u001b[0;34m,\u001b[0m \u001b[0mstatement\u001b[0m\u001b[0;34m,\u001b[0m \u001b[0mparameters\u001b[0m\u001b[0;34m,\u001b[0m \u001b[0mcontext\u001b[0m\u001b[0;34m=\u001b[0m\u001b[0;32mNone\u001b[0m\u001b[0;34m)\u001b[0m\u001b[0;34m:\u001b[0m\u001b[0;34m\u001b[0m\u001b[0m\n\u001b[0;32m--> 507\u001b[0;31m         \u001b[0mcursor\u001b[0m\u001b[0;34m.\u001b[0m\u001b[0mexecute\u001b[0m\u001b[0;34m(\u001b[0m\u001b[0mstatement\u001b[0m\u001b[0;34m,\u001b[0m \u001b[0mparameters\u001b[0m\u001b[0;34m)\u001b[0m\u001b[0;34m\u001b[0m\u001b[0m\n\u001b[0m\u001b[1;32m    508\u001b[0m \u001b[0;34m\u001b[0m\u001b[0m\n\u001b[1;32m    509\u001b[0m     \u001b[0;32mdef\u001b[0m \u001b[0mdo_execute_no_params\u001b[0m\u001b[0;34m(\u001b[0m\u001b[0mself\u001b[0m\u001b[0;34m,\u001b[0m \u001b[0mcursor\u001b[0m\u001b[0;34m,\u001b[0m \u001b[0mstatement\u001b[0m\u001b[0;34m,\u001b[0m \u001b[0mcontext\u001b[0m\u001b[0;34m=\u001b[0m\u001b[0;32mNone\u001b[0m\u001b[0;34m)\u001b[0m\u001b[0;34m:\u001b[0m\u001b[0;34m\u001b[0m\u001b[0m\n",
      "\u001b[0;31mIntegrityError\u001b[0m: (psycopg2.IntegrityError) duplicate key value violates unique constraint \"sid_key\"\nDETAIL:  Key (username)=(pottha01) already exists.\n [SQL: \"insert into student (username, name_first, name_last) values ('pottha01', 'Harry', 'Potter')\"] (Background on this error at: http://sqlalche.me/e/gkpj)"
     ]
    }
   ],
   "source": [
    "%%sql\n",
    "\n",
    "insert into student (username, name_first, name_last) values ('pottha01', 'Harry', 'Potter')"
   ]
  },
  {
   "cell_type": "code",
   "execution_count": 19,
   "metadata": {},
   "outputs": [
    {
     "name": "stdout",
     "output_type": "stream",
     "text": [
      "1 rows affected.\n",
      "1 rows affected.\n"
     ]
    },
    {
     "data": {
      "text/plain": [
       "[]"
      ]
     },
     "execution_count": 19,
     "metadata": {},
     "output_type": "execute_result"
    }
   ],
   "source": [
    "%%sql\n",
    "\n",
    "insert into student (username, name_first, name_last) values ('weasro02', 'Ron', 'Weasley');\n",
    "insert into student values ('granhe03', 'Hermione', 'Granger', '2018-02-23');"
   ]
  },
  {
   "cell_type": "code",
   "execution_count": 21,
   "metadata": {},
   "outputs": [
    {
     "name": "stdout",
     "output_type": "stream",
     "text": [
      "1 rows affected.\n"
     ]
    },
    {
     "data": {
      "text/plain": [
       "[]"
      ]
     },
     "execution_count": 21,
     "metadata": {},
     "output_type": "execute_result"
    }
   ],
   "source": [
    "%%sql\n",
    "\n",
    "insert into student values ('weasfr04', 'Fred', 'Weasley')"
   ]
  },
  {
   "cell_type": "markdown",
   "metadata": {},
   "source": [
    "# SQL: Read\n",
    "\n",
    "Use `SELECT` clause to read (retrieve) data from the database."
   ]
  },
  {
   "cell_type": "code",
   "execution_count": 22,
   "metadata": {},
   "outputs": [
    {
     "name": "stdout",
     "output_type": "stream",
     "text": [
      "4 rows affected.\n"
     ]
    },
    {
     "data": {
      "text/html": [
       "<table>\n",
       "    <tr>\n",
       "        <th>username</th>\n",
       "        <th>name_first</th>\n",
       "        <th>name_last</th>\n",
       "        <th>date_start</th>\n",
       "    </tr>\n",
       "    <tr>\n",
       "        <td>pottha01</td>\n",
       "        <td>Harry</td>\n",
       "        <td>Potter</td>\n",
       "        <td>None</td>\n",
       "    </tr>\n",
       "    <tr>\n",
       "        <td>weasro02</td>\n",
       "        <td>Ron</td>\n",
       "        <td>Weasley</td>\n",
       "        <td>None</td>\n",
       "    </tr>\n",
       "    <tr>\n",
       "        <td>granhe03</td>\n",
       "        <td>Hermione</td>\n",
       "        <td>Granger</td>\n",
       "        <td>2018-02-23</td>\n",
       "    </tr>\n",
       "    <tr>\n",
       "        <td>weasfr04</td>\n",
       "        <td>Fred</td>\n",
       "        <td>Weasley</td>\n",
       "        <td>None</td>\n",
       "    </tr>\n",
       "</table>"
      ],
      "text/plain": [
       "[('pottha01', 'Harry', 'Potter', None),\n",
       " ('weasro02', 'Ron', 'Weasley', None),\n",
       " ('granhe03', 'Hermione', 'Granger', datetime.date(2018, 2, 23)),\n",
       " ('weasfr04', 'Fred', 'Weasley', None)]"
      ]
     },
     "execution_count": 22,
     "metadata": {},
     "output_type": "execute_result"
    }
   ],
   "source": [
    "%%sql\n",
    "\n",
    "select *\n",
    "from student;\n"
   ]
  },
  {
   "cell_type": "markdown",
   "metadata": {},
   "source": [
    "# SQL: Conditional Read"
   ]
  },
  {
   "cell_type": "code",
   "execution_count": 37,
   "metadata": {},
   "outputs": [
    {
     "name": "stdout",
     "output_type": "stream",
     "text": [
      "3 rows affected.\n"
     ]
    },
    {
     "data": {
      "text/html": [
       "<table>\n",
       "    <tr>\n",
       "        <th>username</th>\n",
       "        <th>name_first</th>\n",
       "        <th>name_last</th>\n",
       "        <th>date_start</th>\n",
       "    </tr>\n",
       "    <tr>\n",
       "        <td>pottha01</td>\n",
       "        <td>Harry</td>\n",
       "        <td>Potter</td>\n",
       "        <td>None</td>\n",
       "    </tr>\n",
       "    <tr>\n",
       "        <td>weasro02</td>\n",
       "        <td>Ron</td>\n",
       "        <td>Weasley</td>\n",
       "        <td>None</td>\n",
       "    </tr>\n",
       "    <tr>\n",
       "        <td>weasfr04</td>\n",
       "        <td>Fred</td>\n",
       "        <td>Weasley</td>\n",
       "        <td>None</td>\n",
       "    </tr>\n",
       "</table>"
      ],
      "text/plain": [
       "[('pottha01', 'Harry', 'Potter', None),\n",
       " ('weasro02', 'Ron', 'Weasley', None),\n",
       " ('weasfr04', 'Fred', 'Weasley', None)]"
      ]
     },
     "execution_count": 37,
     "metadata": {},
     "output_type": "execute_result"
    }
   ],
   "source": [
    "%%sql\n",
    "\n",
    "select *\n",
    "from student\n",
    "where date_start is null;\n"
   ]
  },
  {
   "cell_type": "markdown",
   "metadata": {},
   "source": [
    "# SQL: Update\n",
    "\n",
    "Use `UPDATE` clause to update (change) data in the database.\n"
   ]
  },
  {
   "cell_type": "code",
   "execution_count": 38,
   "metadata": {},
   "outputs": [
    {
     "name": "stdout",
     "output_type": "stream",
     "text": [
      "4 rows affected.\n"
     ]
    },
    {
     "data": {
      "text/plain": [
       "[]"
      ]
     },
     "execution_count": 38,
     "metadata": {},
     "output_type": "execute_result"
    }
   ],
   "source": [
    "%%sql\n",
    "\n",
    "update student\n",
    "set date_start = '02/08/2018';\n"
   ]
  },
  {
   "cell_type": "code",
   "execution_count": 39,
   "metadata": {},
   "outputs": [
    {
     "name": "stdout",
     "output_type": "stream",
     "text": [
      "4 rows affected.\n"
     ]
    },
    {
     "data": {
      "text/html": [
       "<table>\n",
       "    <tr>\n",
       "        <th>username</th>\n",
       "        <th>name_first</th>\n",
       "        <th>name_last</th>\n",
       "        <th>date_start</th>\n",
       "    </tr>\n",
       "    <tr>\n",
       "        <td>pottha01</td>\n",
       "        <td>Harry</td>\n",
       "        <td>Potter</td>\n",
       "        <td>2018-02-08</td>\n",
       "    </tr>\n",
       "    <tr>\n",
       "        <td>weasro02</td>\n",
       "        <td>Ron</td>\n",
       "        <td>Weasley</td>\n",
       "        <td>2018-02-08</td>\n",
       "    </tr>\n",
       "    <tr>\n",
       "        <td>granhe03</td>\n",
       "        <td>Hermione</td>\n",
       "        <td>Granger</td>\n",
       "        <td>2018-02-08</td>\n",
       "    </tr>\n",
       "    <tr>\n",
       "        <td>weasfr04</td>\n",
       "        <td>Fred</td>\n",
       "        <td>Weasley</td>\n",
       "        <td>2018-02-08</td>\n",
       "    </tr>\n",
       "</table>"
      ],
      "text/plain": [
       "[('pottha01', 'Harry', 'Potter', datetime.date(2018, 2, 8)),\n",
       " ('weasro02', 'Ron', 'Weasley', datetime.date(2018, 2, 8)),\n",
       " ('granhe03', 'Hermione', 'Granger', datetime.date(2018, 2, 8)),\n",
       " ('weasfr04', 'Fred', 'Weasley', datetime.date(2018, 2, 8))]"
      ]
     },
     "execution_count": 39,
     "metadata": {},
     "output_type": "execute_result"
    }
   ],
   "source": [
    "%%sql\n",
    "\n",
    "select *\n",
    "from student;\n"
   ]
  },
  {
   "cell_type": "markdown",
   "metadata": {},
   "source": [
    "# SQL: Conditional Update\n",
    "\n",
    "Populate the database first"
   ]
  },
  {
   "cell_type": "code",
   "execution_count": 50,
   "metadata": {},
   "outputs": [
    {
     "name": "stdout",
     "output_type": "stream",
     "text": [
      "1 rows affected.\n",
      "1 rows affected.\n",
      "1 rows affected.\n",
      "1 rows affected.\n",
      "1 rows affected.\n",
      "1 rows affected.\n"
     ]
    },
    {
     "data": {
      "text/plain": [
       "[]"
      ]
     },
     "execution_count": 50,
     "metadata": {},
     "output_type": "execute_result"
    }
   ],
   "source": [
    "%%sql\n",
    "\n",
    "insert into student values('aarda01', 'Alice', 'Aardvark', '2018-02-08');\n",
    "insert into student values('beavbo02', 'Bob', 'Beaver', '2018/02/08');\n",
    "insert into student values('cheech03', 'Charlie', 'Cheetah', '20180208');\n",
    "insert into student values('dolpdi04', 'Diana', 'Dolphin', '02/08/2018');\n",
    "insert into student values('elepev05', 'Eve', 'Elephant', '2/8/2018');\n",
    "insert into student values('flamfr06', 'Fred', 'Flamingo');"
   ]
  },
  {
   "cell_type": "code",
   "execution_count": 42,
   "metadata": {},
   "outputs": [
    {
     "name": "stdout",
     "output_type": "stream",
     "text": [
      "1 rows affected.\n"
     ]
    },
    {
     "data": {
      "text/plain": [
       "[]"
      ]
     },
     "execution_count": 42,
     "metadata": {},
     "output_type": "execute_result"
    }
   ],
   "source": [
    "%%sql\n",
    "\n",
    "insert into student values('girage07', 'George', 'Giraffe', '2/23/18');"
   ]
  },
  {
   "cell_type": "code",
   "execution_count": 43,
   "metadata": {},
   "outputs": [
    {
     "name": "stdout",
     "output_type": "stream",
     "text": [
      "11 rows affected.\n"
     ]
    },
    {
     "data": {
      "text/html": [
       "<table>\n",
       "    <tr>\n",
       "        <th>username</th>\n",
       "        <th>name_first</th>\n",
       "        <th>name_last</th>\n",
       "        <th>date_start</th>\n",
       "    </tr>\n",
       "    <tr>\n",
       "        <td>pottha01</td>\n",
       "        <td>Harry</td>\n",
       "        <td>Potter</td>\n",
       "        <td>2018-02-08</td>\n",
       "    </tr>\n",
       "    <tr>\n",
       "        <td>weasro02</td>\n",
       "        <td>Ron</td>\n",
       "        <td>Weasley</td>\n",
       "        <td>2018-02-08</td>\n",
       "    </tr>\n",
       "    <tr>\n",
       "        <td>granhe03</td>\n",
       "        <td>Hermione</td>\n",
       "        <td>Granger</td>\n",
       "        <td>2018-02-08</td>\n",
       "    </tr>\n",
       "    <tr>\n",
       "        <td>weasfr04</td>\n",
       "        <td>Fred</td>\n",
       "        <td>Weasley</td>\n",
       "        <td>2018-02-08</td>\n",
       "    </tr>\n",
       "    <tr>\n",
       "        <td>aarda01</td>\n",
       "        <td>Alice</td>\n",
       "        <td>Aardvark</td>\n",
       "        <td>2018-02-08</td>\n",
       "    </tr>\n",
       "    <tr>\n",
       "        <td>beavbo02</td>\n",
       "        <td>Bob</td>\n",
       "        <td>Beaver</td>\n",
       "        <td>2018-02-08</td>\n",
       "    </tr>\n",
       "    <tr>\n",
       "        <td>cheech03</td>\n",
       "        <td>Charlie</td>\n",
       "        <td>Cheetah</td>\n",
       "        <td>2018-02-08</td>\n",
       "    </tr>\n",
       "    <tr>\n",
       "        <td>dolpdi04</td>\n",
       "        <td>Diana</td>\n",
       "        <td>Dolphin</td>\n",
       "        <td>2018-02-08</td>\n",
       "    </tr>\n",
       "    <tr>\n",
       "        <td>elepev05</td>\n",
       "        <td>Eve</td>\n",
       "        <td>Elephant</td>\n",
       "        <td>2018-02-08</td>\n",
       "    </tr>\n",
       "    <tr>\n",
       "        <td>flamfr06</td>\n",
       "        <td>Fred</td>\n",
       "        <td>Flamingo</td>\n",
       "        <td>None</td>\n",
       "    </tr>\n",
       "    <tr>\n",
       "        <td>girage07</td>\n",
       "        <td>George</td>\n",
       "        <td>Giraffe</td>\n",
       "        <td>2018-02-23</td>\n",
       "    </tr>\n",
       "</table>"
      ],
      "text/plain": [
       "[('pottha01', 'Harry', 'Potter', datetime.date(2018, 2, 8)),\n",
       " ('weasro02', 'Ron', 'Weasley', datetime.date(2018, 2, 8)),\n",
       " ('granhe03', 'Hermione', 'Granger', datetime.date(2018, 2, 8)),\n",
       " ('weasfr04', 'Fred', 'Weasley', datetime.date(2018, 2, 8)),\n",
       " ('aarda01', 'Alice', 'Aardvark', datetime.date(2018, 2, 8)),\n",
       " ('beavbo02', 'Bob', 'Beaver', datetime.date(2018, 2, 8)),\n",
       " ('cheech03', 'Charlie', 'Cheetah', datetime.date(2018, 2, 8)),\n",
       " ('dolpdi04', 'Diana', 'Dolphin', datetime.date(2018, 2, 8)),\n",
       " ('elepev05', 'Eve', 'Elephant', datetime.date(2018, 2, 8)),\n",
       " ('flamfr06', 'Fred', 'Flamingo', None),\n",
       " ('girage07', 'George', 'Giraffe', datetime.date(2018, 2, 23))]"
      ]
     },
     "execution_count": 43,
     "metadata": {},
     "output_type": "execute_result"
    }
   ],
   "source": [
    "%%sql\n",
    "\n",
    "select *\n",
    "from student;\n"
   ]
  },
  {
   "cell_type": "code",
   "execution_count": 44,
   "metadata": {},
   "outputs": [
    {
     "name": "stdout",
     "output_type": "stream",
     "text": [
      "1 rows affected.\n"
     ]
    },
    {
     "data": {
      "text/plain": [
       "[]"
      ]
     },
     "execution_count": 44,
     "metadata": {},
     "output_type": "execute_result"
    }
   ],
   "source": [
    "%%sql\n",
    "\n",
    "update student\n",
    "set date_start = '2017-09-01'\n",
    "where date_start is null;"
   ]
  },
  {
   "cell_type": "code",
   "execution_count": 46,
   "metadata": {},
   "outputs": [
    {
     "name": "stdout",
     "output_type": "stream",
     "text": [
      "1 rows affected.\n"
     ]
    },
    {
     "data": {
      "text/plain": [
       "[]"
      ]
     },
     "execution_count": 46,
     "metadata": {},
     "output_type": "execute_result"
    }
   ],
   "source": [
    "%%sql\n",
    "\n",
    "update student\n",
    "set date_start = '2018-03-01'\n",
    "where name_first = 'Alice';\n"
   ]
  },
  {
   "cell_type": "code",
   "execution_count": 47,
   "metadata": {},
   "outputs": [
    {
     "name": "stdout",
     "output_type": "stream",
     "text": [
      "11 rows affected.\n"
     ]
    },
    {
     "data": {
      "text/html": [
       "<table>\n",
       "    <tr>\n",
       "        <th>username</th>\n",
       "        <th>name_first</th>\n",
       "        <th>name_last</th>\n",
       "        <th>date_start</th>\n",
       "    </tr>\n",
       "    <tr>\n",
       "        <td>pottha01</td>\n",
       "        <td>Harry</td>\n",
       "        <td>Potter</td>\n",
       "        <td>2018-02-08</td>\n",
       "    </tr>\n",
       "    <tr>\n",
       "        <td>weasro02</td>\n",
       "        <td>Ron</td>\n",
       "        <td>Weasley</td>\n",
       "        <td>2018-02-08</td>\n",
       "    </tr>\n",
       "    <tr>\n",
       "        <td>granhe03</td>\n",
       "        <td>Hermione</td>\n",
       "        <td>Granger</td>\n",
       "        <td>2018-02-08</td>\n",
       "    </tr>\n",
       "    <tr>\n",
       "        <td>weasfr04</td>\n",
       "        <td>Fred</td>\n",
       "        <td>Weasley</td>\n",
       "        <td>2018-02-08</td>\n",
       "    </tr>\n",
       "    <tr>\n",
       "        <td>beavbo02</td>\n",
       "        <td>Bob</td>\n",
       "        <td>Beaver</td>\n",
       "        <td>2018-02-08</td>\n",
       "    </tr>\n",
       "    <tr>\n",
       "        <td>cheech03</td>\n",
       "        <td>Charlie</td>\n",
       "        <td>Cheetah</td>\n",
       "        <td>2018-02-08</td>\n",
       "    </tr>\n",
       "    <tr>\n",
       "        <td>dolpdi04</td>\n",
       "        <td>Diana</td>\n",
       "        <td>Dolphin</td>\n",
       "        <td>2018-02-08</td>\n",
       "    </tr>\n",
       "    <tr>\n",
       "        <td>elepev05</td>\n",
       "        <td>Eve</td>\n",
       "        <td>Elephant</td>\n",
       "        <td>2018-02-08</td>\n",
       "    </tr>\n",
       "    <tr>\n",
       "        <td>girage07</td>\n",
       "        <td>George</td>\n",
       "        <td>Giraffe</td>\n",
       "        <td>2018-02-23</td>\n",
       "    </tr>\n",
       "    <tr>\n",
       "        <td>flamfr06</td>\n",
       "        <td>Fred</td>\n",
       "        <td>Flamingo</td>\n",
       "        <td>2017-09-01</td>\n",
       "    </tr>\n",
       "    <tr>\n",
       "        <td>aarda01</td>\n",
       "        <td>Alice</td>\n",
       "        <td>Aardvark</td>\n",
       "        <td>2018-03-01</td>\n",
       "    </tr>\n",
       "</table>"
      ],
      "text/plain": [
       "[('pottha01', 'Harry', 'Potter', datetime.date(2018, 2, 8)),\n",
       " ('weasro02', 'Ron', 'Weasley', datetime.date(2018, 2, 8)),\n",
       " ('granhe03', 'Hermione', 'Granger', datetime.date(2018, 2, 8)),\n",
       " ('weasfr04', 'Fred', 'Weasley', datetime.date(2018, 2, 8)),\n",
       " ('beavbo02', 'Bob', 'Beaver', datetime.date(2018, 2, 8)),\n",
       " ('cheech03', 'Charlie', 'Cheetah', datetime.date(2018, 2, 8)),\n",
       " ('dolpdi04', 'Diana', 'Dolphin', datetime.date(2018, 2, 8)),\n",
       " ('elepev05', 'Eve', 'Elephant', datetime.date(2018, 2, 8)),\n",
       " ('girage07', 'George', 'Giraffe', datetime.date(2018, 2, 23)),\n",
       " ('flamfr06', 'Fred', 'Flamingo', datetime.date(2017, 9, 1)),\n",
       " ('aarda01', 'Alice', 'Aardvark', datetime.date(2018, 3, 1))]"
      ]
     },
     "execution_count": 47,
     "metadata": {},
     "output_type": "execute_result"
    }
   ],
   "source": [
    "%%sql\n",
    "\n",
    "select *\n",
    "from student;\n"
   ]
  },
  {
   "cell_type": "markdown",
   "metadata": {},
   "source": [
    "# SQL: Delete\n",
    "\n",
    "Use `DELETE` clause to delete (remove) data from the database.\n"
   ]
  },
  {
   "cell_type": "code",
   "execution_count": 52,
   "metadata": {},
   "outputs": [
    {
     "name": "stdout",
     "output_type": "stream",
     "text": [
      "6 rows affected.\n"
     ]
    },
    {
     "data": {
      "text/plain": [
       "[]"
      ]
     },
     "execution_count": 52,
     "metadata": {},
     "output_type": "execute_result"
    }
   ],
   "source": [
    "%%sql\n",
    "\n",
    "delete\n",
    "from student;\n"
   ]
  },
  {
   "cell_type": "code",
   "execution_count": 51,
   "metadata": {},
   "outputs": [
    {
     "name": "stdout",
     "output_type": "stream",
     "text": [
      "6 rows affected.\n"
     ]
    },
    {
     "data": {
      "text/html": [
       "<table>\n",
       "    <tr>\n",
       "        <th>username</th>\n",
       "        <th>name_first</th>\n",
       "        <th>name_last</th>\n",
       "        <th>date_start</th>\n",
       "    </tr>\n",
       "    <tr>\n",
       "        <td>aarda01</td>\n",
       "        <td>Alice</td>\n",
       "        <td>Aardvark</td>\n",
       "        <td>2018-02-08</td>\n",
       "    </tr>\n",
       "    <tr>\n",
       "        <td>beavbo02</td>\n",
       "        <td>Bob</td>\n",
       "        <td>Beaver</td>\n",
       "        <td>2018-02-08</td>\n",
       "    </tr>\n",
       "    <tr>\n",
       "        <td>cheech03</td>\n",
       "        <td>Charlie</td>\n",
       "        <td>Cheetah</td>\n",
       "        <td>2018-02-08</td>\n",
       "    </tr>\n",
       "    <tr>\n",
       "        <td>dolpdi04</td>\n",
       "        <td>Diana</td>\n",
       "        <td>Dolphin</td>\n",
       "        <td>2018-02-08</td>\n",
       "    </tr>\n",
       "    <tr>\n",
       "        <td>elepev05</td>\n",
       "        <td>Eve</td>\n",
       "        <td>Elephant</td>\n",
       "        <td>2018-02-08</td>\n",
       "    </tr>\n",
       "    <tr>\n",
       "        <td>flamfr06</td>\n",
       "        <td>Fred</td>\n",
       "        <td>Flamingo</td>\n",
       "        <td>None</td>\n",
       "    </tr>\n",
       "</table>"
      ],
      "text/plain": [
       "[('aarda01', 'Alice', 'Aardvark', datetime.date(2018, 2, 8)),\n",
       " ('beavbo02', 'Bob', 'Beaver', datetime.date(2018, 2, 8)),\n",
       " ('cheech03', 'Charlie', 'Cheetah', datetime.date(2018, 2, 8)),\n",
       " ('dolpdi04', 'Diana', 'Dolphin', datetime.date(2018, 2, 8)),\n",
       " ('elepev05', 'Eve', 'Elephant', datetime.date(2018, 2, 8)),\n",
       " ('flamfr06', 'Fred', 'Flamingo', None)]"
      ]
     },
     "execution_count": 51,
     "metadata": {},
     "output_type": "execute_result"
    }
   ],
   "source": [
    "%%sql\n",
    "\n",
    "select *\n",
    "from student;\n"
   ]
  },
  {
   "cell_type": "markdown",
   "metadata": {},
   "source": [
    "# SQL: Conditional Delete\n",
    "\n",
    "Populate the database first"
   ]
  },
  {
   "cell_type": "code",
   "execution_count": 53,
   "metadata": {},
   "outputs": [
    {
     "name": "stdout",
     "output_type": "stream",
     "text": [
      "1 rows affected.\n",
      "1 rows affected.\n",
      "1 rows affected.\n",
      "1 rows affected.\n",
      "1 rows affected.\n",
      "1 rows affected.\n"
     ]
    },
    {
     "data": {
      "text/plain": [
       "[]"
      ]
     },
     "execution_count": 53,
     "metadata": {},
     "output_type": "execute_result"
    }
   ],
   "source": [
    "%%sql\n",
    "\n",
    "insert into student values('aarda01', 'Alice', 'Aardvark', '2018-02-08');\n",
    "insert into student values('beavbo02', 'Bob', 'Beaver', '2018/02/08');\n",
    "insert into student values('cheech03', 'Charlie', 'Cheetah', '20180208');\n",
    "insert into student values('dolpdi04', 'Diana', 'Dolphin', '02/08/2018');\n",
    "insert into student values('elepev05', 'Eve', 'Elephant', '2/8/2018');\n",
    "insert into student values('flamfr06', 'Fred', 'Flamingo');"
   ]
  },
  {
   "cell_type": "code",
   "execution_count": 54,
   "metadata": {},
   "outputs": [
    {
     "name": "stdout",
     "output_type": "stream",
     "text": [
      "6 rows affected.\n"
     ]
    },
    {
     "data": {
      "text/html": [
       "<table>\n",
       "    <tr>\n",
       "        <th>username</th>\n",
       "        <th>name_first</th>\n",
       "        <th>name_last</th>\n",
       "        <th>date_start</th>\n",
       "    </tr>\n",
       "    <tr>\n",
       "        <td>aarda01</td>\n",
       "        <td>Alice</td>\n",
       "        <td>Aardvark</td>\n",
       "        <td>2018-02-08</td>\n",
       "    </tr>\n",
       "    <tr>\n",
       "        <td>beavbo02</td>\n",
       "        <td>Bob</td>\n",
       "        <td>Beaver</td>\n",
       "        <td>2018-02-08</td>\n",
       "    </tr>\n",
       "    <tr>\n",
       "        <td>cheech03</td>\n",
       "        <td>Charlie</td>\n",
       "        <td>Cheetah</td>\n",
       "        <td>2018-02-08</td>\n",
       "    </tr>\n",
       "    <tr>\n",
       "        <td>dolpdi04</td>\n",
       "        <td>Diana</td>\n",
       "        <td>Dolphin</td>\n",
       "        <td>2018-02-08</td>\n",
       "    </tr>\n",
       "    <tr>\n",
       "        <td>elepev05</td>\n",
       "        <td>Eve</td>\n",
       "        <td>Elephant</td>\n",
       "        <td>2018-02-08</td>\n",
       "    </tr>\n",
       "    <tr>\n",
       "        <td>flamfr06</td>\n",
       "        <td>Fred</td>\n",
       "        <td>Flamingo</td>\n",
       "        <td>None</td>\n",
       "    </tr>\n",
       "</table>"
      ],
      "text/plain": [
       "[('aarda01', 'Alice', 'Aardvark', datetime.date(2018, 2, 8)),\n",
       " ('beavbo02', 'Bob', 'Beaver', datetime.date(2018, 2, 8)),\n",
       " ('cheech03', 'Charlie', 'Cheetah', datetime.date(2018, 2, 8)),\n",
       " ('dolpdi04', 'Diana', 'Dolphin', datetime.date(2018, 2, 8)),\n",
       " ('elepev05', 'Eve', 'Elephant', datetime.date(2018, 2, 8)),\n",
       " ('flamfr06', 'Fred', 'Flamingo', None)]"
      ]
     },
     "execution_count": 54,
     "metadata": {},
     "output_type": "execute_result"
    }
   ],
   "source": [
    "%%sql\n",
    "\n",
    "select *\n",
    "from student;\n"
   ]
  },
  {
   "cell_type": "code",
   "execution_count": 55,
   "metadata": {},
   "outputs": [
    {
     "name": "stdout",
     "output_type": "stream",
     "text": [
      "5 rows affected.\n"
     ]
    },
    {
     "data": {
      "text/plain": [
       "[]"
      ]
     },
     "execution_count": 55,
     "metadata": {},
     "output_type": "execute_result"
    }
   ],
   "source": [
    "%%sql\n",
    "\n",
    "delete\n",
    "from student\n",
    "where name_last like '%a%'"
   ]
  },
  {
   "cell_type": "code",
   "execution_count": 56,
   "metadata": {},
   "outputs": [
    {
     "name": "stdout",
     "output_type": "stream",
     "text": [
      "1 rows affected.\n"
     ]
    },
    {
     "data": {
      "text/html": [
       "<table>\n",
       "    <tr>\n",
       "        <th>username</th>\n",
       "        <th>name_first</th>\n",
       "        <th>name_last</th>\n",
       "        <th>date_start</th>\n",
       "    </tr>\n",
       "    <tr>\n",
       "        <td>dolpdi04</td>\n",
       "        <td>Diana</td>\n",
       "        <td>Dolphin</td>\n",
       "        <td>2018-02-08</td>\n",
       "    </tr>\n",
       "</table>"
      ],
      "text/plain": [
       "[('dolpdi04', 'Diana', 'Dolphin', datetime.date(2018, 2, 8))]"
      ]
     },
     "execution_count": 56,
     "metadata": {},
     "output_type": "execute_result"
    }
   ],
   "source": [
    "%%sql\n",
    "\n",
    "select *\n",
    "from student;\n"
   ]
  },
  {
   "cell_type": "code",
   "execution_count": 57,
   "metadata": {},
   "outputs": [
    {
     "name": "stdout",
     "output_type": "stream",
     "text": [
      "1 rows affected.\n"
     ]
    },
    {
     "data": {
      "text/html": [
       "<table>\n",
       "    <tr>\n",
       "        <th>username</th>\n",
       "        <th>name_first</th>\n",
       "        <th>name_last</th>\n",
       "        <th>date_start</th>\n",
       "    </tr>\n",
       "    <tr>\n",
       "        <td>dolpdi04</td>\n",
       "        <td>Diana</td>\n",
       "        <td>Dolphin</td>\n",
       "        <td>2018-02-08</td>\n",
       "    </tr>\n",
       "</table>"
      ],
      "text/plain": [
       "[('dolpdi04', 'Diana', 'Dolphin', datetime.date(2018, 2, 8))]"
      ]
     },
     "execution_count": 57,
     "metadata": {},
     "output_type": "execute_result"
    }
   ],
   "source": [
    "%%sql\n",
    "\n",
    "select *\n",
    "from student;\n"
   ]
  }
 ],
 "metadata": {
  "kernelspec": {
   "display_name": "Python 3",
   "language": "python",
   "name": "python3"
  },
  "language_info": {
   "codemirror_mode": {
    "name": "ipython",
    "version": 3
   },
   "file_extension": ".py",
   "mimetype": "text/x-python",
   "name": "python",
   "nbconvert_exporter": "python",
   "pygments_lexer": "ipython3",
   "version": "3.5.1"
  }
 },
 "nbformat": 4,
 "nbformat_minor": 2
}
