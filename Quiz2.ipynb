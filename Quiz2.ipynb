{
 "cells": [
  {
   "cell_type": "markdown",
   "metadata": {},
   "source": [
    "# Final Exam\n",
    "\n",
    "* Many-to-many relationships\n",
    "\n",
    "* Joining tables\n",
    "\n",
    "* Nested queries\n"
   ]
  },
  {
   "cell_type": "markdown",
   "metadata": {},
   "source": [
    "## Quiz 2"
   ]
  },
  {
   "cell_type": "code",
   "execution_count": 1,
   "metadata": {},
   "outputs": [],
   "source": [
    "from reframe import Relation\n",
    "\n",
    "place = Relation('/home/faculty/yasiro01/pub/place.csv', sep=',')\n",
    "animal = Relation('/home/faculty/yasiro01/pub/zoo.csv', sep=',')\n"
   ]
  },
  {
   "cell_type": "code",
   "execution_count": 9,
   "metadata": {},
   "outputs": [],
   "source": [
    "import pandas as pd\n",
    "from sqlalchemy import create_engine\n",
    "\n",
    "# Uncomment these lines to create a table in **your** database\n",
    "\n",
    "#conn = create_engine('postgresql://yasiro01@localhost/yasiro01')\n",
    "#pd.read_csv('/home/faculty/yasiro01/pub/animal.csv', sep=',').to_sql('animal', conn)\n",
    "#pd.read_csv('/home/faculty/yasiro01/pub/place.csv', sep=',').to_sql('place', conn)\n"
   ]
  },
  {
   "cell_type": "code",
   "execution_count": 4,
   "metadata": {},
   "outputs": [],
   "source": [
    "%load_ext sql"
   ]
  },
  {
   "cell_type": "code",
   "execution_count": 5,
   "metadata": {},
   "outputs": [
    {
     "data": {
      "text/plain": [
       "'Connected: yasiro01@yasiro01'"
      ]
     },
     "execution_count": 5,
     "metadata": {},
     "output_type": "execute_result"
    }
   ],
   "source": [
    "%sql postgresql://yasiro01:@localhost/yasiro01"
   ]
  },
  {
   "cell_type": "markdown",
   "metadata": {},
   "source": [
    "### Draw a table resulting from the following query:\n",
    "```\n",
    "select animal.name, species, place.location\n",
    "from animal natural join place\n",
    "where species = 'Newt'\n",
    "order by place.name;\n",
    "```\n"
   ]
  },
  {
   "cell_type": "code",
   "execution_count": 40,
   "metadata": {},
   "outputs": [
    {
     "name": "stdout",
     "output_type": "stream",
     "text": [
      "1 rows affected.\n"
     ]
    },
    {
     "data": {
      "text/html": [
       "<table>\n",
       "    <tr>\n",
       "        <th>name</th>\n",
       "        <th>species</th>\n",
       "        <th>location</th>\n",
       "    </tr>\n",
       "    <tr>\n",
       "        <td>Wind</td>\n",
       "        <td>Newt</td>\n",
       "        <td>Basement</td>\n",
       "    </tr>\n",
       "</table>"
      ],
      "text/plain": [
       "[('Wind', 'Newt', 'Basement')]"
      ]
     },
     "execution_count": 40,
     "metadata": {},
     "output_type": "execute_result"
    }
   ],
   "source": [
    "%%sql\n",
    "\n",
    "select animal.name, species, place.location\n",
    "from animal natural join place\n",
    "where species = 'Newt'\n",
    "order by name;\n"
   ]
  },
  {
   "cell_type": "markdown",
   "metadata": {},
   "source": [
    "### Write a SQL query that finds all animals residing in winter locations.\n"
   ]
  },
  {
   "cell_type": "code",
   "execution_count": 10,
   "metadata": {},
   "outputs": [
    {
     "name": "stdout",
     "output_type": "stream",
     "text": [
      "1 rows affected.\n"
     ]
    },
    {
     "data": {
      "text/html": [
       "<table>\n",
       "    <tr>\n",
       "        <th>index</th>\n",
       "        <th>id</th>\n",
       "        <th>location</th>\n",
       "        <th>name</th>\n",
       "        <th>age</th>\n",
       "        <th>species</th>\n",
       "        <th>capacity</th>\n",
       "        <th>season</th>\n",
       "    </tr>\n",
       "    <tr>\n",
       "        <td>0</td>\n",
       "        <td>1</td>\n",
       "        <td>Attic</td>\n",
       "        <td>Chunk</td>\n",
       "        <td>34</td>\n",
       "        <td>Jaguar</td>\n",
       "        <td>5</td>\n",
       "        <td>Winter</td>\n",
       "    </tr>\n",
       "</table>"
      ],
      "text/plain": [
       "[(0, 1, 'Attic', 'Chunk', 34, 'Jaguar', 5, 'Winter')]"
      ]
     },
     "execution_count": 10,
     "metadata": {},
     "output_type": "execute_result"
    }
   ],
   "source": [
    "%%sql\n",
    "\n",
    "select *\n",
    "from animal natural join place\n",
    "where season = 'Winter';\n"
   ]
  },
  {
   "cell_type": "code",
   "execution_count": 12,
   "metadata": {},
   "outputs": [
    {
     "name": "stdout",
     "output_type": "stream",
     "text": [
      "2 rows affected.\n"
     ]
    },
    {
     "data": {
      "text/html": [
       "<table>\n",
       "    <tr>\n",
       "        <th>index</th>\n",
       "        <th>id</th>\n",
       "        <th>location</th>\n",
       "        <th>name</th>\n",
       "        <th>age</th>\n",
       "        <th>species</th>\n",
       "        <th>capacity</th>\n",
       "        <th>season</th>\n",
       "    </tr>\n",
       "    <tr>\n",
       "        <td>0</td>\n",
       "        <td>1</td>\n",
       "        <td>Attic</td>\n",
       "        <td>Chunk</td>\n",
       "        <td>34</td>\n",
       "        <td>Jaguar</td>\n",
       "        <td>5</td>\n",
       "        <td>Winter</td>\n",
       "    </tr>\n",
       "    <tr>\n",
       "        <td>1</td>\n",
       "        <td>2</td>\n",
       "        <td>Basement</td>\n",
       "        <td>Wind</td>\n",
       "        <td>99</td>\n",
       "        <td>Newt</td>\n",
       "        <td>6</td>\n",
       "        <td>Summer</td>\n",
       "    </tr>\n",
       "</table>"
      ],
      "text/plain": [
       "[(0, 1, 'Attic', 'Chunk', 34, 'Jaguar', 5, 'Winter'),\n",
       " (1, 2, 'Basement', 'Wind', 99, 'Newt', 6, 'Summer')]"
      ]
     },
     "execution_count": 12,
     "metadata": {},
     "output_type": "execute_result"
    }
   ],
   "source": [
    "%%sql\n",
    "\n",
    "select *\n",
    "from animal natural join place;\n"
   ]
  },
  {
   "cell_type": "code",
   "execution_count": 13,
   "metadata": {},
   "outputs": [
    {
     "name": "stdout",
     "output_type": "stream",
     "text": [
      "3 rows affected.\n"
     ]
    },
    {
     "data": {
      "text/html": [
       "<table>\n",
       "    <tr>\n",
       "        <th>index</th>\n",
       "        <th>id</th>\n",
       "        <th>name</th>\n",
       "        <th>age</th>\n",
       "        <th>species</th>\n",
       "        <th>location</th>\n",
       "        <th>index_1</th>\n",
       "        <th>id_1</th>\n",
       "        <th>location_1</th>\n",
       "        <th>capacity</th>\n",
       "        <th>season</th>\n",
       "    </tr>\n",
       "    <tr>\n",
       "        <td>0</td>\n",
       "        <td>1</td>\n",
       "        <td>Chunk</td>\n",
       "        <td>34</td>\n",
       "        <td>Jaguar</td>\n",
       "        <td>Attic</td>\n",
       "        <td>0</td>\n",
       "        <td>1</td>\n",
       "        <td>Attic</td>\n",
       "        <td>5</td>\n",
       "        <td>Winter</td>\n",
       "    </tr>\n",
       "    <tr>\n",
       "        <td>4</td>\n",
       "        <td>5</td>\n",
       "        <td>Wild Isotope</td>\n",
       "        <td>28</td>\n",
       "        <td>Humboldt Penguin</td>\n",
       "        <td>Attic</td>\n",
       "        <td>0</td>\n",
       "        <td>1</td>\n",
       "        <td>Attic</td>\n",
       "        <td>5</td>\n",
       "        <td>Winter</td>\n",
       "    </tr>\n",
       "    <tr>\n",
       "        <td>9</td>\n",
       "        <td>10</td>\n",
       "        <td>Thunder</td>\n",
       "        <td>38</td>\n",
       "        <td>Jaguar</td>\n",
       "        <td>Attic</td>\n",
       "        <td>0</td>\n",
       "        <td>1</td>\n",
       "        <td>Attic</td>\n",
       "        <td>5</td>\n",
       "        <td>Winter</td>\n",
       "    </tr>\n",
       "</table>"
      ],
      "text/plain": [
       "[(0, 1, 'Chunk', 34, 'Jaguar', 'Attic', 0, 1, 'Attic', 5, 'Winter'),\n",
       " (4, 5, 'Wild Isotope', 28, 'Humboldt Penguin', 'Attic', 0, 1, 'Attic', 5, 'Winter'),\n",
       " (9, 10, 'Thunder', 38, 'Jaguar', 'Attic', 0, 1, 'Attic', 5, 'Winter')]"
      ]
     },
     "execution_count": 13,
     "metadata": {},
     "output_type": "execute_result"
    }
   ],
   "source": [
    "%%sql\n",
    "\n",
    "select *\n",
    "from animal join place on animal.location = place.location\n",
    "where season = 'Winter';\n"
   ]
  },
  {
   "cell_type": "markdown",
   "metadata": {},
   "source": [
    "### Write a relational algebra query that finds all animals residing in winter locations.\n"
   ]
  },
  {
   "cell_type": "code",
   "execution_count": 46,
   "metadata": {},
   "outputs": [
    {
     "data": {
      "text/html": [
       "<div>\n",
       "<style scoped>\n",
       "    .dataframe tbody tr th:only-of-type {\n",
       "        vertical-align: middle;\n",
       "    }\n",
       "\n",
       "    .dataframe tbody tr th {\n",
       "        vertical-align: top;\n",
       "    }\n",
       "\n",
       "    .dataframe thead th {\n",
       "        text-align: right;\n",
       "    }\n",
       "</style>\n",
       "<table border=\"1\" class=\"dataframe\">\n",
       "  <thead>\n",
       "    <tr style=\"text-align: right;\">\n",
       "      <th></th>\n",
       "      <th>id</th>\n",
       "      <th>name</th>\n",
       "      <th>age</th>\n",
       "      <th>species</th>\n",
       "      <th>location</th>\n",
       "      <th>capacity</th>\n",
       "      <th>season</th>\n",
       "    </tr>\n",
       "  </thead>\n",
       "  <tbody>\n",
       "    <tr>\n",
       "      <th>0</th>\n",
       "      <td>1</td>\n",
       "      <td>Chunk</td>\n",
       "      <td>34</td>\n",
       "      <td>Jaguar</td>\n",
       "      <td>Attic</td>\n",
       "      <td>5</td>\n",
       "      <td>Winter</td>\n",
       "    </tr>\n",
       "  </tbody>\n",
       "</table>\n",
       "</div>"
      ],
      "text/plain": [
       "   id   name  age species location  capacity  season\n",
       "0   1  Chunk   34  Jaguar    Attic         5  Winter"
      ]
     },
     "execution_count": 46,
     "metadata": {},
     "output_type": "execute_result"
    }
   ],
   "source": [
    "animal.njoin(place).query('season == \"Winter\"')"
   ]
  },
  {
   "cell_type": "code",
   "execution_count": 47,
   "metadata": {},
   "outputs": [
    {
     "data": {
      "text/html": [
       "<div>\n",
       "<style scoped>\n",
       "    .dataframe tbody tr th:only-of-type {\n",
       "        vertical-align: middle;\n",
       "    }\n",
       "\n",
       "    .dataframe tbody tr th {\n",
       "        vertical-align: top;\n",
       "    }\n",
       "\n",
       "    .dataframe thead th {\n",
       "        text-align: right;\n",
       "    }\n",
       "</style>\n",
       "<table border=\"1\" class=\"dataframe\">\n",
       "  <thead>\n",
       "    <tr style=\"text-align: right;\">\n",
       "      <th></th>\n",
       "      <th>a_id</th>\n",
       "      <th>name</th>\n",
       "      <th>age</th>\n",
       "      <th>species</th>\n",
       "      <th>location</th>\n",
       "      <th>id</th>\n",
       "      <th>capacity</th>\n",
       "      <th>season</th>\n",
       "    </tr>\n",
       "  </thead>\n",
       "  <tbody>\n",
       "    <tr>\n",
       "      <th>0</th>\n",
       "      <td>1</td>\n",
       "      <td>Chunk</td>\n",
       "      <td>34</td>\n",
       "      <td>Jaguar</td>\n",
       "      <td>Attic</td>\n",
       "      <td>1</td>\n",
       "      <td>5</td>\n",
       "      <td>Winter</td>\n",
       "    </tr>\n",
       "    <tr>\n",
       "      <th>1</th>\n",
       "      <td>5</td>\n",
       "      <td>Wild Isotope</td>\n",
       "      <td>28</td>\n",
       "      <td>Humboldt Penguin</td>\n",
       "      <td>Attic</td>\n",
       "      <td>1</td>\n",
       "      <td>5</td>\n",
       "      <td>Winter</td>\n",
       "    </tr>\n",
       "    <tr>\n",
       "      <th>2</th>\n",
       "      <td>10</td>\n",
       "      <td>Thunder</td>\n",
       "      <td>38</td>\n",
       "      <td>Jaguar</td>\n",
       "      <td>Attic</td>\n",
       "      <td>1</td>\n",
       "      <td>5</td>\n",
       "      <td>Winter</td>\n",
       "    </tr>\n",
       "  </tbody>\n",
       "</table>\n",
       "</div>"
      ],
      "text/plain": [
       "   a_id          name  age           species location  id  capacity  season\n",
       "0     1         Chunk   34            Jaguar    Attic   1         5  Winter\n",
       "1     5  Wild Isotope   28  Humboldt Penguin    Attic   1         5  Winter\n",
       "2    10       Thunder   38            Jaguar    Attic   1         5  Winter"
      ]
     },
     "execution_count": 47,
     "metadata": {},
     "output_type": "execute_result"
    }
   ],
   "source": [
    "animal.rename('id', 'a_id').njoin(place).query('season == \"Winter\"')"
   ]
  },
  {
   "cell_type": "markdown",
   "metadata": {},
   "source": [
    "### Write a SQL query that finds all locations filled at 50% (or more) of their capacity.\n"
   ]
  },
  {
   "cell_type": "code",
   "execution_count": 16,
   "metadata": {},
   "outputs": [
    {
     "name": "stdout",
     "output_type": "stream",
     "text": [
      "4 rows affected.\n"
     ]
    },
    {
     "data": {
      "text/html": [
       "<table>\n",
       "    <tr>\n",
       "        <th>location</th>\n",
       "        <th>pop</th>\n",
       "    </tr>\n",
       "    <tr>\n",
       "        <td>Garage</td>\n",
       "        <td>2</td>\n",
       "    </tr>\n",
       "    <tr>\n",
       "        <td>Back yard</td>\n",
       "        <td>2</td>\n",
       "    </tr>\n",
       "    <tr>\n",
       "        <td>Basement</td>\n",
       "        <td>3</td>\n",
       "    </tr>\n",
       "    <tr>\n",
       "        <td>Attic</td>\n",
       "        <td>3</td>\n",
       "    </tr>\n",
       "</table>"
      ],
      "text/plain": [
       "[('Garage', 2), ('Back yard', 2), ('Basement', 3), ('Attic', 3)]"
      ]
     },
     "execution_count": 16,
     "metadata": {},
     "output_type": "execute_result"
    }
   ],
   "source": [
    "%%sql\n",
    "\n",
    "select location, count(*) pop\n",
    "from animal\n",
    "group by location;\n"
   ]
  },
  {
   "cell_type": "code",
   "execution_count": 34,
   "metadata": {},
   "outputs": [
    {
     "name": "stdout",
     "output_type": "stream",
     "text": [
      "2 rows affected.\n"
     ]
    },
    {
     "data": {
      "text/html": [
       "<table>\n",
       "    <tr>\n",
       "        <th>location</th>\n",
       "        <th>pop</th>\n",
       "        <th>capacity</th>\n",
       "        <th>used</th>\n",
       "    </tr>\n",
       "    <tr>\n",
       "        <td>Attic</td>\n",
       "        <td>3</td>\n",
       "        <td>5</td>\n",
       "        <td>&nbsp;&nbsp;60.00%</td>\n",
       "    </tr>\n",
       "    <tr>\n",
       "        <td>Basement</td>\n",
       "        <td>3</td>\n",
       "        <td>6</td>\n",
       "        <td>&nbsp;&nbsp;50.00%</td>\n",
       "    </tr>\n",
       "</table>"
      ],
      "text/plain": [
       "[('Attic', 3, 5, '  60.00%'), ('Basement', 3, 6, '  50.00%')]"
      ]
     },
     "execution_count": 34,
     "metadata": {},
     "output_type": "execute_result"
    }
   ],
   "source": [
    "%%sql\n",
    "\n",
    "select location, pop, capacity, to_char(pop::decimal/capacity*100, '999.99%') as used\n",
    "from (\n",
    "    select location, count(*) pop\n",
    "    from animal\n",
    "    group by location\n",
    ") as p natural join place\n",
    "where pop::decimal/capacity >= 0.5\n"
   ]
  }
 ],
 "metadata": {
  "kernelspec": {
   "display_name": "Python 3",
   "language": "python",
   "name": "python3"
  },
  "language_info": {
   "codemirror_mode": {
    "name": "ipython",
    "version": 3
   },
   "file_extension": ".py",
   "mimetype": "text/x-python",
   "name": "python",
   "nbconvert_exporter": "python",
   "pygments_lexer": "ipython3",
   "version": "3.5.1"
  }
 },
 "nbformat": 4,
 "nbformat_minor": 2
}
