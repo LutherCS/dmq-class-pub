{
 "cells": [
  {
   "cell_type": "code",
   "execution_count": 1,
   "metadata": {},
   "outputs": [],
   "source": [
    "from reframe import Relation\n",
    "\n",
    "animal = Relation('/home/faculty/yasiro01/pub/animal.csv', sep=',')"
   ]
  },
  {
   "cell_type": "code",
   "execution_count": 5,
   "metadata": {},
   "outputs": [],
   "source": [
    "%load_ext sql"
   ]
  },
  {
   "cell_type": "code",
   "execution_count": 6,
   "metadata": {},
   "outputs": [
    {
     "data": {
      "text/plain": [
       "'Connected: yasiro01@yasiro01'"
      ]
     },
     "execution_count": 6,
     "metadata": {},
     "output_type": "execute_result"
    }
   ],
   "source": [
    "%sql postgresql://yasiro01:@localhost/yasiro01"
   ]
  },
  {
   "cell_type": "code",
   "execution_count": 2,
   "metadata": {},
   "outputs": [
    {
     "data": {
      "text/html": [
       "<div>\n",
       "<style scoped>\n",
       "    .dataframe tbody tr th:only-of-type {\n",
       "        vertical-align: middle;\n",
       "    }\n",
       "\n",
       "    .dataframe tbody tr th {\n",
       "        vertical-align: top;\n",
       "    }\n",
       "\n",
       "    .dataframe thead th {\n",
       "        text-align: right;\n",
       "    }\n",
       "</style>\n",
       "<table border=\"1\" class=\"dataframe\">\n",
       "  <thead>\n",
       "    <tr style=\"text-align: right;\">\n",
       "      <th></th>\n",
       "      <th>id</th>\n",
       "      <th>name</th>\n",
       "      <th>age</th>\n",
       "      <th>species</th>\n",
       "      <th>location</th>\n",
       "    </tr>\n",
       "  </thead>\n",
       "  <tbody>\n",
       "    <tr>\n",
       "      <th>0</th>\n",
       "      <td>1</td>\n",
       "      <td>Chunk</td>\n",
       "      <td>34</td>\n",
       "      <td>Jaguar</td>\n",
       "      <td>Attic</td>\n",
       "    </tr>\n",
       "    <tr>\n",
       "      <th>1</th>\n",
       "      <td>2</td>\n",
       "      <td>Wind</td>\n",
       "      <td>99</td>\n",
       "      <td>Newt</td>\n",
       "      <td>Basement</td>\n",
       "    </tr>\n",
       "    <tr>\n",
       "      <th>2</th>\n",
       "      <td>3</td>\n",
       "      <td>Underrated Thunder</td>\n",
       "      <td>74</td>\n",
       "      <td>Macaroni Penguin</td>\n",
       "      <td>Basement</td>\n",
       "    </tr>\n",
       "    <tr>\n",
       "      <th>3</th>\n",
       "      <td>4</td>\n",
       "      <td>Axe</td>\n",
       "      <td>23</td>\n",
       "      <td>Long-Eared Owl</td>\n",
       "      <td>Garage</td>\n",
       "    </tr>\n",
       "    <tr>\n",
       "      <th>4</th>\n",
       "      <td>5</td>\n",
       "      <td>Wild Isotope</td>\n",
       "      <td>28</td>\n",
       "      <td>Humboldt Penguin</td>\n",
       "      <td>Attic</td>\n",
       "    </tr>\n",
       "    <tr>\n",
       "      <th>5</th>\n",
       "      <td>6</td>\n",
       "      <td>Night Star</td>\n",
       "      <td>26</td>\n",
       "      <td>Newt</td>\n",
       "      <td>Garage</td>\n",
       "    </tr>\n",
       "    <tr>\n",
       "      <th>6</th>\n",
       "      <td>7</td>\n",
       "      <td>Random Bully</td>\n",
       "      <td>52</td>\n",
       "      <td>Armadillo</td>\n",
       "      <td>Back yard</td>\n",
       "    </tr>\n",
       "    <tr>\n",
       "      <th>7</th>\n",
       "      <td>8</td>\n",
       "      <td>Cunning Fury</td>\n",
       "      <td>38</td>\n",
       "      <td>Pink Fairy Armadillo</td>\n",
       "      <td>Back yard</td>\n",
       "    </tr>\n",
       "    <tr>\n",
       "      <th>8</th>\n",
       "      <td>9</td>\n",
       "      <td>Evening Chunk</td>\n",
       "      <td>50</td>\n",
       "      <td>Newt</td>\n",
       "      <td>Basement</td>\n",
       "    </tr>\n",
       "    <tr>\n",
       "      <th>9</th>\n",
       "      <td>10</td>\n",
       "      <td>Thunder</td>\n",
       "      <td>38</td>\n",
       "      <td>Jaguar</td>\n",
       "      <td>Attic</td>\n",
       "    </tr>\n",
       "  </tbody>\n",
       "</table>\n",
       "</div>"
      ],
      "text/plain": [
       "   id                name  age               species   location\n",
       "0   1               Chunk   34                Jaguar      Attic\n",
       "1   2                Wind   99                  Newt   Basement\n",
       "2   3  Underrated Thunder   74      Macaroni Penguin   Basement\n",
       "3   4                 Axe   23        Long-Eared Owl     Garage\n",
       "4   5        Wild Isotope   28      Humboldt Penguin      Attic\n",
       "5   6          Night Star   26                  Newt     Garage\n",
       "6   7        Random Bully   52             Armadillo  Back yard\n",
       "7   8        Cunning Fury   38  Pink Fairy Armadillo  Back yard\n",
       "8   9       Evening Chunk   50                  Newt   Basement\n",
       "9  10             Thunder   38                Jaguar      Attic"
      ]
     },
     "execution_count": 2,
     "metadata": {},
     "output_type": "execute_result"
    }
   ],
   "source": [
    "animal"
   ]
  },
  {
   "cell_type": "code",
   "execution_count": 15,
   "metadata": {},
   "outputs": [
    {
     "data": {
      "text/plain": [
       "<reframe.GroupWrap object at 0x7f4345b9d7f0>"
      ]
     },
     "execution_count": 15,
     "metadata": {},
     "output_type": "execute_result"
    }
   ],
   "source": [
    "animal.groupby(['location'])"
   ]
  },
  {
   "cell_type": "code",
   "execution_count": null,
   "metadata": {},
   "outputs": [],
   "source": [
    "import pandas as pd\n",
    "from sqlalchemy import create_engine\n",
    "\n",
    "#conn = create_engine('postgresql://yasiro01@localhost/yasiro01')\n",
    "#pd.read_csv('/home/faculty/yasiro01/pub/animal.csv', sep=',').to_sql('animal', conn)\n"
   ]
  },
  {
   "cell_type": "code",
   "execution_count": 7,
   "metadata": {},
   "outputs": [
    {
     "name": "stdout",
     "output_type": "stream",
     "text": [
      "10 rows affected.\n"
     ]
    },
    {
     "data": {
      "text/html": [
       "<table>\n",
       "    <tr>\n",
       "        <th>index</th>\n",
       "        <th>id</th>\n",
       "        <th>name</th>\n",
       "        <th>age</th>\n",
       "        <th>species</th>\n",
       "        <th>location</th>\n",
       "    </tr>\n",
       "    <tr>\n",
       "        <td>0</td>\n",
       "        <td>1</td>\n",
       "        <td>Chunk</td>\n",
       "        <td>34</td>\n",
       "        <td>Jaguar</td>\n",
       "        <td>Attic</td>\n",
       "    </tr>\n",
       "    <tr>\n",
       "        <td>1</td>\n",
       "        <td>2</td>\n",
       "        <td>Wind</td>\n",
       "        <td>99</td>\n",
       "        <td>Newt</td>\n",
       "        <td>Basement</td>\n",
       "    </tr>\n",
       "    <tr>\n",
       "        <td>2</td>\n",
       "        <td>3</td>\n",
       "        <td>Underrated Thunder</td>\n",
       "        <td>74</td>\n",
       "        <td>Macaroni Penguin</td>\n",
       "        <td>Basement</td>\n",
       "    </tr>\n",
       "    <tr>\n",
       "        <td>3</td>\n",
       "        <td>4</td>\n",
       "        <td>Axe</td>\n",
       "        <td>23</td>\n",
       "        <td>Long-Eared Owl</td>\n",
       "        <td>Garage</td>\n",
       "    </tr>\n",
       "    <tr>\n",
       "        <td>4</td>\n",
       "        <td>5</td>\n",
       "        <td>Wild Isotope</td>\n",
       "        <td>28</td>\n",
       "        <td>Humboldt Penguin</td>\n",
       "        <td>Attic</td>\n",
       "    </tr>\n",
       "    <tr>\n",
       "        <td>5</td>\n",
       "        <td>6</td>\n",
       "        <td>Night Star</td>\n",
       "        <td>26</td>\n",
       "        <td>Newt</td>\n",
       "        <td>Garage</td>\n",
       "    </tr>\n",
       "    <tr>\n",
       "        <td>6</td>\n",
       "        <td>7</td>\n",
       "        <td>Random Bully</td>\n",
       "        <td>52</td>\n",
       "        <td>Armadillo</td>\n",
       "        <td>Back yard</td>\n",
       "    </tr>\n",
       "    <tr>\n",
       "        <td>7</td>\n",
       "        <td>8</td>\n",
       "        <td>Cunning Fury</td>\n",
       "        <td>38</td>\n",
       "        <td>Pink Fairy Armadillo</td>\n",
       "        <td>Back yard</td>\n",
       "    </tr>\n",
       "    <tr>\n",
       "        <td>8</td>\n",
       "        <td>9</td>\n",
       "        <td>Evening Chunk</td>\n",
       "        <td>50</td>\n",
       "        <td>Newt</td>\n",
       "        <td>Basement</td>\n",
       "    </tr>\n",
       "    <tr>\n",
       "        <td>9</td>\n",
       "        <td>10</td>\n",
       "        <td>Thunder</td>\n",
       "        <td>38</td>\n",
       "        <td>Jaguar</td>\n",
       "        <td>Attic</td>\n",
       "    </tr>\n",
       "</table>"
      ],
      "text/plain": [
       "[(0, 1, 'Chunk', 34, 'Jaguar', 'Attic'),\n",
       " (1, 2, 'Wind', 99, 'Newt', 'Basement'),\n",
       " (2, 3, 'Underrated Thunder', 74, 'Macaroni Penguin', 'Basement'),\n",
       " (3, 4, 'Axe', 23, 'Long-Eared Owl', 'Garage'),\n",
       " (4, 5, 'Wild Isotope', 28, 'Humboldt Penguin', 'Attic'),\n",
       " (5, 6, 'Night Star', 26, 'Newt', 'Garage'),\n",
       " (6, 7, 'Random Bully', 52, 'Armadillo', 'Back yard'),\n",
       " (7, 8, 'Cunning Fury', 38, 'Pink Fairy Armadillo', 'Back yard'),\n",
       " (8, 9, 'Evening Chunk', 50, 'Newt', 'Basement'),\n",
       " (9, 10, 'Thunder', 38, 'Jaguar', 'Attic')]"
      ]
     },
     "execution_count": 7,
     "metadata": {},
     "output_type": "execute_result"
    }
   ],
   "source": [
    "%%sql\n",
    "\n",
    "select *\n",
    "from animal"
   ]
  },
  {
   "cell_type": "markdown",
   "metadata": {},
   "source": [
    "## Draw a table resulting from the following query:\n",
    "\n",
    "```\n",
    "animal.project([“species”])\n",
    "```\n"
   ]
  },
  {
   "cell_type": "code",
   "execution_count": 3,
   "metadata": {},
   "outputs": [
    {
     "data": {
      "text/html": [
       "<div>\n",
       "<style scoped>\n",
       "    .dataframe tbody tr th:only-of-type {\n",
       "        vertical-align: middle;\n",
       "    }\n",
       "\n",
       "    .dataframe tbody tr th {\n",
       "        vertical-align: top;\n",
       "    }\n",
       "\n",
       "    .dataframe thead th {\n",
       "        text-align: right;\n",
       "    }\n",
       "</style>\n",
       "<table border=\"1\" class=\"dataframe\">\n",
       "  <thead>\n",
       "    <tr style=\"text-align: right;\">\n",
       "      <th></th>\n",
       "      <th>species</th>\n",
       "    </tr>\n",
       "  </thead>\n",
       "  <tbody>\n",
       "    <tr>\n",
       "      <th>0</th>\n",
       "      <td>Jaguar</td>\n",
       "    </tr>\n",
       "    <tr>\n",
       "      <th>1</th>\n",
       "      <td>Newt</td>\n",
       "    </tr>\n",
       "    <tr>\n",
       "      <th>2</th>\n",
       "      <td>Macaroni Penguin</td>\n",
       "    </tr>\n",
       "    <tr>\n",
       "      <th>3</th>\n",
       "      <td>Long-Eared Owl</td>\n",
       "    </tr>\n",
       "    <tr>\n",
       "      <th>4</th>\n",
       "      <td>Humboldt Penguin</td>\n",
       "    </tr>\n",
       "    <tr>\n",
       "      <th>6</th>\n",
       "      <td>Armadillo</td>\n",
       "    </tr>\n",
       "    <tr>\n",
       "      <th>7</th>\n",
       "      <td>Pink Fairy Armadillo</td>\n",
       "    </tr>\n",
       "  </tbody>\n",
       "</table>\n",
       "</div>"
      ],
      "text/plain": [
       "                species\n",
       "0                Jaguar\n",
       "1                  Newt\n",
       "2      Macaroni Penguin\n",
       "3        Long-Eared Owl\n",
       "4      Humboldt Penguin\n",
       "6             Armadillo\n",
       "7  Pink Fairy Armadillo"
      ]
     },
     "execution_count": 3,
     "metadata": {},
     "output_type": "execute_result"
    }
   ],
   "source": [
    "animal.project([\"species\"])"
   ]
  },
  {
   "cell_type": "code",
   "execution_count": 38,
   "metadata": {},
   "outputs": [
    {
     "name": "stdout",
     "output_type": "stream",
     "text": [
      "8 rows affected.\n"
     ]
    },
    {
     "data": {
      "text/html": [
       "<table>\n",
       "    <tr>\n",
       "        <th>species</th>\n",
       "    </tr>\n",
       "    <tr>\n",
       "        <td>Jaguar</td>\n",
       "    </tr>\n",
       "    <tr>\n",
       "        <td>Macaroni Penguin</td>\n",
       "    </tr>\n",
       "    <tr>\n",
       "        <td>Long-Eared Owl</td>\n",
       "    </tr>\n",
       "    <tr>\n",
       "        <td>Humboldt Penguin</td>\n",
       "    </tr>\n",
       "    <tr>\n",
       "        <td>Armadillo</td>\n",
       "    </tr>\n",
       "    <tr>\n",
       "        <td>Pink Fairy Armadillo</td>\n",
       "    </tr>\n",
       "    <tr>\n",
       "        <td>Jaguar</td>\n",
       "    </tr>\n",
       "    <tr>\n",
       "        <td>Aardvark</td>\n",
       "    </tr>\n",
       "</table>"
      ],
      "text/plain": [
       "[('Jaguar',),\n",
       " ('Macaroni Penguin',),\n",
       " ('Long-Eared Owl',),\n",
       " ('Humboldt Penguin',),\n",
       " ('Armadillo',),\n",
       " ('Pink Fairy Armadillo',),\n",
       " ('Jaguar',),\n",
       " ('Aardvark',)]"
      ]
     },
     "execution_count": 38,
     "metadata": {},
     "output_type": "execute_result"
    }
   ],
   "source": [
    "%%sql\n",
    "\n",
    "select species\n",
    "from animal"
   ]
  },
  {
   "cell_type": "code",
   "execution_count": 37,
   "metadata": {},
   "outputs": [
    {
     "name": "stdout",
     "output_type": "stream",
     "text": [
      "7 rows affected.\n"
     ]
    },
    {
     "data": {
      "text/html": [
       "<table>\n",
       "    <tr>\n",
       "        <th>species</th>\n",
       "    </tr>\n",
       "    <tr>\n",
       "        <td>Pink Fairy Armadillo</td>\n",
       "    </tr>\n",
       "    <tr>\n",
       "        <td>Humboldt Penguin</td>\n",
       "    </tr>\n",
       "    <tr>\n",
       "        <td>Long-Eared Owl</td>\n",
       "    </tr>\n",
       "    <tr>\n",
       "        <td>Jaguar</td>\n",
       "    </tr>\n",
       "    <tr>\n",
       "        <td>Macaroni Penguin</td>\n",
       "    </tr>\n",
       "    <tr>\n",
       "        <td>Aardvark</td>\n",
       "    </tr>\n",
       "    <tr>\n",
       "        <td>Armadillo</td>\n",
       "    </tr>\n",
       "</table>"
      ],
      "text/plain": [
       "[('Pink Fairy Armadillo',),\n",
       " ('Humboldt Penguin',),\n",
       " ('Long-Eared Owl',),\n",
       " ('Jaguar',),\n",
       " ('Macaroni Penguin',),\n",
       " ('Aardvark',),\n",
       " ('Armadillo',)]"
      ]
     },
     "execution_count": 37,
     "metadata": {},
     "output_type": "execute_result"
    }
   ],
   "source": [
    "%%sql\n",
    "\n",
    "select species\n",
    "from animal\n",
    "group by species"
   ]
  },
  {
   "cell_type": "code",
   "execution_count": 53,
   "metadata": {},
   "outputs": [
    {
     "data": {
      "text/html": [
       "<div>\n",
       "<style scoped>\n",
       "    .dataframe tbody tr th:only-of-type {\n",
       "        vertical-align: middle;\n",
       "    }\n",
       "\n",
       "    .dataframe tbody tr th {\n",
       "        vertical-align: top;\n",
       "    }\n",
       "\n",
       "    .dataframe thead th {\n",
       "        text-align: right;\n",
       "    }\n",
       "</style>\n",
       "<table border=\"1\" class=\"dataframe\">\n",
       "  <thead>\n",
       "    <tr style=\"text-align: right;\">\n",
       "      <th></th>\n",
       "      <th>location</th>\n",
       "      <th>mean_age</th>\n",
       "    </tr>\n",
       "  </thead>\n",
       "  <tbody>\n",
       "    <tr>\n",
       "      <th>0</th>\n",
       "      <td>Back yard</td>\n",
       "      <td>52.0</td>\n",
       "    </tr>\n",
       "    <tr>\n",
       "      <th>1</th>\n",
       "      <td>Basement</td>\n",
       "      <td>86.5</td>\n",
       "    </tr>\n",
       "  </tbody>\n",
       "</table>\n",
       "</div>"
      ],
      "text/plain": [
       "    location  mean_age\n",
       "0  Back yard      52.0\n",
       "1   Basement      86.5"
      ]
     },
     "execution_count": 53,
     "metadata": {},
     "output_type": "execute_result"
    }
   ],
   "source": [
    "animal.query('location == ').groupby(['location']).mean('age')"
   ]
  },
  {
   "cell_type": "code",
   "execution_count": 56,
   "metadata": {},
   "outputs": [
    {
     "name": "stdout",
     "output_type": "stream",
     "text": [
      "1 rows affected.\n"
     ]
    },
    {
     "data": {
      "text/html": [
       "<table>\n",
       "    <tr>\n",
       "        <th>avg</th>\n",
       "    </tr>\n",
       "    <tr>\n",
       "        <td>40.8750000000000000</td>\n",
       "    </tr>\n",
       "</table>"
      ],
      "text/plain": [
       "[(Decimal('40.8750000000000000'),)]"
      ]
     },
     "execution_count": 56,
     "metadata": {},
     "output_type": "execute_result"
    }
   ],
   "source": [
    "%%sql\n",
    "\n",
    "select avg(age)\n",
    "from animal"
   ]
  },
  {
   "cell_type": "markdown",
   "metadata": {},
   "source": [
    "## Draw a table resulting from the following query:\n",
    "    \n",
    "```\n",
    "animal.query(“age > 70”).project([“name”, “location”])\n",
    "```\n"
   ]
  },
  {
   "cell_type": "code",
   "execution_count": 16,
   "metadata": {},
   "outputs": [
    {
     "data": {
      "text/html": [
       "<div>\n",
       "<style scoped>\n",
       "    .dataframe tbody tr th:only-of-type {\n",
       "        vertical-align: middle;\n",
       "    }\n",
       "\n",
       "    .dataframe tbody tr th {\n",
       "        vertical-align: top;\n",
       "    }\n",
       "\n",
       "    .dataframe thead th {\n",
       "        text-align: right;\n",
       "    }\n",
       "</style>\n",
       "<table border=\"1\" class=\"dataframe\">\n",
       "  <thead>\n",
       "    <tr style=\"text-align: right;\">\n",
       "      <th></th>\n",
       "      <th>name</th>\n",
       "      <th>location</th>\n",
       "    </tr>\n",
       "  </thead>\n",
       "  <tbody>\n",
       "  </tbody>\n",
       "</table>\n",
       "</div>"
      ],
      "text/plain": [
       "Empty Relation\n",
       "Columns: [name, location]\n",
       "Index: []"
      ]
     },
     "execution_count": 16,
     "metadata": {},
     "output_type": "execute_result"
    }
   ],
   "source": [
    "animal.query(\"age > 170\").project([\"name\", \"location\"])"
   ]
  },
  {
   "cell_type": "markdown",
   "metadata": {},
   "source": [
    "## Draw a table resulting from the following query:\n",
    "\n",
    "```\n",
    "select name, age\n",
    "from animal\n",
    "where location = ‘Basement’\n",
    "order by age desc;\n",
    "```\n"
   ]
  },
  {
   "cell_type": "code",
   "execution_count": 8,
   "metadata": {},
   "outputs": [
    {
     "name": "stdout",
     "output_type": "stream",
     "text": [
      "3 rows affected.\n"
     ]
    },
    {
     "data": {
      "text/html": [
       "<table>\n",
       "    <tr>\n",
       "        <th>name</th>\n",
       "        <th>age</th>\n",
       "    </tr>\n",
       "    <tr>\n",
       "        <td>Wind</td>\n",
       "        <td>99</td>\n",
       "    </tr>\n",
       "    <tr>\n",
       "        <td>Underrated Thunder</td>\n",
       "        <td>74</td>\n",
       "    </tr>\n",
       "    <tr>\n",
       "        <td>Evening Chunk</td>\n",
       "        <td>50</td>\n",
       "    </tr>\n",
       "</table>"
      ],
      "text/plain": [
       "[('Wind', 99), ('Underrated Thunder', 74), ('Evening Chunk', 50)]"
      ]
     },
     "execution_count": 8,
     "metadata": {},
     "output_type": "execute_result"
    }
   ],
   "source": [
    "%%sql\n",
    "\n",
    "select name, age\n",
    "from animal\n",
    "where location = 'Basement'\n",
    "order by age desc;"
   ]
  },
  {
   "cell_type": "markdown",
   "metadata": {},
   "source": [
    "## Write a relational algebra query that displays number of animals by location.\n",
    "\n"
   ]
  },
  {
   "cell_type": "code",
   "execution_count": 10,
   "metadata": {},
   "outputs": [
    {
     "data": {
      "text/html": [
       "<div>\n",
       "<style scoped>\n",
       "    .dataframe tbody tr th:only-of-type {\n",
       "        vertical-align: middle;\n",
       "    }\n",
       "\n",
       "    .dataframe tbody tr th {\n",
       "        vertical-align: top;\n",
       "    }\n",
       "\n",
       "    .dataframe thead th {\n",
       "        text-align: right;\n",
       "    }\n",
       "</style>\n",
       "<table border=\"1\" class=\"dataframe\">\n",
       "  <thead>\n",
       "    <tr style=\"text-align: right;\">\n",
       "      <th></th>\n",
       "      <th>location</th>\n",
       "      <th>count_name</th>\n",
       "    </tr>\n",
       "  </thead>\n",
       "  <tbody>\n",
       "    <tr>\n",
       "      <th>0</th>\n",
       "      <td>Attic</td>\n",
       "      <td>3</td>\n",
       "    </tr>\n",
       "    <tr>\n",
       "      <th>1</th>\n",
       "      <td>Back yard</td>\n",
       "      <td>2</td>\n",
       "    </tr>\n",
       "    <tr>\n",
       "      <th>2</th>\n",
       "      <td>Basement</td>\n",
       "      <td>3</td>\n",
       "    </tr>\n",
       "    <tr>\n",
       "      <th>3</th>\n",
       "      <td>Garage</td>\n",
       "      <td>2</td>\n",
       "    </tr>\n",
       "  </tbody>\n",
       "</table>\n",
       "</div>"
      ],
      "text/plain": [
       "    location  count_name\n",
       "0      Attic           3\n",
       "1  Back yard           2\n",
       "2   Basement           3\n",
       "3     Garage           2"
      ]
     },
     "execution_count": 10,
     "metadata": {},
     "output_type": "execute_result"
    }
   ],
   "source": [
    "animal.groupby([\"location\"]).count(\"name\")"
   ]
  },
  {
   "cell_type": "markdown",
   "metadata": {},
   "source": [
    "## Write a SQL query that displays average age of animals by species.\n"
   ]
  },
  {
   "cell_type": "code",
   "execution_count": 18,
   "metadata": {},
   "outputs": [
    {
     "name": "stdout",
     "output_type": "stream",
     "text": [
      "8 rows affected.\n"
     ]
    },
    {
     "data": {
      "text/html": [
       "<table>\n",
       "    <tr>\n",
       "        <th>species</th>\n",
       "        <th>avg</th>\n",
       "    </tr>\n",
       "    <tr>\n",
       "        <td>Newt</td>\n",
       "        <td>58.3333333333333333</td>\n",
       "    </tr>\n",
       "    <tr>\n",
       "        <td>Pink Fairy Armadillo</td>\n",
       "        <td>38.0000000000000000</td>\n",
       "    </tr>\n",
       "    <tr>\n",
       "        <td>Humboldt Penguin</td>\n",
       "        <td>28.0000000000000000</td>\n",
       "    </tr>\n",
       "    <tr>\n",
       "        <td>Long-Eared Owl</td>\n",
       "        <td>23.0000000000000000</td>\n",
       "    </tr>\n",
       "    <tr>\n",
       "        <td>Jaguar</td>\n",
       "        <td>36.0000000000000000</td>\n",
       "    </tr>\n",
       "    <tr>\n",
       "        <td>Macaroni Penguin</td>\n",
       "        <td>74.0000000000000000</td>\n",
       "    </tr>\n",
       "    <tr>\n",
       "        <td>sloth</td>\n",
       "        <td>73.3333333333333333</td>\n",
       "    </tr>\n",
       "    <tr>\n",
       "        <td>Armadillo</td>\n",
       "        <td>52.0000000000000000</td>\n",
       "    </tr>\n",
       "</table>"
      ],
      "text/plain": [
       "[('Newt', Decimal('58.3333333333333333')),\n",
       " ('Pink Fairy Armadillo', Decimal('38.0000000000000000')),\n",
       " ('Humboldt Penguin', Decimal('28.0000000000000000')),\n",
       " ('Long-Eared Owl', Decimal('23.0000000000000000')),\n",
       " ('Jaguar', Decimal('36.0000000000000000')),\n",
       " ('Macaroni Penguin', Decimal('74.0000000000000000')),\n",
       " ('sloth', Decimal('73.3333333333333333')),\n",
       " ('Armadillo', Decimal('52.0000000000000000'))]"
      ]
     },
     "execution_count": 18,
     "metadata": {},
     "output_type": "execute_result"
    }
   ],
   "source": [
    "%%sql\n",
    "\n",
    "select species, avg(age)\n",
    "from animal\n",
    "group by species;"
   ]
  },
  {
   "cell_type": "code",
   "execution_count": 23,
   "metadata": {},
   "outputs": [
    {
     "name": "stdout",
     "output_type": "stream",
     "text": [
      "8 rows affected.\n"
     ]
    },
    {
     "data": {
      "text/html": [
       "<table>\n",
       "    <tr>\n",
       "        <th>species</th>\n",
       "        <th>to_char</th>\n",
       "    </tr>\n",
       "    <tr>\n",
       "        <td>Newt</td>\n",
       "        <td>&nbsp;&nbsp;&nbsp;&nbsp;&nbsp;&nbsp;58.33</td>\n",
       "    </tr>\n",
       "    <tr>\n",
       "        <td>Pink Fairy Armadillo</td>\n",
       "        <td>&nbsp;&nbsp;&nbsp;&nbsp;&nbsp;&nbsp;38.00</td>\n",
       "    </tr>\n",
       "    <tr>\n",
       "        <td>Humboldt Penguin</td>\n",
       "        <td>&nbsp;&nbsp;&nbsp;&nbsp;&nbsp;&nbsp;28.00</td>\n",
       "    </tr>\n",
       "    <tr>\n",
       "        <td>Long-Eared Owl</td>\n",
       "        <td>&nbsp;&nbsp;&nbsp;&nbsp;&nbsp;&nbsp;23.00</td>\n",
       "    </tr>\n",
       "    <tr>\n",
       "        <td>Jaguar</td>\n",
       "        <td>&nbsp;&nbsp;&nbsp;&nbsp;&nbsp;&nbsp;36.00</td>\n",
       "    </tr>\n",
       "    <tr>\n",
       "        <td>Macaroni Penguin</td>\n",
       "        <td>&nbsp;&nbsp;&nbsp;&nbsp;&nbsp;&nbsp;74.00</td>\n",
       "    </tr>\n",
       "    <tr>\n",
       "        <td>sloth</td>\n",
       "        <td>&nbsp;&nbsp;&nbsp;&nbsp;&nbsp;&nbsp;73.33</td>\n",
       "    </tr>\n",
       "    <tr>\n",
       "        <td>Armadillo</td>\n",
       "        <td>&nbsp;&nbsp;&nbsp;&nbsp;&nbsp;&nbsp;52.00</td>\n",
       "    </tr>\n",
       "</table>"
      ],
      "text/plain": [
       "[('Newt', '      58.33'),\n",
       " ('Pink Fairy Armadillo', '      38.00'),\n",
       " ('Humboldt Penguin', '      28.00'),\n",
       " ('Long-Eared Owl', '      23.00'),\n",
       " ('Jaguar', '      36.00'),\n",
       " ('Macaroni Penguin', '      74.00'),\n",
       " ('sloth', '      73.33'),\n",
       " ('Armadillo', '      52.00')]"
      ]
     },
     "execution_count": 23,
     "metadata": {},
     "output_type": "execute_result"
    }
   ],
   "source": [
    "%%sql\n",
    "\n",
    "select species, to_char(avg(age), '999,999.99')\n",
    "from animal\n",
    "group by species;"
   ]
  },
  {
   "cell_type": "markdown",
   "metadata": {},
   "source": [
    "## Write a SQL query that displays all penguins in the zoo.\n"
   ]
  },
  {
   "cell_type": "code",
   "execution_count": 14,
   "metadata": {},
   "outputs": [
    {
     "name": "stdout",
     "output_type": "stream",
     "text": [
      "2 rows affected.\n"
     ]
    },
    {
     "data": {
      "text/html": [
       "<table>\n",
       "    <tr>\n",
       "        <th>index</th>\n",
       "        <th>id</th>\n",
       "        <th>name</th>\n",
       "        <th>age</th>\n",
       "        <th>species</th>\n",
       "        <th>location</th>\n",
       "    </tr>\n",
       "    <tr>\n",
       "        <td>2</td>\n",
       "        <td>3</td>\n",
       "        <td>Underrated Thunder</td>\n",
       "        <td>74</td>\n",
       "        <td>Macaroni Penguin</td>\n",
       "        <td>Basement</td>\n",
       "    </tr>\n",
       "    <tr>\n",
       "        <td>4</td>\n",
       "        <td>5</td>\n",
       "        <td>Wild Isotope</td>\n",
       "        <td>28</td>\n",
       "        <td>Humboldt Penguin</td>\n",
       "        <td>Attic</td>\n",
       "    </tr>\n",
       "</table>"
      ],
      "text/plain": [
       "[(2, 3, 'Underrated Thunder', 74, 'Macaroni Penguin', 'Basement'),\n",
       " (4, 5, 'Wild Isotope', 28, 'Humboldt Penguin', 'Attic')]"
      ]
     },
     "execution_count": 14,
     "metadata": {},
     "output_type": "execute_result"
    }
   ],
   "source": [
    "%%sql\n",
    "\n",
    "select *\n",
    "from animal\n",
    "where species like '%Penguin%'"
   ]
  },
  {
   "cell_type": "markdown",
   "metadata": {},
   "source": [
    "## Write a SQL query to insert a new record into the animal table.\n"
   ]
  },
  {
   "cell_type": "code",
   "execution_count": 25,
   "metadata": {},
   "outputs": [
    {
     "name": "stdout",
     "output_type": "stream",
     "text": [
      "1 rows affected.\n"
     ]
    },
    {
     "data": {
      "text/plain": [
       "[]"
      ]
     },
     "execution_count": 25,
     "metadata": {},
     "output_type": "execute_result"
    }
   ],
   "source": [
    "%%sql\n",
    "\n",
    "insert into animal values(140, 140, 'Alice', 40, 'Aardvark', 'Attic')"
   ]
  },
  {
   "cell_type": "code",
   "execution_count": 26,
   "metadata": {},
   "outputs": [
    {
     "name": "stdout",
     "output_type": "stream",
     "text": [
      "17 rows affected.\n"
     ]
    },
    {
     "data": {
      "text/html": [
       "<table>\n",
       "    <tr>\n",
       "        <th>index</th>\n",
       "        <th>id</th>\n",
       "        <th>name</th>\n",
       "        <th>age</th>\n",
       "        <th>species</th>\n",
       "        <th>location</th>\n",
       "    </tr>\n",
       "    <tr>\n",
       "        <td>0</td>\n",
       "        <td>1</td>\n",
       "        <td>Chunk</td>\n",
       "        <td>34</td>\n",
       "        <td>Jaguar</td>\n",
       "        <td>Attic</td>\n",
       "    </tr>\n",
       "    <tr>\n",
       "        <td>1</td>\n",
       "        <td>2</td>\n",
       "        <td>Wind</td>\n",
       "        <td>99</td>\n",
       "        <td>Newt</td>\n",
       "        <td>Basement</td>\n",
       "    </tr>\n",
       "    <tr>\n",
       "        <td>2</td>\n",
       "        <td>3</td>\n",
       "        <td>Underrated Thunder</td>\n",
       "        <td>74</td>\n",
       "        <td>Macaroni Penguin</td>\n",
       "        <td>Basement</td>\n",
       "    </tr>\n",
       "    <tr>\n",
       "        <td>3</td>\n",
       "        <td>4</td>\n",
       "        <td>Axe</td>\n",
       "        <td>23</td>\n",
       "        <td>Long-Eared Owl</td>\n",
       "        <td>Garage</td>\n",
       "    </tr>\n",
       "    <tr>\n",
       "        <td>4</td>\n",
       "        <td>5</td>\n",
       "        <td>Wild Isotope</td>\n",
       "        <td>28</td>\n",
       "        <td>Humboldt Penguin</td>\n",
       "        <td>Attic</td>\n",
       "    </tr>\n",
       "    <tr>\n",
       "        <td>5</td>\n",
       "        <td>6</td>\n",
       "        <td>Night Star</td>\n",
       "        <td>26</td>\n",
       "        <td>Newt</td>\n",
       "        <td>Garage</td>\n",
       "    </tr>\n",
       "    <tr>\n",
       "        <td>6</td>\n",
       "        <td>7</td>\n",
       "        <td>Random Bully</td>\n",
       "        <td>52</td>\n",
       "        <td>Armadillo</td>\n",
       "        <td>Back yard</td>\n",
       "    </tr>\n",
       "    <tr>\n",
       "        <td>7</td>\n",
       "        <td>8</td>\n",
       "        <td>Cunning Fury</td>\n",
       "        <td>38</td>\n",
       "        <td>Pink Fairy Armadillo</td>\n",
       "        <td>Back yard</td>\n",
       "    </tr>\n",
       "    <tr>\n",
       "        <td>8</td>\n",
       "        <td>9</td>\n",
       "        <td>Evening Chunk</td>\n",
       "        <td>50</td>\n",
       "        <td>Newt</td>\n",
       "        <td>Basement</td>\n",
       "    </tr>\n",
       "    <tr>\n",
       "        <td>9</td>\n",
       "        <td>10</td>\n",
       "        <td>Thunder</td>\n",
       "        <td>38</td>\n",
       "        <td>Jaguar</td>\n",
       "        <td>Attic</td>\n",
       "    </tr>\n",
       "    <tr>\n",
       "        <td>11</td>\n",
       "        <td>1</td>\n",
       "        <td>Tao</td>\n",
       "        <td>100</td>\n",
       "        <td>sloth</td>\n",
       "        <td>graveyard</td>\n",
       "    </tr>\n",
       "    <tr>\n",
       "        <td>10</td>\n",
       "        <td>1</td>\n",
       "        <td>Tao</td>\n",
       "        <td>100</td>\n",
       "        <td>sloth</td>\n",
       "        <td>graveyard</td>\n",
       "    </tr>\n",
       "    <tr>\n",
       "        <td>10</td>\n",
       "        <td>1</td>\n",
       "        <td>Tao</td>\n",
       "        <td>100</td>\n",
       "        <td>sloth</td>\n",
       "        <td>graveyard</td>\n",
       "    </tr>\n",
       "    <tr>\n",
       "        <td>9</td>\n",
       "        <td>1</td>\n",
       "        <td>Tao</td>\n",
       "        <td>100</td>\n",
       "        <td>sloth</td>\n",
       "        <td>graveyard</td>\n",
       "    </tr>\n",
       "    <tr>\n",
       "        <td>10</td>\n",
       "        <td>10</td>\n",
       "        <td>Tao</td>\n",
       "        <td>20</td>\n",
       "        <td>sloth</td>\n",
       "        <td>grageyard</td>\n",
       "    </tr>\n",
       "    <tr>\n",
       "        <td>10</td>\n",
       "        <td>11</td>\n",
       "        <td>Tao</td>\n",
       "        <td>20</td>\n",
       "        <td>sloth</td>\n",
       "        <td>grageyard</td>\n",
       "    </tr>\n",
       "    <tr>\n",
       "        <td>140</td>\n",
       "        <td>140</td>\n",
       "        <td>Alice</td>\n",
       "        <td>40</td>\n",
       "        <td>Aardvark</td>\n",
       "        <td>Attic</td>\n",
       "    </tr>\n",
       "</table>"
      ],
      "text/plain": [
       "[(0, 1, 'Chunk', 34, 'Jaguar', 'Attic'),\n",
       " (1, 2, 'Wind', 99, 'Newt', 'Basement'),\n",
       " (2, 3, 'Underrated Thunder', 74, 'Macaroni Penguin', 'Basement'),\n",
       " (3, 4, 'Axe', 23, 'Long-Eared Owl', 'Garage'),\n",
       " (4, 5, 'Wild Isotope', 28, 'Humboldt Penguin', 'Attic'),\n",
       " (5, 6, 'Night Star', 26, 'Newt', 'Garage'),\n",
       " (6, 7, 'Random Bully', 52, 'Armadillo', 'Back yard'),\n",
       " (7, 8, 'Cunning Fury', 38, 'Pink Fairy Armadillo', 'Back yard'),\n",
       " (8, 9, 'Evening Chunk', 50, 'Newt', 'Basement'),\n",
       " (9, 10, 'Thunder', 38, 'Jaguar', 'Attic'),\n",
       " (11, 1, 'Tao', 100, 'sloth', 'graveyard'),\n",
       " (10, 1, 'Tao', 100, 'sloth', 'graveyard'),\n",
       " (10, 1, 'Tao', 100, 'sloth', 'graveyard'),\n",
       " (9, 1, 'Tao', 100, 'sloth', 'graveyard'),\n",
       " (10, 10, 'Tao', 20, 'sloth', 'grageyard'),\n",
       " (10, 11, 'Tao', 20, 'sloth', 'grageyard'),\n",
       " (140, 140, 'Alice', 40, 'Aardvark', 'Attic')]"
      ]
     },
     "execution_count": 26,
     "metadata": {},
     "output_type": "execute_result"
    }
   ],
   "source": [
    "%%sql\n",
    "\n",
    "select *\n",
    "from animal"
   ]
  },
  {
   "cell_type": "markdown",
   "metadata": {},
   "source": [
    "## Write a SQL query to delete all newts from the animal table."
   ]
  },
  {
   "cell_type": "code",
   "execution_count": 29,
   "metadata": {},
   "outputs": [
    {
     "name": "stdout",
     "output_type": "stream",
     "text": [
      "6 rows affected.\n"
     ]
    },
    {
     "data": {
      "text/plain": [
       "[]"
      ]
     },
     "execution_count": 29,
     "metadata": {},
     "output_type": "execute_result"
    }
   ],
   "source": [
    "%%sql\n",
    "\n",
    "delete\n",
    "from animal\n",
    "where species = 'sloth'"
   ]
  },
  {
   "cell_type": "code",
   "execution_count": 31,
   "metadata": {},
   "outputs": [
    {
     "name": "stdout",
     "output_type": "stream",
     "text": [
      "8 rows affected.\n"
     ]
    },
    {
     "data": {
      "text/html": [
       "<table>\n",
       "    <tr>\n",
       "        <th>index</th>\n",
       "        <th>id</th>\n",
       "        <th>name</th>\n",
       "        <th>age</th>\n",
       "        <th>species</th>\n",
       "        <th>location</th>\n",
       "    </tr>\n",
       "    <tr>\n",
       "        <td>0</td>\n",
       "        <td>1</td>\n",
       "        <td>Chunk</td>\n",
       "        <td>34</td>\n",
       "        <td>Jaguar</td>\n",
       "        <td>Attic</td>\n",
       "    </tr>\n",
       "    <tr>\n",
       "        <td>2</td>\n",
       "        <td>3</td>\n",
       "        <td>Underrated Thunder</td>\n",
       "        <td>74</td>\n",
       "        <td>Macaroni Penguin</td>\n",
       "        <td>Basement</td>\n",
       "    </tr>\n",
       "    <tr>\n",
       "        <td>3</td>\n",
       "        <td>4</td>\n",
       "        <td>Axe</td>\n",
       "        <td>23</td>\n",
       "        <td>Long-Eared Owl</td>\n",
       "        <td>Garage</td>\n",
       "    </tr>\n",
       "    <tr>\n",
       "        <td>4</td>\n",
       "        <td>5</td>\n",
       "        <td>Wild Isotope</td>\n",
       "        <td>28</td>\n",
       "        <td>Humboldt Penguin</td>\n",
       "        <td>Attic</td>\n",
       "    </tr>\n",
       "    <tr>\n",
       "        <td>6</td>\n",
       "        <td>7</td>\n",
       "        <td>Random Bully</td>\n",
       "        <td>52</td>\n",
       "        <td>Armadillo</td>\n",
       "        <td>Back yard</td>\n",
       "    </tr>\n",
       "    <tr>\n",
       "        <td>7</td>\n",
       "        <td>8</td>\n",
       "        <td>Cunning Fury</td>\n",
       "        <td>38</td>\n",
       "        <td>Pink Fairy Armadillo</td>\n",
       "        <td>Back yard</td>\n",
       "    </tr>\n",
       "    <tr>\n",
       "        <td>9</td>\n",
       "        <td>10</td>\n",
       "        <td>Thunder</td>\n",
       "        <td>38</td>\n",
       "        <td>Jaguar</td>\n",
       "        <td>Attic</td>\n",
       "    </tr>\n",
       "    <tr>\n",
       "        <td>140</td>\n",
       "        <td>140</td>\n",
       "        <td>Alice</td>\n",
       "        <td>40</td>\n",
       "        <td>Aardvark</td>\n",
       "        <td>Attic</td>\n",
       "    </tr>\n",
       "</table>"
      ],
      "text/plain": [
       "[(0, 1, 'Chunk', 34, 'Jaguar', 'Attic'),\n",
       " (2, 3, 'Underrated Thunder', 74, 'Macaroni Penguin', 'Basement'),\n",
       " (3, 4, 'Axe', 23, 'Long-Eared Owl', 'Garage'),\n",
       " (4, 5, 'Wild Isotope', 28, 'Humboldt Penguin', 'Attic'),\n",
       " (6, 7, 'Random Bully', 52, 'Armadillo', 'Back yard'),\n",
       " (7, 8, 'Cunning Fury', 38, 'Pink Fairy Armadillo', 'Back yard'),\n",
       " (9, 10, 'Thunder', 38, 'Jaguar', 'Attic'),\n",
       " (140, 140, 'Alice', 40, 'Aardvark', 'Attic')]"
      ]
     },
     "execution_count": 31,
     "metadata": {},
     "output_type": "execute_result"
    }
   ],
   "source": [
    "%%sql\n",
    "\n",
    "select *\n",
    "from animal"
   ]
  },
  {
   "cell_type": "code",
   "execution_count": 32,
   "metadata": {},
   "outputs": [
    {
     "name": "stdout",
     "output_type": "stream",
     "text": [
      "2 rows affected.\n"
     ]
    },
    {
     "data": {
      "text/html": [
       "<table>\n",
       "    <tr>\n",
       "        <th>index</th>\n",
       "        <th>id</th>\n",
       "        <th>name</th>\n",
       "        <th>age</th>\n",
       "        <th>species</th>\n",
       "        <th>location</th>\n",
       "    </tr>\n",
       "    <tr>\n",
       "        <td>2</td>\n",
       "        <td>3</td>\n",
       "        <td>Underrated Thunder</td>\n",
       "        <td>74</td>\n",
       "        <td>Macaroni Penguin</td>\n",
       "        <td>Basement</td>\n",
       "    </tr>\n",
       "    <tr>\n",
       "        <td>4</td>\n",
       "        <td>5</td>\n",
       "        <td>Wild Isotope</td>\n",
       "        <td>28</td>\n",
       "        <td>Humboldt Penguin</td>\n",
       "        <td>Attic</td>\n",
       "    </tr>\n",
       "</table>"
      ],
      "text/plain": [
       "[(2, 3, 'Underrated Thunder', 74, 'Macaroni Penguin', 'Basement'),\n",
       " (4, 5, 'Wild Isotope', 28, 'Humboldt Penguin', 'Attic')]"
      ]
     },
     "execution_count": 32,
     "metadata": {},
     "output_type": "execute_result"
    }
   ],
   "source": [
    "%%sql\n",
    "\n",
    "select *\n",
    "from animal\n",
    "where species like '%Penguin%'"
   ]
  },
  {
   "cell_type": "code",
   "execution_count": 33,
   "metadata": {},
   "outputs": [
    {
     "name": "stdout",
     "output_type": "stream",
     "text": [
      "6 rows affected.\n"
     ]
    },
    {
     "data": {
      "text/html": [
       "<table>\n",
       "    <tr>\n",
       "        <th>index</th>\n",
       "        <th>id</th>\n",
       "        <th>name</th>\n",
       "        <th>age</th>\n",
       "        <th>species</th>\n",
       "        <th>location</th>\n",
       "    </tr>\n",
       "    <tr>\n",
       "        <td>0</td>\n",
       "        <td>1</td>\n",
       "        <td>Chunk</td>\n",
       "        <td>34</td>\n",
       "        <td>Jaguar</td>\n",
       "        <td>Attic</td>\n",
       "    </tr>\n",
       "    <tr>\n",
       "        <td>3</td>\n",
       "        <td>4</td>\n",
       "        <td>Axe</td>\n",
       "        <td>23</td>\n",
       "        <td>Long-Eared Owl</td>\n",
       "        <td>Garage</td>\n",
       "    </tr>\n",
       "    <tr>\n",
       "        <td>6</td>\n",
       "        <td>7</td>\n",
       "        <td>Random Bully</td>\n",
       "        <td>52</td>\n",
       "        <td>Armadillo</td>\n",
       "        <td>Back yard</td>\n",
       "    </tr>\n",
       "    <tr>\n",
       "        <td>7</td>\n",
       "        <td>8</td>\n",
       "        <td>Cunning Fury</td>\n",
       "        <td>38</td>\n",
       "        <td>Pink Fairy Armadillo</td>\n",
       "        <td>Back yard</td>\n",
       "    </tr>\n",
       "    <tr>\n",
       "        <td>9</td>\n",
       "        <td>10</td>\n",
       "        <td>Thunder</td>\n",
       "        <td>38</td>\n",
       "        <td>Jaguar</td>\n",
       "        <td>Attic</td>\n",
       "    </tr>\n",
       "    <tr>\n",
       "        <td>140</td>\n",
       "        <td>140</td>\n",
       "        <td>Alice</td>\n",
       "        <td>40</td>\n",
       "        <td>Aardvark</td>\n",
       "        <td>Attic</td>\n",
       "    </tr>\n",
       "</table>"
      ],
      "text/plain": [
       "[(0, 1, 'Chunk', 34, 'Jaguar', 'Attic'),\n",
       " (3, 4, 'Axe', 23, 'Long-Eared Owl', 'Garage'),\n",
       " (6, 7, 'Random Bully', 52, 'Armadillo', 'Back yard'),\n",
       " (7, 8, 'Cunning Fury', 38, 'Pink Fairy Armadillo', 'Back yard'),\n",
       " (9, 10, 'Thunder', 38, 'Jaguar', 'Attic'),\n",
       " (140, 140, 'Alice', 40, 'Aardvark', 'Attic')]"
      ]
     },
     "execution_count": 33,
     "metadata": {},
     "output_type": "execute_result"
    }
   ],
   "source": [
    "%%sql\n",
    "\n",
    "select *\n",
    "from animal\n",
    "where species not like '%Penguin%'"
   ]
  }
 ],
 "metadata": {
  "kernelspec": {
   "display_name": "Python 3",
   "language": "python",
   "name": "python3"
  },
  "language_info": {
   "codemirror_mode": {
    "name": "ipython",
    "version": 3
   },
   "file_extension": ".py",
   "mimetype": "text/x-python",
   "name": "python",
   "nbconvert_exporter": "python",
   "pygments_lexer": "ipython3",
   "version": "3.5.1"
  }
 },
 "nbformat": 4,
 "nbformat_minor": 2
}
