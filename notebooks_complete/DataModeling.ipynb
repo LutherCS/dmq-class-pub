{
 "cells": [
  {
   "cell_type": "markdown",
   "metadata": {},
   "source": [
    "# Data Modeling\n",
    "\n",
    "## Registration database"
   ]
  },
  {
   "cell_type": "markdown",
   "metadata": {},
   "source": [
    "## Modeling a Registration Database\n",
    "\n",
    "* It is registration time, and the registration process is driven by the online registration system\n",
    "* Lets think about this and develop a data model for registration\n",
    "* We'll use Logical Data Structure (LDS) for modeling\n",
    "\n",
    "\n",
    "1. What are the main entities involved?\n",
    "1. Ask the question \"what do we want to remember about each entity?\"\n",
    "1. How do we uniquely identify each entity?\n",
    "1. For each attribute, are there other things we want to remember? \n",
    "\n",
    "    1. If so, then promote that attribute to an entity\n",
    "    1. What are the relationships between these entities?\n"
   ]
  },
  {
   "cell_type": "markdown",
   "metadata": {},
   "source": [
    "# Data Model: Entities\n",
    "\n",
    "Here is one version of the model. This one has entities only, without any relationships.\n",
    "\n",
    "![](registrationdb_entities.png)"
   ]
  },
  {
   "cell_type": "markdown",
   "metadata": {},
   "source": [
    "# Data Model: Relationships\n",
    "\n",
    "Here is a version of the model with realtionships. **Notice that there are several many-many relationships**  These relationships need to be further evolved, but we will keep them this way for now.\n",
    "\n",
    "![](registrationdb_relationships.png)"
   ]
  },
  {
   "cell_type": "markdown",
   "metadata": {},
   "source": [
    "# Data Model: Converting to a Database\n",
    "\n",
    "* We will use SQL Data Definition Language (DDL) to create a table\n",
    "\n",
    "* Full documentation is here:\n",
    "  * [PostgreSQL 9.4](https://www.postgresql.org/docs/9.4/static/sql-createtable.html)\n",
    "  * [Latest PostgreSQL](https://www.postgresql.org/docs/current/static/sql-createtable.html)\n",
    "\n",
    "* More than you want to know at the moment\n",
    "\n",
    "* Give the table a name\n",
    "  * Singular noun\n",
    "\n",
    "* Describe each column (field) with a name and a data type\n",
    "  * integer\n",
    "  * real - float\n",
    "  * text - varchar\n",
    "  * date \n",
    "  \n",
    "* Describe any constraints\n",
    "  * One important constraint is to identify the primary key"
   ]
  },
  {
   "cell_type": "markdown",
   "metadata": {},
   "source": [
    "# SQL: Connecting to Your Database\n",
    "\n",
    "1. Load sql module in the notebook: `%load_ext sql`\n",
    "\n",
    "1. Connect to **your** database: `postgresql://yasiro01:@localhost/yasiro01`\n",
    "  * Replace *yasiro01* with your name both as a user and a database name"
   ]
  },
  {
   "cell_type": "code",
   "execution_count": 1,
   "metadata": {},
   "outputs": [],
   "source": [
    "import warnings\n",
    "warnings.filterwarnings('ignore')\n",
    "\n",
    "%load_ext sql\n"
   ]
  },
  {
   "cell_type": "code",
   "execution_count": 2,
   "metadata": {},
   "outputs": [
    {
     "data": {
      "text/plain": [
       "'Connected: yasiro01@yasiro01'"
      ]
     },
     "execution_count": 2,
     "metadata": {},
     "output_type": "execute_result"
    }
   ],
   "source": [
    "%%sql \n",
    "\n",
    "postgresql://yasiro01:@localhost/yasiro01\n",
    "        "
   ]
  },
  {
   "cell_type": "markdown",
   "metadata": {},
   "source": [
    "# SQL: Data Manipulation\n",
    "\n",
    "* **C**reate\n",
    "* **R**ead\n",
    "* **U**pdate\n",
    "* **D**elete"
   ]
  },
  {
   "cell_type": "markdown",
   "metadata": {},
   "source": [
    "# SQL: Database Structure Manipulation\n",
    "\n",
    "SQL can be used to create both the database structure and data inside."
   ]
  },
  {
   "cell_type": "code",
   "execution_count": 3,
   "metadata": {},
   "outputs": [
    {
     "name": "stdout",
     "output_type": "stream",
     "text": [
      "Done.\n",
      "Done.\n"
     ]
    },
    {
     "data": {
      "text/plain": [
       "[]"
      ]
     },
     "execution_count": 3,
     "metadata": {},
     "output_type": "execute_result"
    }
   ],
   "source": [
    "%%sql\n",
    "\n",
    "drop table if exists student;\n",
    "\n",
    "create table student (\n",
    "    username varchar(8),\n",
    "    name_first varchar(20),\n",
    "    name_last varchar(20),\n",
    "    date_start date,\n",
    "    \n",
    "    constraint sid_key primary key(username)\n",
    ");\n"
   ]
  },
  {
   "cell_type": "markdown",
   "metadata": {},
   "source": [
    "# SQL: Medatada\n",
    "\n",
    "Each table hold description of the data (metadata) in its *INFORMATION_SCHEMA.COLUMNS*. Some metadata fields are:\n",
    "\n",
    "* table_name\n",
    "\n",
    "* column_name\n",
    "\n",
    "* is_nullable\n",
    "\n",
    "* character_maximum_length\n",
    "\n",
    "* is_updatable"
   ]
  },
  {
   "cell_type": "code",
   "execution_count": 4,
   "metadata": {},
   "outputs": [
    {
     "name": "stdout",
     "output_type": "stream",
     "text": [
      "4 rows affected.\n"
     ]
    },
    {
     "data": {
      "text/html": [
       "<table>\n",
       "    <tr>\n",
       "        <th>column_name</th>\n",
       "        <th>data_type</th>\n",
       "        <th>character_maximum_length</th>\n",
       "    </tr>\n",
       "    <tr>\n",
       "        <td>username</td>\n",
       "        <td>character varying</td>\n",
       "        <td>8</td>\n",
       "    </tr>\n",
       "    <tr>\n",
       "        <td>name_first</td>\n",
       "        <td>character varying</td>\n",
       "        <td>20</td>\n",
       "    </tr>\n",
       "    <tr>\n",
       "        <td>name_last</td>\n",
       "        <td>character varying</td>\n",
       "        <td>20</td>\n",
       "    </tr>\n",
       "    <tr>\n",
       "        <td>date_start</td>\n",
       "        <td>date</td>\n",
       "        <td>None</td>\n",
       "    </tr>\n",
       "</table>"
      ],
      "text/plain": [
       "[('username', 'character varying', 8),\n",
       " ('name_first', 'character varying', 20),\n",
       " ('name_last', 'character varying', 20),\n",
       " ('date_start', 'date', None)]"
      ]
     },
     "execution_count": 4,
     "metadata": {},
     "output_type": "execute_result"
    }
   ],
   "source": [
    "%%sql\n",
    "\n",
    "select column_name, data_type, character_maximum_length\n",
    "from INFORMATION_SCHEMA.COLUMNS\n",
    "where table_name = 'student';\n"
   ]
  },
  {
   "cell_type": "markdown",
   "metadata": {},
   "source": [
    "# SQL: Create\n",
    "\n",
    "SQL has another clause, `INSERT`, to add **data** to a database\n",
    "\n",
    "    insert into table (column_1, column_2, ..., column_n) values(value_1, value_2, ..., value_n);\n",
    "    \n",
    "The list of columns is optional. If it is not given then value_1, value_2, etc. must be in the order they appear in the create table statement. If you give the column list then the columns and values must be in the same order.\n",
    "\n",
    "If you do not give a column its value, it will be null or the default value you specify."
   ]
  },
  {
   "cell_type": "code",
   "execution_count": 5,
   "metadata": {},
   "outputs": [
    {
     "name": "stdout",
     "output_type": "stream",
     "text": [
      "1 rows affected.\n",
      "1 rows affected.\n",
      "1 rows affected.\n"
     ]
    },
    {
     "data": {
      "text/plain": [
       "[]"
      ]
     },
     "execution_count": 5,
     "metadata": {},
     "output_type": "execute_result"
    }
   ],
   "source": [
    "%%sql\n",
    "\n",
    "insert into student (username, name_first, name_last) values('pottha01', 'Harry', 'Potter');\n",
    "insert into student (username, name_first, name_last) values('weasro02', 'Ron', 'Weasley');\n",
    "insert into student values('granhe03', 'Hermione', 'Granger', '2018-02-08');\n"
   ]
  },
  {
   "cell_type": "markdown",
   "metadata": {},
   "source": [
    "# SQL: Read\n",
    "\n",
    "Use `SELECT` clause to read (retrieve) data from the database."
   ]
  },
  {
   "cell_type": "code",
   "execution_count": 6,
   "metadata": {},
   "outputs": [
    {
     "name": "stdout",
     "output_type": "stream",
     "text": [
      "3 rows affected.\n"
     ]
    },
    {
     "data": {
      "text/html": [
       "<table>\n",
       "    <tr>\n",
       "        <th>username</th>\n",
       "        <th>name_first</th>\n",
       "        <th>name_last</th>\n",
       "        <th>date_start</th>\n",
       "    </tr>\n",
       "    <tr>\n",
       "        <td>pottha01</td>\n",
       "        <td>Harry</td>\n",
       "        <td>Potter</td>\n",
       "        <td>None</td>\n",
       "    </tr>\n",
       "    <tr>\n",
       "        <td>weasro02</td>\n",
       "        <td>Ron</td>\n",
       "        <td>Weasley</td>\n",
       "        <td>None</td>\n",
       "    </tr>\n",
       "    <tr>\n",
       "        <td>granhe03</td>\n",
       "        <td>Hermione</td>\n",
       "        <td>Granger</td>\n",
       "        <td>2018-02-08</td>\n",
       "    </tr>\n",
       "</table>"
      ],
      "text/plain": [
       "[('pottha01', 'Harry', 'Potter', None),\n",
       " ('weasro02', 'Ron', 'Weasley', None),\n",
       " ('granhe03', 'Hermione', 'Granger', datetime.date(2018, 2, 8))]"
      ]
     },
     "execution_count": 6,
     "metadata": {},
     "output_type": "execute_result"
    }
   ],
   "source": [
    "%%sql\n",
    "\n",
    "select *\n",
    "from student;\n"
   ]
  },
  {
   "cell_type": "markdown",
   "metadata": {},
   "source": [
    "# SQL: Conditional Read"
   ]
  },
  {
   "cell_type": "code",
   "execution_count": 7,
   "metadata": {},
   "outputs": [
    {
     "name": "stdout",
     "output_type": "stream",
     "text": [
      "2 rows affected.\n"
     ]
    },
    {
     "data": {
      "text/html": [
       "<table>\n",
       "    <tr>\n",
       "        <th>username</th>\n",
       "        <th>name_first</th>\n",
       "        <th>name_last</th>\n",
       "        <th>date_start</th>\n",
       "    </tr>\n",
       "    <tr>\n",
       "        <td>pottha01</td>\n",
       "        <td>Harry</td>\n",
       "        <td>Potter</td>\n",
       "        <td>None</td>\n",
       "    </tr>\n",
       "    <tr>\n",
       "        <td>weasro02</td>\n",
       "        <td>Ron</td>\n",
       "        <td>Weasley</td>\n",
       "        <td>None</td>\n",
       "    </tr>\n",
       "</table>"
      ],
      "text/plain": [
       "[('pottha01', 'Harry', 'Potter', None), ('weasro02', 'Ron', 'Weasley', None)]"
      ]
     },
     "execution_count": 7,
     "metadata": {},
     "output_type": "execute_result"
    }
   ],
   "source": [
    "%%sql\n",
    "\n",
    "select *\n",
    "from student\n",
    "where date_start is null;\n"
   ]
  },
  {
   "cell_type": "markdown",
   "metadata": {},
   "source": [
    "# SQL: Update\n",
    "\n",
    "Use `UPDATE` clause to update (change) data in the database.\n"
   ]
  },
  {
   "cell_type": "code",
   "execution_count": 8,
   "metadata": {},
   "outputs": [
    {
     "name": "stdout",
     "output_type": "stream",
     "text": [
      "3 rows affected.\n"
     ]
    },
    {
     "data": {
      "text/plain": [
       "[]"
      ]
     },
     "execution_count": 8,
     "metadata": {},
     "output_type": "execute_result"
    }
   ],
   "source": [
    "%%sql\n",
    "\n",
    "update student\n",
    "set date_start = '2018/02/08';\n"
   ]
  },
  {
   "cell_type": "code",
   "execution_count": 9,
   "metadata": {},
   "outputs": [
    {
     "name": "stdout",
     "output_type": "stream",
     "text": [
      "3 rows affected.\n"
     ]
    },
    {
     "data": {
      "text/html": [
       "<table>\n",
       "    <tr>\n",
       "        <th>username</th>\n",
       "        <th>name_first</th>\n",
       "        <th>name_last</th>\n",
       "        <th>date_start</th>\n",
       "    </tr>\n",
       "    <tr>\n",
       "        <td>pottha01</td>\n",
       "        <td>Harry</td>\n",
       "        <td>Potter</td>\n",
       "        <td>2018-02-08</td>\n",
       "    </tr>\n",
       "    <tr>\n",
       "        <td>weasro02</td>\n",
       "        <td>Ron</td>\n",
       "        <td>Weasley</td>\n",
       "        <td>2018-02-08</td>\n",
       "    </tr>\n",
       "    <tr>\n",
       "        <td>granhe03</td>\n",
       "        <td>Hermione</td>\n",
       "        <td>Granger</td>\n",
       "        <td>2018-02-08</td>\n",
       "    </tr>\n",
       "</table>"
      ],
      "text/plain": [
       "[('pottha01', 'Harry', 'Potter', datetime.date(2018, 2, 8)),\n",
       " ('weasro02', 'Ron', 'Weasley', datetime.date(2018, 2, 8)),\n",
       " ('granhe03', 'Hermione', 'Granger', datetime.date(2018, 2, 8))]"
      ]
     },
     "execution_count": 9,
     "metadata": {},
     "output_type": "execute_result"
    }
   ],
   "source": [
    "%%sql\n",
    "\n",
    "select *\n",
    "from student;\n"
   ]
  },
  {
   "cell_type": "markdown",
   "metadata": {},
   "source": [
    "# SQL: Conditional Update\n",
    "\n",
    "Populate the database first"
   ]
  },
  {
   "cell_type": "code",
   "execution_count": 10,
   "metadata": {},
   "outputs": [
    {
     "name": "stdout",
     "output_type": "stream",
     "text": [
      "1 rows affected.\n",
      "1 rows affected.\n",
      "1 rows affected.\n",
      "1 rows affected.\n",
      "1 rows affected.\n",
      "1 rows affected.\n"
     ]
    },
    {
     "data": {
      "text/plain": [
       "[]"
      ]
     },
     "execution_count": 10,
     "metadata": {},
     "output_type": "execute_result"
    }
   ],
   "source": [
    "%%sql\n",
    "\n",
    "insert into student values('aardal01', 'Alice', 'Aardvark', '2018-02-08');\n",
    "insert into student values('beavbo02', 'Bob', 'Beaver', '2018/02/08');\n",
    "insert into student values('cheech03', 'Charlie', 'Cheetah', '20180208');\n",
    "insert into student values('dolpdi04', 'Diana', 'Dolphin', '02/08/2018');\n",
    "insert into student values('elepev05', 'Eve', 'Elephant', '2/8/18');\n",
    "insert into student values('flamfr06', 'Fred', 'Flamingo');\n"
   ]
  },
  {
   "cell_type": "code",
   "execution_count": 11,
   "metadata": {},
   "outputs": [
    {
     "name": "stdout",
     "output_type": "stream",
     "text": [
      "9 rows affected.\n"
     ]
    },
    {
     "data": {
      "text/html": [
       "<table>\n",
       "    <tr>\n",
       "        <th>username</th>\n",
       "        <th>name_first</th>\n",
       "        <th>name_last</th>\n",
       "        <th>date_start</th>\n",
       "    </tr>\n",
       "    <tr>\n",
       "        <td>pottha01</td>\n",
       "        <td>Harry</td>\n",
       "        <td>Potter</td>\n",
       "        <td>2018-02-08</td>\n",
       "    </tr>\n",
       "    <tr>\n",
       "        <td>weasro02</td>\n",
       "        <td>Ron</td>\n",
       "        <td>Weasley</td>\n",
       "        <td>2018-02-08</td>\n",
       "    </tr>\n",
       "    <tr>\n",
       "        <td>granhe03</td>\n",
       "        <td>Hermione</td>\n",
       "        <td>Granger</td>\n",
       "        <td>2018-02-08</td>\n",
       "    </tr>\n",
       "    <tr>\n",
       "        <td>aardal01</td>\n",
       "        <td>Alice</td>\n",
       "        <td>Aardvark</td>\n",
       "        <td>2018-02-08</td>\n",
       "    </tr>\n",
       "    <tr>\n",
       "        <td>beavbo02</td>\n",
       "        <td>Bob</td>\n",
       "        <td>Beaver</td>\n",
       "        <td>2018-02-08</td>\n",
       "    </tr>\n",
       "    <tr>\n",
       "        <td>cheech03</td>\n",
       "        <td>Charlie</td>\n",
       "        <td>Cheetah</td>\n",
       "        <td>2018-02-08</td>\n",
       "    </tr>\n",
       "    <tr>\n",
       "        <td>dolpdi04</td>\n",
       "        <td>Diana</td>\n",
       "        <td>Dolphin</td>\n",
       "        <td>2018-02-08</td>\n",
       "    </tr>\n",
       "    <tr>\n",
       "        <td>elepev05</td>\n",
       "        <td>Eve</td>\n",
       "        <td>Elephant</td>\n",
       "        <td>2018-02-08</td>\n",
       "    </tr>\n",
       "    <tr>\n",
       "        <td>flamfr06</td>\n",
       "        <td>Fred</td>\n",
       "        <td>Flamingo</td>\n",
       "        <td>None</td>\n",
       "    </tr>\n",
       "</table>"
      ],
      "text/plain": [
       "[('pottha01', 'Harry', 'Potter', datetime.date(2018, 2, 8)),\n",
       " ('weasro02', 'Ron', 'Weasley', datetime.date(2018, 2, 8)),\n",
       " ('granhe03', 'Hermione', 'Granger', datetime.date(2018, 2, 8)),\n",
       " ('aardal01', 'Alice', 'Aardvark', datetime.date(2018, 2, 8)),\n",
       " ('beavbo02', 'Bob', 'Beaver', datetime.date(2018, 2, 8)),\n",
       " ('cheech03', 'Charlie', 'Cheetah', datetime.date(2018, 2, 8)),\n",
       " ('dolpdi04', 'Diana', 'Dolphin', datetime.date(2018, 2, 8)),\n",
       " ('elepev05', 'Eve', 'Elephant', datetime.date(2018, 2, 8)),\n",
       " ('flamfr06', 'Fred', 'Flamingo', None)]"
      ]
     },
     "execution_count": 11,
     "metadata": {},
     "output_type": "execute_result"
    }
   ],
   "source": [
    "%%sql\n",
    "\n",
    "select *\n",
    "from student;\n"
   ]
  },
  {
   "cell_type": "code",
   "execution_count": 12,
   "metadata": {},
   "outputs": [
    {
     "name": "stdout",
     "output_type": "stream",
     "text": [
      "1 rows affected.\n"
     ]
    },
    {
     "data": {
      "text/plain": [
       "[]"
      ]
     },
     "execution_count": 12,
     "metadata": {},
     "output_type": "execute_result"
    }
   ],
   "source": [
    "%%sql\n",
    "\n",
    "update student\n",
    "set date_start = '2017-09-01'\n",
    "where date_start is null;\n"
   ]
  },
  {
   "cell_type": "code",
   "execution_count": 13,
   "metadata": {},
   "outputs": [
    {
     "name": "stdout",
     "output_type": "stream",
     "text": [
      "9 rows affected.\n"
     ]
    },
    {
     "data": {
      "text/html": [
       "<table>\n",
       "    <tr>\n",
       "        <th>username</th>\n",
       "        <th>name_first</th>\n",
       "        <th>name_last</th>\n",
       "        <th>date_start</th>\n",
       "    </tr>\n",
       "    <tr>\n",
       "        <td>pottha01</td>\n",
       "        <td>Harry</td>\n",
       "        <td>Potter</td>\n",
       "        <td>2018-02-08</td>\n",
       "    </tr>\n",
       "    <tr>\n",
       "        <td>weasro02</td>\n",
       "        <td>Ron</td>\n",
       "        <td>Weasley</td>\n",
       "        <td>2018-02-08</td>\n",
       "    </tr>\n",
       "    <tr>\n",
       "        <td>granhe03</td>\n",
       "        <td>Hermione</td>\n",
       "        <td>Granger</td>\n",
       "        <td>2018-02-08</td>\n",
       "    </tr>\n",
       "    <tr>\n",
       "        <td>aardal01</td>\n",
       "        <td>Alice</td>\n",
       "        <td>Aardvark</td>\n",
       "        <td>2018-02-08</td>\n",
       "    </tr>\n",
       "    <tr>\n",
       "        <td>beavbo02</td>\n",
       "        <td>Bob</td>\n",
       "        <td>Beaver</td>\n",
       "        <td>2018-02-08</td>\n",
       "    </tr>\n",
       "    <tr>\n",
       "        <td>cheech03</td>\n",
       "        <td>Charlie</td>\n",
       "        <td>Cheetah</td>\n",
       "        <td>2018-02-08</td>\n",
       "    </tr>\n",
       "    <tr>\n",
       "        <td>dolpdi04</td>\n",
       "        <td>Diana</td>\n",
       "        <td>Dolphin</td>\n",
       "        <td>2018-02-08</td>\n",
       "    </tr>\n",
       "    <tr>\n",
       "        <td>elepev05</td>\n",
       "        <td>Eve</td>\n",
       "        <td>Elephant</td>\n",
       "        <td>2018-02-08</td>\n",
       "    </tr>\n",
       "    <tr>\n",
       "        <td>flamfr06</td>\n",
       "        <td>Fred</td>\n",
       "        <td>Flamingo</td>\n",
       "        <td>2017-09-01</td>\n",
       "    </tr>\n",
       "</table>"
      ],
      "text/plain": [
       "[('pottha01', 'Harry', 'Potter', datetime.date(2018, 2, 8)),\n",
       " ('weasro02', 'Ron', 'Weasley', datetime.date(2018, 2, 8)),\n",
       " ('granhe03', 'Hermione', 'Granger', datetime.date(2018, 2, 8)),\n",
       " ('aardal01', 'Alice', 'Aardvark', datetime.date(2018, 2, 8)),\n",
       " ('beavbo02', 'Bob', 'Beaver', datetime.date(2018, 2, 8)),\n",
       " ('cheech03', 'Charlie', 'Cheetah', datetime.date(2018, 2, 8)),\n",
       " ('dolpdi04', 'Diana', 'Dolphin', datetime.date(2018, 2, 8)),\n",
       " ('elepev05', 'Eve', 'Elephant', datetime.date(2018, 2, 8)),\n",
       " ('flamfr06', 'Fred', 'Flamingo', datetime.date(2017, 9, 1))]"
      ]
     },
     "execution_count": 13,
     "metadata": {},
     "output_type": "execute_result"
    }
   ],
   "source": [
    "%%sql\n",
    "\n",
    "select *\n",
    "from student;\n"
   ]
  },
  {
   "cell_type": "markdown",
   "metadata": {},
   "source": [
    "# SQL: Delete\n",
    "\n",
    "Use `DELETE` clause to delete (remove) data from the database.\n"
   ]
  },
  {
   "cell_type": "code",
   "execution_count": 14,
   "metadata": {},
   "outputs": [
    {
     "name": "stdout",
     "output_type": "stream",
     "text": [
      "9 rows affected.\n"
     ]
    },
    {
     "data": {
      "text/plain": [
       "[]"
      ]
     },
     "execution_count": 14,
     "metadata": {},
     "output_type": "execute_result"
    }
   ],
   "source": [
    "%%sql\n",
    "\n",
    "delete\n",
    "from student;\n"
   ]
  },
  {
   "cell_type": "code",
   "execution_count": 15,
   "metadata": {},
   "outputs": [
    {
     "name": "stdout",
     "output_type": "stream",
     "text": [
      "0 rows affected.\n"
     ]
    },
    {
     "data": {
      "text/html": [
       "<table>\n",
       "    <tr>\n",
       "        <th>username</th>\n",
       "        <th>name_first</th>\n",
       "        <th>name_last</th>\n",
       "        <th>date_start</th>\n",
       "    </tr>\n",
       "</table>"
      ],
      "text/plain": [
       "[]"
      ]
     },
     "execution_count": 15,
     "metadata": {},
     "output_type": "execute_result"
    }
   ],
   "source": [
    "%%sql\n",
    "\n",
    "select *\n",
    "from student;\n"
   ]
  },
  {
   "cell_type": "markdown",
   "metadata": {},
   "source": [
    "# SQL: Conditional Delete"
   ]
  },
  {
   "cell_type": "code",
   "execution_count": 16,
   "metadata": {},
   "outputs": [
    {
     "name": "stdout",
     "output_type": "stream",
     "text": [
      "1 rows affected.\n",
      "1 rows affected.\n",
      "1 rows affected.\n",
      "1 rows affected.\n",
      "1 rows affected.\n",
      "1 rows affected.\n"
     ]
    },
    {
     "data": {
      "text/plain": [
       "[]"
      ]
     },
     "execution_count": 16,
     "metadata": {},
     "output_type": "execute_result"
    }
   ],
   "source": [
    "%%sql\n",
    "\n",
    "insert into student values('aardal01', 'Alice', 'Aardvark', '2018-02-08');\n",
    "insert into student values('beavbo02', 'Bob', 'Beaver', '2018/02/08');\n",
    "insert into student values('cheech03', 'Charlie', 'Cheetah', '20180208');\n",
    "insert into student values('dolpdi04', 'Diana', 'Dolphin', '02/08/2018');\n",
    "insert into student values('elepev05', 'Eve', 'Elephant', '2/8/18');\n",
    "insert into student values('flamfr06', 'Fred', 'Flamingo');\n"
   ]
  },
  {
   "cell_type": "code",
   "execution_count": 17,
   "metadata": {},
   "outputs": [
    {
     "name": "stdout",
     "output_type": "stream",
     "text": [
      "6 rows affected.\n"
     ]
    },
    {
     "data": {
      "text/html": [
       "<table>\n",
       "    <tr>\n",
       "        <th>username</th>\n",
       "        <th>name_first</th>\n",
       "        <th>name_last</th>\n",
       "        <th>date_start</th>\n",
       "    </tr>\n",
       "    <tr>\n",
       "        <td>aardal01</td>\n",
       "        <td>Alice</td>\n",
       "        <td>Aardvark</td>\n",
       "        <td>2018-02-08</td>\n",
       "    </tr>\n",
       "    <tr>\n",
       "        <td>beavbo02</td>\n",
       "        <td>Bob</td>\n",
       "        <td>Beaver</td>\n",
       "        <td>2018-02-08</td>\n",
       "    </tr>\n",
       "    <tr>\n",
       "        <td>cheech03</td>\n",
       "        <td>Charlie</td>\n",
       "        <td>Cheetah</td>\n",
       "        <td>2018-02-08</td>\n",
       "    </tr>\n",
       "    <tr>\n",
       "        <td>dolpdi04</td>\n",
       "        <td>Diana</td>\n",
       "        <td>Dolphin</td>\n",
       "        <td>2018-02-08</td>\n",
       "    </tr>\n",
       "    <tr>\n",
       "        <td>elepev05</td>\n",
       "        <td>Eve</td>\n",
       "        <td>Elephant</td>\n",
       "        <td>2018-02-08</td>\n",
       "    </tr>\n",
       "    <tr>\n",
       "        <td>flamfr06</td>\n",
       "        <td>Fred</td>\n",
       "        <td>Flamingo</td>\n",
       "        <td>None</td>\n",
       "    </tr>\n",
       "</table>"
      ],
      "text/plain": [
       "[('aardal01', 'Alice', 'Aardvark', datetime.date(2018, 2, 8)),\n",
       " ('beavbo02', 'Bob', 'Beaver', datetime.date(2018, 2, 8)),\n",
       " ('cheech03', 'Charlie', 'Cheetah', datetime.date(2018, 2, 8)),\n",
       " ('dolpdi04', 'Diana', 'Dolphin', datetime.date(2018, 2, 8)),\n",
       " ('elepev05', 'Eve', 'Elephant', datetime.date(2018, 2, 8)),\n",
       " ('flamfr06', 'Fred', 'Flamingo', None)]"
      ]
     },
     "execution_count": 17,
     "metadata": {},
     "output_type": "execute_result"
    }
   ],
   "source": [
    "%%sql\n",
    "\n",
    "select *\n",
    "from student;\n"
   ]
  },
  {
   "cell_type": "code",
   "execution_count": 18,
   "metadata": {},
   "outputs": [
    {
     "name": "stdout",
     "output_type": "stream",
     "text": [
      "1 rows affected.\n"
     ]
    },
    {
     "data": {
      "text/html": [
       "<table>\n",
       "    <tr>\n",
       "        <th>username</th>\n",
       "        <th>name_first</th>\n",
       "        <th>name_last</th>\n",
       "        <th>date_start</th>\n",
       "    </tr>\n",
       "    <tr>\n",
       "        <td>cheech03</td>\n",
       "        <td>Charlie</td>\n",
       "        <td>Cheetah</td>\n",
       "        <td>2018-02-08</td>\n",
       "    </tr>\n",
       "</table>"
      ],
      "text/plain": [
       "[('cheech03', 'Charlie', 'Cheetah', datetime.date(2018, 2, 8))]"
      ]
     },
     "execution_count": 18,
     "metadata": {},
     "output_type": "execute_result"
    }
   ],
   "source": [
    "%%sql\n",
    "\n",
    "select *\n",
    "from student\n",
    "where name_first like 'Charl%';\n"
   ]
  },
  {
   "cell_type": "code",
   "execution_count": 19,
   "metadata": {},
   "outputs": [
    {
     "name": "stdout",
     "output_type": "stream",
     "text": [
      "1 rows affected.\n"
     ]
    },
    {
     "data": {
      "text/plain": [
       "[]"
      ]
     },
     "execution_count": 19,
     "metadata": {},
     "output_type": "execute_result"
    }
   ],
   "source": [
    "%%sql\n",
    "\n",
    "delete\n",
    "from student\n",
    "where name_first like 'Charl%';\n"
   ]
  },
  {
   "cell_type": "code",
   "execution_count": 20,
   "metadata": {},
   "outputs": [
    {
     "name": "stdout",
     "output_type": "stream",
     "text": [
      "5 rows affected.\n"
     ]
    },
    {
     "data": {
      "text/html": [
       "<table>\n",
       "    <tr>\n",
       "        <th>username</th>\n",
       "        <th>name_first</th>\n",
       "        <th>name_last</th>\n",
       "        <th>date_start</th>\n",
       "    </tr>\n",
       "    <tr>\n",
       "        <td>aardal01</td>\n",
       "        <td>Alice</td>\n",
       "        <td>Aardvark</td>\n",
       "        <td>2018-02-08</td>\n",
       "    </tr>\n",
       "    <tr>\n",
       "        <td>beavbo02</td>\n",
       "        <td>Bob</td>\n",
       "        <td>Beaver</td>\n",
       "        <td>2018-02-08</td>\n",
       "    </tr>\n",
       "    <tr>\n",
       "        <td>dolpdi04</td>\n",
       "        <td>Diana</td>\n",
       "        <td>Dolphin</td>\n",
       "        <td>2018-02-08</td>\n",
       "    </tr>\n",
       "    <tr>\n",
       "        <td>elepev05</td>\n",
       "        <td>Eve</td>\n",
       "        <td>Elephant</td>\n",
       "        <td>2018-02-08</td>\n",
       "    </tr>\n",
       "    <tr>\n",
       "        <td>flamfr06</td>\n",
       "        <td>Fred</td>\n",
       "        <td>Flamingo</td>\n",
       "        <td>None</td>\n",
       "    </tr>\n",
       "</table>"
      ],
      "text/plain": [
       "[('aardal01', 'Alice', 'Aardvark', datetime.date(2018, 2, 8)),\n",
       " ('beavbo02', 'Bob', 'Beaver', datetime.date(2018, 2, 8)),\n",
       " ('dolpdi04', 'Diana', 'Dolphin', datetime.date(2018, 2, 8)),\n",
       " ('elepev05', 'Eve', 'Elephant', datetime.date(2018, 2, 8)),\n",
       " ('flamfr06', 'Fred', 'Flamingo', None)]"
      ]
     },
     "execution_count": 20,
     "metadata": {},
     "output_type": "execute_result"
    }
   ],
   "source": [
    "%%sql\n",
    "\n",
    "select *\n",
    "from student;\n"
   ]
  }
 ],
 "metadata": {
  "kernelspec": {
   "display_name": "Python 3",
   "language": "python",
   "name": "python3"
  },
  "language_info": {
   "codemirror_mode": {
    "name": "ipython",
    "version": 3
   },
   "file_extension": ".py",
   "mimetype": "text/x-python",
   "name": "python",
   "nbconvert_exporter": "python",
   "pygments_lexer": "ipython3",
   "version": "3.5.1"
  }
 },
 "nbformat": 4,
 "nbformat_minor": 2
}
