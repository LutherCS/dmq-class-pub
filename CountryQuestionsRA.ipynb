{
 "cells": [
  {
   "cell_type": "markdown",
   "metadata": {},
   "source": [
    "# Asking Questions about Countries\n"
   ]
  },
  {
   "cell_type": "markdown",
   "metadata": {},
   "source": [
    "## Part 1:  The Questions\n",
    "\n",
    "![](country.png)\n",
    "\n"
   ]
  },
  {
   "cell_type": "markdown",
   "metadata": {},
   "source": [
    "### Brainstorm some Questions about countries\n",
    "\n",
    "1.\n"
   ]
  },
  {
   "cell_type": "markdown",
   "metadata": {},
   "source": [
    "## Part 2:  Using Relational Algebra"
   ]
  },
  {
   "cell_type": "markdown",
   "metadata": {},
   "source": [
    "### Getting started with Pandas\n",
    "\n",
    "1.  In your browser go to https://knuth.luther.edu:8443\n",
    "   * Note:  You will probably get an error about an insecure or invalid certificate\n",
    "   * Click on advanced or more information and give the OK, always accept this certificate\n",
    "2.  Login using your NorseKey and Password\n",
    "3.  The next cell shows how to set up your environment and load the country data\n"
   ]
  },
  {
   "cell_type": "code",
   "execution_count": null,
   "metadata": {},
   "outputs": [],
   "source": [
    "# all of your notebooks and homework are going to start out a lot like this.\n",
    "\n",
    "from reframe import Relation\n",
    "\n",
    "country = Relation('/home/faculty/yasiro01/pub/country.csv')\n"
   ]
  },
  {
   "cell_type": "markdown",
   "metadata": {},
   "source": [
    "We will answer the following questions and more using the following relational operators\n",
    "\n",
    "* project\n",
    "* query\n",
    "* sort\n",
    "* head"
   ]
  },
  {
   "cell_type": "markdown",
   "metadata": {},
   "source": [
    "### List all data about all countries in the Middle East region"
   ]
  },
  {
   "cell_type": "code",
   "execution_count": null,
   "metadata": {},
   "outputs": [],
   "source": [
    "country.query(\"region == 'Middle East'\").head(10)"
   ]
  },
  {
   "cell_type": "markdown",
   "metadata": {},
   "source": [
    "###  List only the country name and region for the countries in the Middle East region"
   ]
  },
  {
   "cell_type": "code",
   "execution_count": null,
   "metadata": {},
   "outputs": [],
   "source": [
    "country.query(\"region == 'Middle East'\").project(['name','region'])"
   ]
  },
  {
   "cell_type": "markdown",
   "metadata": {},
   "source": [
    "### Show the country name and life expectancy of the 5 countries with the longest life expectancy"
   ]
  },
  {
   "cell_type": "code",
   "execution_count": null,
   "metadata": {},
   "outputs": [],
   "source": [
    "country.project(['name', 'lifeexpectancy']).sort(['lifeexpectancy'],ascending=False).head(5)"
   ]
  },
  {
   "cell_type": "markdown",
   "metadata": {},
   "source": [
    "### Show the country name, population, and gnp of the 5 countries with the smallest gnp"
   ]
  },
  {
   "cell_type": "code",
   "execution_count": null,
   "metadata": {},
   "outputs": [],
   "source": [
    "country.project(['name','population','gnp']).sort(['gnp']).head(5)"
   ]
  },
  {
   "cell_type": "markdown",
   "metadata": {},
   "source": [
    "Alternatively if we want to see countries with non-zero gnp we can do:"
   ]
  },
  {
   "cell_type": "code",
   "execution_count": null,
   "metadata": {},
   "outputs": [],
   "source": [
    "country.query(\"gnp > 0\").project(['name','population','gnp']).sort(['gnp']).head(5)"
   ]
  },
  {
   "cell_type": "markdown",
   "metadata": {},
   "source": [
    "### Show all of the distinct forms of government"
   ]
  },
  {
   "cell_type": "code",
   "execution_count": null,
   "metadata": {},
   "outputs": [],
   "source": [
    "# because relations can not have duplicate rows, a project automatically removes all duplicates\n",
    "country.project(['governmentform'])"
   ]
  },
  {
   "cell_type": "markdown",
   "metadata": {},
   "source": [
    "### Show all of the distinct regions of the world\n"
   ]
  },
  {
   "cell_type": "code",
   "execution_count": null,
   "metadata": {},
   "outputs": [],
   "source": [
    "country.project(['region'])"
   ]
  },
  {
   "cell_type": "markdown",
   "metadata": {},
   "source": [
    "### List the country name and gnp of all of the countries that are Monarchies"
   ]
  },
  {
   "cell_type": "code",
   "execution_count": null,
   "metadata": {},
   "outputs": [],
   "source": [
    "country.query(\"governmentform == 'Monarchy'\").project(['name','gnp'])"
   ]
  },
  {
   "cell_type": "markdown",
   "metadata": {},
   "source": [
    "### List the country name, governmentform and population of the countries that are any kind of Monarchy (Monarchy, Constitutional Monarchy, or Monarchy (Sultanate)"
   ]
  },
  {
   "cell_type": "code",
   "execution_count": null,
   "metadata": {},
   "outputs": [],
   "source": [
    "country.query(\"governmentform == 'Monarchy' | governmentform == 'Constitutional Monarchy' | governmentform == 'Monarchy (Emirate)' | governmentform == 'Monarchy (Sultanate)'\").project(['name','gnp'])"
   ]
  },
  {
   "cell_type": "markdown",
   "metadata": {},
   "source": [
    "### List the country name and gnp of the countries in Southeast Asia with population less than 5 million"
   ]
  },
  {
   "cell_type": "code",
   "execution_count": null,
   "metadata": {},
   "outputs": [],
   "source": [
    "country.query(\"population < 5000000 & region == 'Southeast Asia'\").project(['name','gnp'])"
   ]
  },
  {
   "cell_type": "markdown",
   "metadata": {},
   "source": [
    "### List the country names, gnp, and population where the new gnp is more than the old gnp"
   ]
  },
  {
   "cell_type": "code",
   "execution_count": null,
   "metadata": {},
   "outputs": [],
   "source": [
    "country.query(\"gnp > gnpold\").project(['name','gnp'])"
   ]
  }
 ],
 "metadata": {
  "kernelspec": {
   "display_name": "Python 3",
   "language": "python",
   "name": "python3"
  },
  "language_info": {
   "codemirror_mode": {
    "name": "ipython",
    "version": 3
   },
   "file_extension": ".py",
   "mimetype": "text/x-python",
   "name": "python",
   "nbconvert_exporter": "python",
   "pygments_lexer": "ipython3",
   "version": "3.5.1"
  }
 },
 "nbformat": 4,
 "nbformat_minor": 1
}
