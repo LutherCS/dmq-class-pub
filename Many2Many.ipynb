{
 "cells": [
  {
   "cell_type": "markdown",
   "metadata": {},
   "source": [
    "# Many to Many Relationships\n",
    "\n",
    "Think about a Human Resources database for a large company\n",
    "\n",
    "* Departments\n",
    "* Employees\n",
    "* Titles\n",
    "* Managers\n",
    "* Salaries\n"
   ]
  },
  {
   "cell_type": "markdown",
   "metadata": {},
   "source": [
    "## Basic LDS"
   ]
  },
  {
   "cell_type": "markdown",
   "metadata": {},
   "source": [
    "![](company_simple.png)"
   ]
  },
  {
   "cell_type": "markdown",
   "metadata": {},
   "source": [
    "## Eliminating Many-Many relationship"
   ]
  },
  {
   "cell_type": "markdown",
   "metadata": {},
   "source": [
    "![](company_intermediate.png)"
   ]
  },
  {
   "cell_type": "markdown",
   "metadata": {},
   "source": [
    "## From Model to Table\n",
    "\n",
    "```\n",
    "employees=# \\d departments\n",
    "          Table \"public.departments\"\n",
    "  Column   |         Type          | Modifiers\n",
    "-----------+-----------------------+-----------\n",
    " dept_no   | character(4)          | not null\n",
    " dept_name | character varying(40) | not null\n",
    "\n",
    "\n",
    "employees=# \\d dept_emp\n",
    "       Table \"public.dept_emp\"\n",
    "  Column   |     Type     | Modifiers\n",
    "-----------+--------------+-----------\n",
    " emp_no    | integer      | not null\n",
    " dept_no   | character(4) | not null\n",
    " from_date | date         | not null\n",
    " to_date   | date         | not null\n",
    "\n",
    "\n",
    "employees=# \\d employees\n",
    "            Table \"public.employees\"\n",
    "   Column   |         Type          | Modifiers\n",
    "------------+-----------------------+-----------\n",
    " emp_no     | integer               | not null\n",
    " birth_date | date                  | not null\n",
    " first_name | character varying(14) | not null\n",
    " last_name  | character varying(16) | not null\n",
    " gender     | character varying(1)  | not null\n",
    " hire_date  | date                  | not null\n",
    "\n",
    "```\n"
   ]
  },
  {
   "cell_type": "markdown",
   "metadata": {},
   "source": [
    "## The Final LDS"
   ]
  },
  {
   "cell_type": "markdown",
   "metadata": {},
   "source": [
    "![](company_advanced.png)"
   ]
  },
  {
   "cell_type": "code",
   "execution_count": 1,
   "metadata": {},
   "outputs": [],
   "source": [
    "import warnings\n",
    "warnings.filterwarnings('ignore')\n"
   ]
  },
  {
   "cell_type": "code",
   "execution_count": 2,
   "metadata": {},
   "outputs": [],
   "source": [
    "%load_ext sql\n"
   ]
  },
  {
   "cell_type": "code",
   "execution_count": 3,
   "metadata": {},
   "outputs": [
    {
     "data": {
      "text/plain": [
       "'Connected: yasiro01@employees'"
      ]
     },
     "execution_count": 3,
     "metadata": {},
     "output_type": "execute_result"
    }
   ],
   "source": [
    "%sql postgresql://yasiro01:@localhost/employees\n"
   ]
  },
  {
   "cell_type": "code",
   "execution_count": 4,
   "metadata": {},
   "outputs": [
    {
     "name": "stdout",
     "output_type": "stream",
     "text": [
      "10 rows affected.\n"
     ]
    },
    {
     "data": {
      "text/html": [
       "<table>\n",
       "    <tr>\n",
       "        <th>emp_no</th>\n",
       "        <th>from_date</th>\n",
       "        <th>to_date</th>\n",
       "        <th>dept_no</th>\n",
       "        <th>dept_name</th>\n",
       "        <th>birth_date</th>\n",
       "        <th>first_name</th>\n",
       "        <th>last_name</th>\n",
       "        <th>gender</th>\n",
       "        <th>hire_date</th>\n",
       "        <th>salary</th>\n",
       "        <th>title</th>\n",
       "    </tr>\n",
       "    <tr>\n",
       "        <td>13021</td>\n",
       "        <td>1991-10-18</td>\n",
       "        <td>1992-03-19</td>\n",
       "        <td>d005</td>\n",
       "        <td>Development</td>\n",
       "        <td>1957-03-10</td>\n",
       "        <td>Yurii</td>\n",
       "        <td>Schaap</td>\n",
       "        <td>M</td>\n",
       "        <td>1991-10-18</td>\n",
       "        <td>45553</td>\n",
       "        <td>Senior Engineer</td>\n",
       "    </tr>\n",
       "    <tr>\n",
       "        <td>15083</td>\n",
       "        <td>1996-05-30</td>\n",
       "        <td>1997-04-19</td>\n",
       "        <td>d006</td>\n",
       "        <td>Quality Management</td>\n",
       "        <td>1958-11-24</td>\n",
       "        <td>Denis</td>\n",
       "        <td>Nicolson</td>\n",
       "        <td>M</td>\n",
       "        <td>1994-03-02</td>\n",
       "        <td>68084</td>\n",
       "        <td>Senior Engineer</td>\n",
       "    </tr>\n",
       "    <tr>\n",
       "        <td>17091</td>\n",
       "        <td>1992-02-11</td>\n",
       "        <td>1992-03-20</td>\n",
       "        <td>d004</td>\n",
       "        <td>Production</td>\n",
       "        <td>1958-11-08</td>\n",
       "        <td>Gunilla</td>\n",
       "        <td>Merkl</td>\n",
       "        <td>F</td>\n",
       "        <td>1988-01-30</td>\n",
       "        <td>48099</td>\n",
       "        <td>Assistant Engineer</td>\n",
       "    </tr>\n",
       "    <tr>\n",
       "        <td>19343</td>\n",
       "        <td>1986-06-02</td>\n",
       "        <td>1986-11-18</td>\n",
       "        <td>d007</td>\n",
       "        <td>Sales</td>\n",
       "        <td>1953-10-12</td>\n",
       "        <td>Heping</td>\n",
       "        <td>Hempstead</td>\n",
       "        <td>F</td>\n",
       "        <td>1986-06-02</td>\n",
       "        <td>44351</td>\n",
       "        <td>Staff</td>\n",
       "    </tr>\n",
       "    <tr>\n",
       "        <td>20910</td>\n",
       "        <td>1995-12-09</td>\n",
       "        <td>1996-01-07</td>\n",
       "        <td>d007</td>\n",
       "        <td>Sales</td>\n",
       "        <td>1963-08-06</td>\n",
       "        <td>Chenyi</td>\n",
       "        <td>Kavraki</td>\n",
       "        <td>M</td>\n",
       "        <td>1993-08-14</td>\n",
       "        <td>76194</td>\n",
       "        <td>Senior Staff</td>\n",
       "    </tr>\n",
       "    <tr>\n",
       "        <td>25281</td>\n",
       "        <td>1993-07-27</td>\n",
       "        <td>1993-11-08</td>\n",
       "        <td>d003</td>\n",
       "        <td>Human Resources</td>\n",
       "        <td>1956-11-10</td>\n",
       "        <td>Fumiyo</td>\n",
       "        <td>Delgrande</td>\n",
       "        <td>F</td>\n",
       "        <td>1991-06-07</td>\n",
       "        <td>47478</td>\n",
       "        <td>Staff</td>\n",
       "    </tr>\n",
       "    <tr>\n",
       "        <td>27762</td>\n",
       "        <td>1991-04-09</td>\n",
       "        <td>1991-08-14</td>\n",
       "        <td>d007</td>\n",
       "        <td>Sales</td>\n",
       "        <td>1954-06-06</td>\n",
       "        <td>Boalin</td>\n",
       "        <td>Griswold</td>\n",
       "        <td>F</td>\n",
       "        <td>1988-06-05</td>\n",
       "        <td>57852</td>\n",
       "        <td>Staff</td>\n",
       "    </tr>\n",
       "    <tr>\n",
       "        <td>28155</td>\n",
       "        <td>1995-10-09</td>\n",
       "        <td>1996-08-22</td>\n",
       "        <td>d002</td>\n",
       "        <td>Finance</td>\n",
       "        <td>1961-09-01</td>\n",
       "        <td>Jianwen</td>\n",
       "        <td>Marsiglia</td>\n",
       "        <td>F</td>\n",
       "        <td>1990-01-11</td>\n",
       "        <td>74637</td>\n",
       "        <td>Staff</td>\n",
       "    </tr>\n",
       "    <tr>\n",
       "        <td>31972</td>\n",
       "        <td>1993-01-21</td>\n",
       "        <td>1994-01-10</td>\n",
       "        <td>d005</td>\n",
       "        <td>Development</td>\n",
       "        <td>1952-12-18</td>\n",
       "        <td>Yifei</td>\n",
       "        <td>Kawashimo</td>\n",
       "        <td>F</td>\n",
       "        <td>1990-05-12</td>\n",
       "        <td>68011</td>\n",
       "        <td>Senior Engineer</td>\n",
       "    </tr>\n",
       "    <tr>\n",
       "        <td>32671</td>\n",
       "        <td>1998-11-05</td>\n",
       "        <td>1998-11-12</td>\n",
       "        <td>d003</td>\n",
       "        <td>Human Resources</td>\n",
       "        <td>1963-03-31</td>\n",
       "        <td>Atreye</td>\n",
       "        <td>Tetzlaff</td>\n",
       "        <td>M</td>\n",
       "        <td>1996-12-22</td>\n",
       "        <td>40000</td>\n",
       "        <td>Staff</td>\n",
       "    </tr>\n",
       "</table>"
      ],
      "text/plain": [
       "[(13021, datetime.date(1991, 10, 18), datetime.date(1992, 3, 19), 'd005', 'Development', datetime.date(1957, 3, 10), 'Yurii', 'Schaap', 'M', datetime.date(1991, 10, 18), 45553, 'Senior Engineer'),\n",
       " (15083, datetime.date(1996, 5, 30), datetime.date(1997, 4, 19), 'd006', 'Quality Management', datetime.date(1958, 11, 24), 'Denis', 'Nicolson', 'M', datetime.date(1994, 3, 2), 68084, 'Senior Engineer'),\n",
       " (17091, datetime.date(1992, 2, 11), datetime.date(1992, 3, 20), 'd004', 'Production', datetime.date(1958, 11, 8), 'Gunilla', 'Merkl', 'F', datetime.date(1988, 1, 30), 48099, 'Assistant Engineer'),\n",
       " (19343, datetime.date(1986, 6, 2), datetime.date(1986, 11, 18), 'd007', 'Sales', datetime.date(1953, 10, 12), 'Heping', 'Hempstead', 'F', datetime.date(1986, 6, 2), 44351, 'Staff'),\n",
       " (20910, datetime.date(1995, 12, 9), datetime.date(1996, 1, 7), 'd007', 'Sales', datetime.date(1963, 8, 6), 'Chenyi', 'Kavraki', 'M', datetime.date(1993, 8, 14), 76194, 'Senior Staff'),\n",
       " (25281, datetime.date(1993, 7, 27), datetime.date(1993, 11, 8), 'd003', 'Human Resources', datetime.date(1956, 11, 10), 'Fumiyo', 'Delgrande', 'F', datetime.date(1991, 6, 7), 47478, 'Staff'),\n",
       " (27762, datetime.date(1991, 4, 9), datetime.date(1991, 8, 14), 'd007', 'Sales', datetime.date(1954, 6, 6), 'Boalin', 'Griswold', 'F', datetime.date(1988, 6, 5), 57852, 'Staff'),\n",
       " (28155, datetime.date(1995, 10, 9), datetime.date(1996, 8, 22), 'd002', 'Finance', datetime.date(1961, 9, 1), 'Jianwen', 'Marsiglia', 'F', datetime.date(1990, 1, 11), 74637, 'Staff'),\n",
       " (31972, datetime.date(1993, 1, 21), datetime.date(1994, 1, 10), 'd005', 'Development', datetime.date(1952, 12, 18), 'Yifei', 'Kawashimo', 'F', datetime.date(1990, 5, 12), 68011, 'Senior Engineer'),\n",
       " (32671, datetime.date(1998, 11, 5), datetime.date(1998, 11, 12), 'd003', 'Human Resources', datetime.date(1963, 3, 31), 'Atreye', 'Tetzlaff', 'M', datetime.date(1996, 12, 22), 40000, 'Staff')]"
      ]
     },
     "execution_count": 4,
     "metadata": {},
     "output_type": "execute_result"
    }
   ],
   "source": [
    "%%sql\n",
    "\n",
    "select *\n",
    "from departments natural join dept_emp natural join employees natural join salaries natural join titles\n",
    "limit 10"
   ]
  },
  {
   "cell_type": "markdown",
   "metadata": {},
   "source": [
    "## How many employees currently work in various departments?\n"
   ]
  },
  {
   "cell_type": "code",
   "execution_count": 9,
   "metadata": {},
   "outputs": [
    {
     "name": "stdout",
     "output_type": "stream",
     "text": [
      "10 rows affected.\n"
     ]
    },
    {
     "data": {
      "text/html": [
       "<table>\n",
       "    <tr>\n",
       "        <th>emp_no</th>\n",
       "        <th>dept_no</th>\n",
       "        <th>from_date</th>\n",
       "        <th>to_date</th>\n",
       "    </tr>\n",
       "    <tr>\n",
       "        <td>10001</td>\n",
       "        <td>d005</td>\n",
       "        <td>1986-06-26</td>\n",
       "        <td>9999-01-01</td>\n",
       "    </tr>\n",
       "    <tr>\n",
       "        <td>10002</td>\n",
       "        <td>d007</td>\n",
       "        <td>1996-08-03</td>\n",
       "        <td>9999-01-01</td>\n",
       "    </tr>\n",
       "    <tr>\n",
       "        <td>10003</td>\n",
       "        <td>d004</td>\n",
       "        <td>1995-12-03</td>\n",
       "        <td>9999-01-01</td>\n",
       "    </tr>\n",
       "    <tr>\n",
       "        <td>10004</td>\n",
       "        <td>d004</td>\n",
       "        <td>1986-12-01</td>\n",
       "        <td>9999-01-01</td>\n",
       "    </tr>\n",
       "    <tr>\n",
       "        <td>10005</td>\n",
       "        <td>d003</td>\n",
       "        <td>1989-09-12</td>\n",
       "        <td>9999-01-01</td>\n",
       "    </tr>\n",
       "    <tr>\n",
       "        <td>10006</td>\n",
       "        <td>d005</td>\n",
       "        <td>1990-08-05</td>\n",
       "        <td>9999-01-01</td>\n",
       "    </tr>\n",
       "    <tr>\n",
       "        <td>10007</td>\n",
       "        <td>d008</td>\n",
       "        <td>1989-02-10</td>\n",
       "        <td>9999-01-01</td>\n",
       "    </tr>\n",
       "    <tr>\n",
       "        <td>10009</td>\n",
       "        <td>d006</td>\n",
       "        <td>1985-02-18</td>\n",
       "        <td>9999-01-01</td>\n",
       "    </tr>\n",
       "    <tr>\n",
       "        <td>10010</td>\n",
       "        <td>d006</td>\n",
       "        <td>2000-06-26</td>\n",
       "        <td>9999-01-01</td>\n",
       "    </tr>\n",
       "    <tr>\n",
       "        <td>10012</td>\n",
       "        <td>d005</td>\n",
       "        <td>1992-12-18</td>\n",
       "        <td>9999-01-01</td>\n",
       "    </tr>\n",
       "</table>"
      ],
      "text/plain": [
       "[(10001, 'd005', datetime.date(1986, 6, 26), datetime.date(9999, 1, 1)),\n",
       " (10002, 'd007', datetime.date(1996, 8, 3), datetime.date(9999, 1, 1)),\n",
       " (10003, 'd004', datetime.date(1995, 12, 3), datetime.date(9999, 1, 1)),\n",
       " (10004, 'd004', datetime.date(1986, 12, 1), datetime.date(9999, 1, 1)),\n",
       " (10005, 'd003', datetime.date(1989, 9, 12), datetime.date(9999, 1, 1)),\n",
       " (10006, 'd005', datetime.date(1990, 8, 5), datetime.date(9999, 1, 1)),\n",
       " (10007, 'd008', datetime.date(1989, 2, 10), datetime.date(9999, 1, 1)),\n",
       " (10009, 'd006', datetime.date(1985, 2, 18), datetime.date(9999, 1, 1)),\n",
       " (10010, 'd006', datetime.date(2000, 6, 26), datetime.date(9999, 1, 1)),\n",
       " (10012, 'd005', datetime.date(1992, 12, 18), datetime.date(9999, 1, 1))]"
      ]
     },
     "execution_count": 9,
     "metadata": {},
     "output_type": "execute_result"
    }
   ],
   "source": [
    "%%sql\n",
    "\n",
    "select * from dept_emp\n",
    "where to_date > now()\n",
    "limit 10\n"
   ]
  },
  {
   "cell_type": "code",
   "execution_count": 6,
   "metadata": {},
   "outputs": [
    {
     "name": "stdout",
     "output_type": "stream",
     "text": [
      "9 rows affected.\n"
     ]
    },
    {
     "data": {
      "text/html": [
       "<table>\n",
       "    <tr>\n",
       "        <th>dept_name</th>\n",
       "        <th>count</th>\n",
       "    </tr>\n",
       "    <tr>\n",
       "        <td>Finance</td>\n",
       "        <td>12437</td>\n",
       "    </tr>\n",
       "    <tr>\n",
       "        <td>Human Resources</td>\n",
       "        <td>12898</td>\n",
       "    </tr>\n",
       "    <tr>\n",
       "        <td>Quality Management</td>\n",
       "        <td>14546</td>\n",
       "    </tr>\n",
       "    <tr>\n",
       "        <td>Marketing</td>\n",
       "        <td>14842</td>\n",
       "    </tr>\n",
       "    <tr>\n",
       "        <td>Research</td>\n",
       "        <td>15441</td>\n",
       "    </tr>\n",
       "    <tr>\n",
       "        <td>Customer Service</td>\n",
       "        <td>17569</td>\n",
       "    </tr>\n",
       "    <tr>\n",
       "        <td>Sales</td>\n",
       "        <td>37701</td>\n",
       "    </tr>\n",
       "    <tr>\n",
       "        <td>Production</td>\n",
       "        <td>53304</td>\n",
       "    </tr>\n",
       "    <tr>\n",
       "        <td>Development</td>\n",
       "        <td>61386</td>\n",
       "    </tr>\n",
       "</table>"
      ],
      "text/plain": [
       "[('Finance', 12437),\n",
       " ('Human Resources', 12898),\n",
       " ('Quality Management', 14546),\n",
       " ('Marketing', 14842),\n",
       " ('Research', 15441),\n",
       " ('Customer Service', 17569),\n",
       " ('Sales', 37701),\n",
       " ('Production', 53304),\n",
       " ('Development', 61386)]"
      ]
     },
     "execution_count": 6,
     "metadata": {},
     "output_type": "execute_result"
    }
   ],
   "source": [
    "%%sql\n",
    "\n",
    "select dept_name, count(*)\n",
    "from departments natural join dept_emp\n",
    "where to_date > now()\n",
    "group by dept_name\n",
    "order by count;"
   ]
  },
  {
   "cell_type": "markdown",
   "metadata": {},
   "source": [
    "1. **Note:** the ``now()`` function is just a convenience for manually entereing the current date\n",
    "2. **Note:** we can use aggregates without a grouby, realizing that said aggregate applies to the whole result"
   ]
  },
  {
   "cell_type": "code",
   "execution_count": 11,
   "metadata": {},
   "outputs": [
    {
     "name": "stdout",
     "output_type": "stream",
     "text": [
      "1 rows affected.\n"
     ]
    },
    {
     "data": {
      "text/html": [
       "<table>\n",
       "    <tr>\n",
       "        <th>count</th>\n",
       "    </tr>\n",
       "    <tr>\n",
       "        <td>7535</td>\n",
       "    </tr>\n",
       "</table>"
      ],
      "text/plain": [
       "[(7535,)]"
      ]
     },
     "execution_count": 11,
     "metadata": {},
     "output_type": "execute_result"
    }
   ],
   "source": [
    "%%sql\n",
    "\n",
    "select count(*)\n",
    "from departments natural join dept_emp natural join employees natural join salaries natural join titles\n"
   ]
  },
  {
   "cell_type": "markdown",
   "metadata": {},
   "source": [
    "## Find all managers of the *Marketing* department"
   ]
  },
  {
   "cell_type": "code",
   "execution_count": 15,
   "metadata": {},
   "outputs": [
    {
     "name": "stdout",
     "output_type": "stream",
     "text": [
      "2 rows affected.\n"
     ]
    },
    {
     "data": {
      "text/html": [
       "<table>\n",
       "    <tr>\n",
       "        <th>emp_no</th>\n",
       "        <th>dept_no</th>\n",
       "        <th>dept_name</th>\n",
       "        <th>from_date</th>\n",
       "        <th>to_date</th>\n",
       "        <th>birth_date</th>\n",
       "        <th>first_name</th>\n",
       "        <th>last_name</th>\n",
       "        <th>gender</th>\n",
       "        <th>hire_date</th>\n",
       "    </tr>\n",
       "    <tr>\n",
       "        <td>110022</td>\n",
       "        <td>d001</td>\n",
       "        <td>Marketing</td>\n",
       "        <td>1985-01-01</td>\n",
       "        <td>1991-10-01</td>\n",
       "        <td>1956-09-12</td>\n",
       "        <td>Margareta</td>\n",
       "        <td>Markovitch</td>\n",
       "        <td>M</td>\n",
       "        <td>1985-01-01</td>\n",
       "    </tr>\n",
       "    <tr>\n",
       "        <td>110039</td>\n",
       "        <td>d001</td>\n",
       "        <td>Marketing</td>\n",
       "        <td>1991-10-01</td>\n",
       "        <td>9999-01-01</td>\n",
       "        <td>1963-06-21</td>\n",
       "        <td>Vishwani</td>\n",
       "        <td>Minakawa</td>\n",
       "        <td>M</td>\n",
       "        <td>1986-04-12</td>\n",
       "    </tr>\n",
       "</table>"
      ],
      "text/plain": [
       "[(110022, 'd001', 'Marketing', datetime.date(1985, 1, 1), datetime.date(1991, 10, 1), datetime.date(1956, 9, 12), 'Margareta', 'Markovitch', 'M', datetime.date(1985, 1, 1)),\n",
       " (110039, 'd001', 'Marketing', datetime.date(1991, 10, 1), datetime.date(9999, 1, 1), datetime.date(1963, 6, 21), 'Vishwani', 'Minakawa', 'M', datetime.date(1986, 4, 12))]"
      ]
     },
     "execution_count": 15,
     "metadata": {},
     "output_type": "execute_result"
    }
   ],
   "source": [
    "%%sql\n",
    "\n",
    "select *\n",
    "from departments natural join dept_manager natural join employees\n",
    "where dept_name = 'Marketing';\n"
   ]
  },
  {
   "cell_type": "markdown",
   "metadata": {},
   "source": [
    "## Find *current* manager of every department"
   ]
  },
  {
   "cell_type": "code",
   "execution_count": 18,
   "metadata": {},
   "outputs": [
    {
     "name": "stdout",
     "output_type": "stream",
     "text": [
      "9 rows affected.\n"
     ]
    },
    {
     "data": {
      "text/html": [
       "<table>\n",
       "    <tr>\n",
       "        <th>dept_name</th>\n",
       "        <th>first_name</th>\n",
       "        <th>last_name</th>\n",
       "        <th>from_date</th>\n",
       "    </tr>\n",
       "    <tr>\n",
       "        <td>Customer Service</td>\n",
       "        <td>Yuchang</td>\n",
       "        <td>Weedman</td>\n",
       "        <td>1996-01-03</td>\n",
       "    </tr>\n",
       "    <tr>\n",
       "        <td>Development</td>\n",
       "        <td>Leon</td>\n",
       "        <td>DasSarma</td>\n",
       "        <td>1992-04-25</td>\n",
       "    </tr>\n",
       "    <tr>\n",
       "        <td>Finance</td>\n",
       "        <td>Isamu</td>\n",
       "        <td>Legleitner</td>\n",
       "        <td>1989-12-17</td>\n",
       "    </tr>\n",
       "    <tr>\n",
       "        <td>Human Resources</td>\n",
       "        <td>Karsten</td>\n",
       "        <td>Sigstam</td>\n",
       "        <td>1992-03-21</td>\n",
       "    </tr>\n",
       "    <tr>\n",
       "        <td>Marketing</td>\n",
       "        <td>Vishwani</td>\n",
       "        <td>Minakawa</td>\n",
       "        <td>1991-10-01</td>\n",
       "    </tr>\n",
       "    <tr>\n",
       "        <td>Production</td>\n",
       "        <td>Oscar</td>\n",
       "        <td>Ghazalie</td>\n",
       "        <td>1996-08-30</td>\n",
       "    </tr>\n",
       "    <tr>\n",
       "        <td>Quality Management</td>\n",
       "        <td>Dung</td>\n",
       "        <td>Pesch</td>\n",
       "        <td>1994-06-28</td>\n",
       "    </tr>\n",
       "    <tr>\n",
       "        <td>Research</td>\n",
       "        <td>Hilary</td>\n",
       "        <td>Kambil</td>\n",
       "        <td>1991-04-08</td>\n",
       "    </tr>\n",
       "    <tr>\n",
       "        <td>Sales</td>\n",
       "        <td>Hauke</td>\n",
       "        <td>Zhang</td>\n",
       "        <td>1991-03-07</td>\n",
       "    </tr>\n",
       "</table>"
      ],
      "text/plain": [
       "[('Customer Service', 'Yuchang', 'Weedman', datetime.date(1996, 1, 3)),\n",
       " ('Development', 'Leon', 'DasSarma', datetime.date(1992, 4, 25)),\n",
       " ('Finance', 'Isamu', 'Legleitner', datetime.date(1989, 12, 17)),\n",
       " ('Human Resources', 'Karsten', 'Sigstam', datetime.date(1992, 3, 21)),\n",
       " ('Marketing', 'Vishwani', 'Minakawa', datetime.date(1991, 10, 1)),\n",
       " ('Production', 'Oscar', 'Ghazalie', datetime.date(1996, 8, 30)),\n",
       " ('Quality Management', 'Dung', 'Pesch', datetime.date(1994, 6, 28)),\n",
       " ('Research', 'Hilary', 'Kambil', datetime.date(1991, 4, 8)),\n",
       " ('Sales', 'Hauke', 'Zhang', datetime.date(1991, 3, 7))]"
      ]
     },
     "execution_count": 18,
     "metadata": {},
     "output_type": "execute_result"
    }
   ],
   "source": [
    "%%sql\n",
    "\n",
    "select dept_name, first_name, last_name, from_date\n",
    "from departments natural join dept_manager natural join employees\n",
    "where to_date > now()\n",
    "order by dept_name;\n"
   ]
  },
  {
   "cell_type": "markdown",
   "metadata": {},
   "source": [
    "## Find all titles within the company"
   ]
  },
  {
   "cell_type": "code",
   "execution_count": 20,
   "metadata": {},
   "outputs": [
    {
     "name": "stdout",
     "output_type": "stream",
     "text": [
      "7 rows affected.\n"
     ]
    },
    {
     "data": {
      "text/html": [
       "<table>\n",
       "    <tr>\n",
       "        <th>title</th>\n",
       "    </tr>\n",
       "    <tr>\n",
       "        <td>Technique Leader</td>\n",
       "    </tr>\n",
       "    <tr>\n",
       "        <td>Senior Engineer</td>\n",
       "    </tr>\n",
       "    <tr>\n",
       "        <td>Staff</td>\n",
       "    </tr>\n",
       "    <tr>\n",
       "        <td>Assistant Engineer</td>\n",
       "    </tr>\n",
       "    <tr>\n",
       "        <td>Engineer</td>\n",
       "    </tr>\n",
       "    <tr>\n",
       "        <td>Senior Staff</td>\n",
       "    </tr>\n",
       "    <tr>\n",
       "        <td>Manager</td>\n",
       "    </tr>\n",
       "</table>"
      ],
      "text/plain": [
       "[('Technique Leader',),\n",
       " ('Senior Engineer',),\n",
       " ('Staff',),\n",
       " ('Assistant Engineer',),\n",
       " ('Engineer',),\n",
       " ('Senior Staff',),\n",
       " ('Manager',)]"
      ]
     },
     "execution_count": 20,
     "metadata": {},
     "output_type": "execute_result"
    }
   ],
   "source": [
    "%%sql\n",
    "\n",
    "select distinct title\n",
    "from titles;\n"
   ]
  },
  {
   "cell_type": "markdown",
   "metadata": {},
   "source": [
    "## Question!\n",
    "\n",
    "Let's start with all the records"
   ]
  },
  {
   "cell_type": "code",
   "execution_count": 21,
   "metadata": {},
   "outputs": [
    {
     "name": "stdout",
     "output_type": "stream",
     "text": [
      "10 rows affected.\n"
     ]
    },
    {
     "data": {
      "text/html": [
       "<table>\n",
       "    <tr>\n",
       "        <th>emp_no</th>\n",
       "        <th>from_date</th>\n",
       "        <th>to_date</th>\n",
       "        <th>dept_no</th>\n",
       "        <th>dept_name</th>\n",
       "        <th>birth_date</th>\n",
       "        <th>first_name</th>\n",
       "        <th>last_name</th>\n",
       "        <th>gender</th>\n",
       "        <th>hire_date</th>\n",
       "        <th>salary</th>\n",
       "    </tr>\n",
       "    <tr>\n",
       "        <td>286829</td>\n",
       "        <td>1994-03-14</td>\n",
       "        <td>1995-01-11</td>\n",
       "        <td>d001</td>\n",
       "        <td>Marketing</td>\n",
       "        <td>1954-11-10</td>\n",
       "        <td>Kazuhisa</td>\n",
       "        <td>Vecchio</td>\n",
       "        <td>F</td>\n",
       "        <td>1986-03-17</td>\n",
       "        <td>48149</td>\n",
       "    </tr>\n",
       "    <tr>\n",
       "        <td>476388</td>\n",
       "        <td>1995-09-21</td>\n",
       "        <td>1995-11-28</td>\n",
       "        <td>d001</td>\n",
       "        <td>Marketing</td>\n",
       "        <td>1960-07-01</td>\n",
       "        <td>Elvis</td>\n",
       "        <td>Kroll</td>\n",
       "        <td>M</td>\n",
       "        <td>1991-10-13</td>\n",
       "        <td>65007</td>\n",
       "    </tr>\n",
       "    <tr>\n",
       "        <td>210440</td>\n",
       "        <td>1996-09-18</td>\n",
       "        <td>1996-11-10</td>\n",
       "        <td>d001</td>\n",
       "        <td>Marketing</td>\n",
       "        <td>1964-07-11</td>\n",
       "        <td>Chandrasekaran</td>\n",
       "        <td>Vernadat</td>\n",
       "        <td>M</td>\n",
       "        <td>1994-06-10</td>\n",
       "        <td>49760</td>\n",
       "    </tr>\n",
       "    <tr>\n",
       "        <td>465625</td>\n",
       "        <td>1996-10-04</td>\n",
       "        <td>1997-07-07</td>\n",
       "        <td>d001</td>\n",
       "        <td>Marketing</td>\n",
       "        <td>1961-10-02</td>\n",
       "        <td>Claudi</td>\n",
       "        <td>Piveteau</td>\n",
       "        <td>M</td>\n",
       "        <td>1996-10-04</td>\n",
       "        <td>49259</td>\n",
       "    </tr>\n",
       "    <tr>\n",
       "        <td>19196</td>\n",
       "        <td>2000-01-28</td>\n",
       "        <td>2000-05-12</td>\n",
       "        <td>d001</td>\n",
       "        <td>Marketing</td>\n",
       "        <td>1956-08-10</td>\n",
       "        <td>Leucio</td>\n",
       "        <td>Sury</td>\n",
       "        <td>M</td>\n",
       "        <td>1988-09-03</td>\n",
       "        <td>66890</td>\n",
       "    </tr>\n",
       "    <tr>\n",
       "        <td>259294</td>\n",
       "        <td>1991-02-07</td>\n",
       "        <td>1991-05-17</td>\n",
       "        <td>d001</td>\n",
       "        <td>Marketing</td>\n",
       "        <td>1962-03-13</td>\n",
       "        <td>Demos</td>\n",
       "        <td>Peyn</td>\n",
       "        <td>F</td>\n",
       "        <td>1988-01-26</td>\n",
       "        <td>66971</td>\n",
       "    </tr>\n",
       "    <tr>\n",
       "        <td>80329</td>\n",
       "        <td>1999-08-06</td>\n",
       "        <td>1999-09-05</td>\n",
       "        <td>d001</td>\n",
       "        <td>Marketing</td>\n",
       "        <td>1959-09-09</td>\n",
       "        <td>Moon</td>\n",
       "        <td>Ponthieu</td>\n",
       "        <td>F</td>\n",
       "        <td>1988-11-07</td>\n",
       "        <td>40000</td>\n",
       "    </tr>\n",
       "    <tr>\n",
       "        <td>268194</td>\n",
       "        <td>1994-05-27</td>\n",
       "        <td>1994-06-29</td>\n",
       "        <td>d001</td>\n",
       "        <td>Marketing</td>\n",
       "        <td>1960-02-12</td>\n",
       "        <td>Gila</td>\n",
       "        <td>Aamodt</td>\n",
       "        <td>F</td>\n",
       "        <td>1994-04-06</td>\n",
       "        <td>70796</td>\n",
       "    </tr>\n",
       "    <tr>\n",
       "        <td>294469</td>\n",
       "        <td>1995-08-17</td>\n",
       "        <td>1996-05-22</td>\n",
       "        <td>d001</td>\n",
       "        <td>Marketing</td>\n",
       "        <td>1960-07-18</td>\n",
       "        <td>Tetsushi</td>\n",
       "        <td>Biran</td>\n",
       "        <td>M</td>\n",
       "        <td>1987-06-21</td>\n",
       "        <td>68907</td>\n",
       "    </tr>\n",
       "    <tr>\n",
       "        <td>12505</td>\n",
       "        <td>1999-08-24</td>\n",
       "        <td>2000-08-23</td>\n",
       "        <td>d001</td>\n",
       "        <td>Marketing</td>\n",
       "        <td>1952-08-24</td>\n",
       "        <td>Barton</td>\n",
       "        <td>Goldhammer</td>\n",
       "        <td>M</td>\n",
       "        <td>1991-04-20</td>\n",
       "        <td>40423</td>\n",
       "    </tr>\n",
       "</table>"
      ],
      "text/plain": [
       "[(286829, datetime.date(1994, 3, 14), datetime.date(1995, 1, 11), 'd001', 'Marketing', datetime.date(1954, 11, 10), 'Kazuhisa', 'Vecchio', 'F', datetime.date(1986, 3, 17), 48149),\n",
       " (476388, datetime.date(1995, 9, 21), datetime.date(1995, 11, 28), 'd001', 'Marketing', datetime.date(1960, 7, 1), 'Elvis', 'Kroll', 'M', datetime.date(1991, 10, 13), 65007),\n",
       " (210440, datetime.date(1996, 9, 18), datetime.date(1996, 11, 10), 'd001', 'Marketing', datetime.date(1964, 7, 11), 'Chandrasekaran', 'Vernadat', 'M', datetime.date(1994, 6, 10), 49760),\n",
       " (465625, datetime.date(1996, 10, 4), datetime.date(1997, 7, 7), 'd001', 'Marketing', datetime.date(1961, 10, 2), 'Claudi', 'Piveteau', 'M', datetime.date(1996, 10, 4), 49259),\n",
       " (19196, datetime.date(2000, 1, 28), datetime.date(2000, 5, 12), 'd001', 'Marketing', datetime.date(1956, 8, 10), 'Leucio', 'Sury', 'M', datetime.date(1988, 9, 3), 66890),\n",
       " (259294, datetime.date(1991, 2, 7), datetime.date(1991, 5, 17), 'd001', 'Marketing', datetime.date(1962, 3, 13), 'Demos', 'Peyn', 'F', datetime.date(1988, 1, 26), 66971),\n",
       " (80329, datetime.date(1999, 8, 6), datetime.date(1999, 9, 5), 'd001', 'Marketing', datetime.date(1959, 9, 9), 'Moon', 'Ponthieu', 'F', datetime.date(1988, 11, 7), 40000),\n",
       " (268194, datetime.date(1994, 5, 27), datetime.date(1994, 6, 29), 'd001', 'Marketing', datetime.date(1960, 2, 12), 'Gila', 'Aamodt', 'F', datetime.date(1994, 4, 6), 70796),\n",
       " (294469, datetime.date(1995, 8, 17), datetime.date(1996, 5, 22), 'd001', 'Marketing', datetime.date(1960, 7, 18), 'Tetsushi', 'Biran', 'M', datetime.date(1987, 6, 21), 68907),\n",
       " (12505, datetime.date(1999, 8, 24), datetime.date(2000, 8, 23), 'd001', 'Marketing', datetime.date(1952, 8, 24), 'Barton', 'Goldhammer', 'M', datetime.date(1991, 4, 20), 40423)]"
      ]
     },
     "execution_count": 21,
     "metadata": {},
     "output_type": "execute_result"
    }
   ],
   "source": [
    "%%sql\n",
    "\n",
    "select *\n",
    "from departments natural join dept_emp natural join employees natural join salaries\n",
    "limit 10;\n"
   ]
  },
  {
   "cell_type": "markdown",
   "metadata": {},
   "source": [
    "## Let's look closer at *Barton Goldhammer*"
   ]
  },
  {
   "cell_type": "code",
   "execution_count": 23,
   "metadata": {},
   "outputs": [
    {
     "name": "stdout",
     "output_type": "stream",
     "text": [
      "2 rows affected.\n"
     ]
    },
    {
     "data": {
      "text/html": [
       "<table>\n",
       "    <tr>\n",
       "        <th>emp_no</th>\n",
       "        <th>dept_no</th>\n",
       "        <th>dept_name</th>\n",
       "        <th>from_date</th>\n",
       "        <th>to_date</th>\n",
       "        <th>birth_date</th>\n",
       "        <th>first_name</th>\n",
       "        <th>last_name</th>\n",
       "        <th>gender</th>\n",
       "        <th>hire_date</th>\n",
       "    </tr>\n",
       "    <tr>\n",
       "        <td>12505</td>\n",
       "        <td>d001</td>\n",
       "        <td>Marketing</td>\n",
       "        <td>1999-08-24</td>\n",
       "        <td>2000-08-23</td>\n",
       "        <td>1952-08-24</td>\n",
       "        <td>Barton</td>\n",
       "        <td>Goldhammer</td>\n",
       "        <td>M</td>\n",
       "        <td>1991-04-20</td>\n",
       "    </tr>\n",
       "    <tr>\n",
       "        <td>12505</td>\n",
       "        <td>d007</td>\n",
       "        <td>Sales</td>\n",
       "        <td>2000-08-23</td>\n",
       "        <td>2002-02-18</td>\n",
       "        <td>1952-08-24</td>\n",
       "        <td>Barton</td>\n",
       "        <td>Goldhammer</td>\n",
       "        <td>M</td>\n",
       "        <td>1991-04-20</td>\n",
       "    </tr>\n",
       "</table>"
      ],
      "text/plain": [
       "[(12505, 'd001', 'Marketing', datetime.date(1999, 8, 24), datetime.date(2000, 8, 23), datetime.date(1952, 8, 24), 'Barton', 'Goldhammer', 'M', datetime.date(1991, 4, 20)),\n",
       " (12505, 'd007', 'Sales', datetime.date(2000, 8, 23), datetime.date(2002, 2, 18), datetime.date(1952, 8, 24), 'Barton', 'Goldhammer', 'M', datetime.date(1991, 4, 20))]"
      ]
     },
     "execution_count": 23,
     "metadata": {},
     "output_type": "execute_result"
    }
   ],
   "source": [
    "%%sql\n",
    "\n",
    "select *\n",
    "from departments natural join dept_emp natural join employees\n",
    "where employees.first_name = 'Barton' and employees.last_name = 'Goldhammer';\n"
   ]
  },
  {
   "cell_type": "markdown",
   "metadata": {},
   "source": [
    "## Let's find out how *Barton Goldhammer's* salary changed, if at all"
   ]
  },
  {
   "cell_type": "code",
   "execution_count": 31,
   "metadata": {},
   "outputs": [
    {
     "name": "stdout",
     "output_type": "stream",
     "text": [
      "1 rows affected.\n"
     ]
    },
    {
     "data": {
      "text/html": [
       "<table>\n",
       "    <tr>\n",
       "        <th>emp_no</th>\n",
       "        <th>from_date</th>\n",
       "        <th>to_date</th>\n",
       "        <th>dept_no</th>\n",
       "        <th>dept_name</th>\n",
       "        <th>birth_date</th>\n",
       "        <th>first_name</th>\n",
       "        <th>last_name</th>\n",
       "        <th>gender</th>\n",
       "        <th>hire_date</th>\n",
       "        <th>salary</th>\n",
       "    </tr>\n",
       "    <tr>\n",
       "        <td>12505</td>\n",
       "        <td>1999-08-24</td>\n",
       "        <td>2000-08-23</td>\n",
       "        <td>d001</td>\n",
       "        <td>Marketing</td>\n",
       "        <td>1952-08-24</td>\n",
       "        <td>Barton</td>\n",
       "        <td>Goldhammer</td>\n",
       "        <td>M</td>\n",
       "        <td>1991-04-20</td>\n",
       "        <td>40423</td>\n",
       "    </tr>\n",
       "</table>"
      ],
      "text/plain": [
       "[(12505, datetime.date(1999, 8, 24), datetime.date(2000, 8, 23), 'd001', 'Marketing', datetime.date(1952, 8, 24), 'Barton', 'Goldhammer', 'M', datetime.date(1991, 4, 20), 40423)]"
      ]
     },
     "execution_count": 31,
     "metadata": {},
     "output_type": "execute_result"
    }
   ],
   "source": [
    "%%sql\n",
    "\n",
    "select *\n",
    "from departments natural join dept_emp natural join employees natural join salaries\n",
    "where employees.first_name = 'Barton' and employees.last_name = 'Goldhammer';\n"
   ]
  },
  {
   "cell_type": "markdown",
   "metadata": {},
   "source": [
    "## Huh?"
   ]
  },
  {
   "cell_type": "markdown",
   "metadata": {},
   "source": [
    "## A more specific version of JOIN operator"
   ]
  },
  {
   "cell_type": "code",
   "execution_count": 33,
   "metadata": {},
   "outputs": [
    {
     "name": "stdout",
     "output_type": "stream",
     "text": [
      "6 rows affected.\n"
     ]
    },
    {
     "data": {
      "text/html": [
       "<table>\n",
       "    <tr>\n",
       "        <th>emp_no</th>\n",
       "        <th>dept_no</th>\n",
       "        <th>dept_name</th>\n",
       "        <th>from_date</th>\n",
       "        <th>to_date</th>\n",
       "        <th>birth_date</th>\n",
       "        <th>first_name</th>\n",
       "        <th>last_name</th>\n",
       "        <th>gender</th>\n",
       "        <th>hire_date</th>\n",
       "        <th>emp_no_1</th>\n",
       "        <th>salary</th>\n",
       "        <th>from_date_1</th>\n",
       "        <th>to_date_1</th>\n",
       "    </tr>\n",
       "    <tr>\n",
       "        <td>12505</td>\n",
       "        <td>d001</td>\n",
       "        <td>Marketing</td>\n",
       "        <td>1999-08-24</td>\n",
       "        <td>2000-08-23</td>\n",
       "        <td>1952-08-24</td>\n",
       "        <td>Barton</td>\n",
       "        <td>Goldhammer</td>\n",
       "        <td>M</td>\n",
       "        <td>1991-04-20</td>\n",
       "        <td>12505</td>\n",
       "        <td>40423</td>\n",
       "        <td>1999-08-24</td>\n",
       "        <td>2000-08-23</td>\n",
       "    </tr>\n",
       "    <tr>\n",
       "        <td>12505</td>\n",
       "        <td>d007</td>\n",
       "        <td>Sales</td>\n",
       "        <td>2000-08-23</td>\n",
       "        <td>2002-02-18</td>\n",
       "        <td>1952-08-24</td>\n",
       "        <td>Barton</td>\n",
       "        <td>Goldhammer</td>\n",
       "        <td>M</td>\n",
       "        <td>1991-04-20</td>\n",
       "        <td>12505</td>\n",
       "        <td>40423</td>\n",
       "        <td>1999-08-24</td>\n",
       "        <td>2000-08-23</td>\n",
       "    </tr>\n",
       "    <tr>\n",
       "        <td>12505</td>\n",
       "        <td>d001</td>\n",
       "        <td>Marketing</td>\n",
       "        <td>1999-08-24</td>\n",
       "        <td>2000-08-23</td>\n",
       "        <td>1952-08-24</td>\n",
       "        <td>Barton</td>\n",
       "        <td>Goldhammer</td>\n",
       "        <td>M</td>\n",
       "        <td>1991-04-20</td>\n",
       "        <td>12505</td>\n",
       "        <td>43758</td>\n",
       "        <td>2000-08-23</td>\n",
       "        <td>2001-08-23</td>\n",
       "    </tr>\n",
       "    <tr>\n",
       "        <td>12505</td>\n",
       "        <td>d007</td>\n",
       "        <td>Sales</td>\n",
       "        <td>2000-08-23</td>\n",
       "        <td>2002-02-18</td>\n",
       "        <td>1952-08-24</td>\n",
       "        <td>Barton</td>\n",
       "        <td>Goldhammer</td>\n",
       "        <td>M</td>\n",
       "        <td>1991-04-20</td>\n",
       "        <td>12505</td>\n",
       "        <td>43758</td>\n",
       "        <td>2000-08-23</td>\n",
       "        <td>2001-08-23</td>\n",
       "    </tr>\n",
       "    <tr>\n",
       "        <td>12505</td>\n",
       "        <td>d001</td>\n",
       "        <td>Marketing</td>\n",
       "        <td>1999-08-24</td>\n",
       "        <td>2000-08-23</td>\n",
       "        <td>1952-08-24</td>\n",
       "        <td>Barton</td>\n",
       "        <td>Goldhammer</td>\n",
       "        <td>M</td>\n",
       "        <td>1991-04-20</td>\n",
       "        <td>12505</td>\n",
       "        <td>43942</td>\n",
       "        <td>2001-08-23</td>\n",
       "        <td>2002-02-18</td>\n",
       "    </tr>\n",
       "    <tr>\n",
       "        <td>12505</td>\n",
       "        <td>d007</td>\n",
       "        <td>Sales</td>\n",
       "        <td>2000-08-23</td>\n",
       "        <td>2002-02-18</td>\n",
       "        <td>1952-08-24</td>\n",
       "        <td>Barton</td>\n",
       "        <td>Goldhammer</td>\n",
       "        <td>M</td>\n",
       "        <td>1991-04-20</td>\n",
       "        <td>12505</td>\n",
       "        <td>43942</td>\n",
       "        <td>2001-08-23</td>\n",
       "        <td>2002-02-18</td>\n",
       "    </tr>\n",
       "</table>"
      ],
      "text/plain": [
       "[(12505, 'd001', 'Marketing', datetime.date(1999, 8, 24), datetime.date(2000, 8, 23), datetime.date(1952, 8, 24), 'Barton', 'Goldhammer', 'M', datetime.date(1991, 4, 20), 12505, 40423, datetime.date(1999, 8, 24), datetime.date(2000, 8, 23)),\n",
       " (12505, 'd007', 'Sales', datetime.date(2000, 8, 23), datetime.date(2002, 2, 18), datetime.date(1952, 8, 24), 'Barton', 'Goldhammer', 'M', datetime.date(1991, 4, 20), 12505, 40423, datetime.date(1999, 8, 24), datetime.date(2000, 8, 23)),\n",
       " (12505, 'd001', 'Marketing', datetime.date(1999, 8, 24), datetime.date(2000, 8, 23), datetime.date(1952, 8, 24), 'Barton', 'Goldhammer', 'M', datetime.date(1991, 4, 20), 12505, 43758, datetime.date(2000, 8, 23), datetime.date(2001, 8, 23)),\n",
       " (12505, 'd007', 'Sales', datetime.date(2000, 8, 23), datetime.date(2002, 2, 18), datetime.date(1952, 8, 24), 'Barton', 'Goldhammer', 'M', datetime.date(1991, 4, 20), 12505, 43758, datetime.date(2000, 8, 23), datetime.date(2001, 8, 23)),\n",
       " (12505, 'd001', 'Marketing', datetime.date(1999, 8, 24), datetime.date(2000, 8, 23), datetime.date(1952, 8, 24), 'Barton', 'Goldhammer', 'M', datetime.date(1991, 4, 20), 12505, 43942, datetime.date(2001, 8, 23), datetime.date(2002, 2, 18)),\n",
       " (12505, 'd007', 'Sales', datetime.date(2000, 8, 23), datetime.date(2002, 2, 18), datetime.date(1952, 8, 24), 'Barton', 'Goldhammer', 'M', datetime.date(1991, 4, 20), 12505, 43942, datetime.date(2001, 8, 23), datetime.date(2002, 2, 18))]"
      ]
     },
     "execution_count": 33,
     "metadata": {},
     "output_type": "execute_result"
    }
   ],
   "source": [
    "%%sql\n",
    "\n",
    "select *\n",
    "from departments natural join dept_emp natural join employees join salaries on employees.emp_no = salaries.emp_no\n",
    "where employees.first_name = 'Barton' and employees.last_name = 'Goldhammer'\n",
    "order by salaries.from_date;\n"
   ]
  },
  {
   "cell_type": "markdown",
   "metadata": {},
   "source": [
    "## What are the min, max, and average salaries per department?\n",
    "\n",
    "[PostgreSQL: Documentation: 9.5: Data Type Formatting Functions](https://www.postgresql.org/docs/9.5/static/functions-formatting.html)\n"
   ]
  },
  {
   "cell_type": "code",
   "execution_count": 36,
   "metadata": {},
   "outputs": [
    {
     "name": "stdout",
     "output_type": "stream",
     "text": [
      "9 rows affected.\n"
     ]
    },
    {
     "data": {
      "text/html": [
       "<table>\n",
       "    <tr>\n",
       "        <th>dept_name</th>\n",
       "        <th>min</th>\n",
       "        <th>to_char</th>\n",
       "        <th>max</th>\n",
       "    </tr>\n",
       "    <tr>\n",
       "        <td>Customer Service</td>\n",
       "        <td>40000</td>\n",
       "        <td>&nbsp;&nbsp;43,684.35</td>\n",
       "        <td>91638</td>\n",
       "    </tr>\n",
       "    <tr>\n",
       "        <td>Development</td>\n",
       "        <td>40000</td>\n",
       "        <td>&nbsp;&nbsp;49,085.11</td>\n",
       "        <td>100285</td>\n",
       "    </tr>\n",
       "    <tr>\n",
       "        <td>Finance</td>\n",
       "        <td>40000</td>\n",
       "        <td>&nbsp;&nbsp;61,479.84</td>\n",
       "        <td>105985</td>\n",
       "    </tr>\n",
       "    <tr>\n",
       "        <td>Human Resources</td>\n",
       "        <td>40000</td>\n",
       "        <td>&nbsp;&nbsp;43,069.74</td>\n",
       "        <td>73900</td>\n",
       "    </tr>\n",
       "    <tr>\n",
       "        <td>Marketing</td>\n",
       "        <td>40000</td>\n",
       "        <td>&nbsp;&nbsp;59,373.39</td>\n",
       "        <td>100242</td>\n",
       "    </tr>\n",
       "    <tr>\n",
       "        <td>Production</td>\n",
       "        <td>40000</td>\n",
       "        <td>&nbsp;&nbsp;49,057.93</td>\n",
       "        <td>98370</td>\n",
       "    </tr>\n",
       "    <tr>\n",
       "        <td>Quality Management</td>\n",
       "        <td>40000</td>\n",
       "        <td>&nbsp;&nbsp;46,026.20</td>\n",
       "        <td>79334</td>\n",
       "    </tr>\n",
       "    <tr>\n",
       "        <td>Research</td>\n",
       "        <td>40000</td>\n",
       "        <td>&nbsp;&nbsp;49,130.98</td>\n",
       "        <td>81790</td>\n",
       "    </tr>\n",
       "    <tr>\n",
       "        <td>Sales</td>\n",
       "        <td>40000</td>\n",
       "        <td>&nbsp;&nbsp;69,663.26</td>\n",
       "        <td>112513</td>\n",
       "    </tr>\n",
       "</table>"
      ],
      "text/plain": [
       "[('Customer Service', 40000, '  43,684.35', 91638),\n",
       " ('Development', 40000, '  49,085.11', 100285),\n",
       " ('Finance', 40000, '  61,479.84', 105985),\n",
       " ('Human Resources', 40000, '  43,069.74', 73900),\n",
       " ('Marketing', 40000, '  59,373.39', 100242),\n",
       " ('Production', 40000, '  49,057.93', 98370),\n",
       " ('Quality Management', 40000, '  46,026.20', 79334),\n",
       " ('Research', 40000, '  49,130.98', 81790),\n",
       " ('Sales', 40000, '  69,663.26', 112513)]"
      ]
     },
     "execution_count": 36,
     "metadata": {},
     "output_type": "execute_result"
    }
   ],
   "source": [
    "%%sql\n",
    "\n",
    "select dept_name, min(salary), to_char(avg(salary), '999,999.99'), max(salary)\n",
    "from departments natural join dept_emp natural join employees natural join salaries\n",
    "group by dept_name;\n"
   ]
  },
  {
   "cell_type": "markdown",
   "metadata": {},
   "source": [
    "```\n",
    "select * from\n",
    "dept_emp natural join salaries\n",
    "```\n",
    "\n",
    "```\n",
    "emp_no  dept_no from to salary\n",
    "1       2       X    Y  10\n",
    "```\n",
    "\n",
    "\n",
    "```\n",
    "select * from\n",
    "dept_emp join salaries on dept_emp.emp_no = salaries.emp_no\n",
    "```\n",
    "\n",
    "\n",
    "\n",
    "```\n",
    "emp_no   dept_no  from_1  to_1 from_2 to_2 salary\n",
    "1        2        X       Y    X      Y    10\n",
    "1        3        Y       X    X      Y    10\n",
    "2        1        X       Y    Y      Z    12\n",
    "\n",
    "```\n",
    "\n"
   ]
  },
  {
   "cell_type": "markdown",
   "metadata": {},
   "source": [
    "## Find the salary history for Holgard Pena\n"
   ]
  },
  {
   "cell_type": "code",
   "execution_count": null,
   "metadata": {},
   "outputs": [],
   "source": [
    "%%sql\n"
   ]
  },
  {
   "cell_type": "markdown",
   "metadata": {},
   "source": [
    "## Find the job title history for Holgard Pena\n"
   ]
  },
  {
   "cell_type": "code",
   "execution_count": null,
   "metadata": {},
   "outputs": [],
   "source": [
    "%%sql\n"
   ]
  },
  {
   "cell_type": "markdown",
   "metadata": {},
   "source": [
    "## Current job title counts per department\n"
   ]
  },
  {
   "cell_type": "code",
   "execution_count": null,
   "metadata": {},
   "outputs": [],
   "source": [
    "%%sql\n"
   ]
  },
  {
   "cell_type": "markdown",
   "metadata": {},
   "source": [
    "## Average salary by job title  - based on current salary and current title\n"
   ]
  },
  {
   "cell_type": "code",
   "execution_count": null,
   "metadata": {},
   "outputs": [],
   "source": [
    "%%sql\n"
   ]
  },
  {
   "cell_type": "markdown",
   "metadata": {},
   "source": [
    "## Who has held the most titles?\n"
   ]
  },
  {
   "cell_type": "code",
   "execution_count": null,
   "metadata": {},
   "outputs": [],
   "source": [
    "%%sql\n"
   ]
  }
 ],
 "metadata": {
  "kernelspec": {
   "display_name": "Python 3",
   "language": "python",
   "name": "python3"
  },
  "language_info": {
   "codemirror_mode": {
    "name": "ipython",
    "version": 3
   },
   "file_extension": ".py",
   "mimetype": "text/x-python",
   "name": "python",
   "nbconvert_exporter": "python",
   "pygments_lexer": "ipython3",
   "version": "3.5.1"
  }
 },
 "nbformat": 4,
 "nbformat_minor": 2
}
