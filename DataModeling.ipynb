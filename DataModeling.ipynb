{
 "cells": [
  {
   "cell_type": "markdown",
   "metadata": {},
   "source": [
    "# Data Modeling\n",
    "\n",
    "## Registration database"
   ]
  },
  {
   "cell_type": "markdown",
   "metadata": {},
   "source": [
    "## Modeling a Registration Database\n",
    "\n",
    "* It is registration time, and the registration process is driven by the online registration system\n",
    "* Lets think about this and develop a data model for registration\n",
    "* We'll use Logical Data Structure (LDS) for modeling\n",
    "\n",
    "\n",
    "1. What are the main entities involved?\n",
    "1. Ask the question \"what do we want to remember about each entity?\"\n",
    "1. How do we uniquely identify each entity?\n",
    "1. For each attribute, are there other things we want to remember? \n",
    "\n",
    "    1. If so, then promote that attribute to an entity\n",
    "    1. What are the relationships between these entities?\n"
   ]
  },
  {
   "cell_type": "markdown",
   "metadata": {},
   "source": [
    "# Data Model: Entities\n",
    "\n",
    "Here is one version of the model. This one has entities only, without any relationships.\n",
    "\n",
    "![](registrationdb_entities.png)"
   ]
  },
  {
   "cell_type": "markdown",
   "metadata": {},
   "source": [
    "# Data Model: Relationships\n",
    "\n",
    "Here is a version of the model with realtionships. **Notice that there are several many-many relationships**  These relationships need to be further evolved, but we will keep them this way for now.\n",
    "\n",
    "![](registrationdb_relationships.png)"
   ]
  },
  {
   "cell_type": "markdown",
   "metadata": {},
   "source": [
    "# Data Model: Converting to a Database\n",
    "\n",
    "* We will use SQL Data Definition Language (DDL) to create a table\n",
    "\n",
    "* Full documentation is here:\n",
    "  * [PostgreSQL 9.4](https://www.postgresql.org/docs/9.4/static/sql-createtable.html)\n",
    "  * [Latest PostgreSQL](https://www.postgresql.org/docs/current/static/sql-createtable.html)\n",
    "\n",
    "* More than you want to know at the moment\n",
    "\n",
    "* Give the table a name\n",
    "  * Singular noun\n",
    "\n",
    "* Describe each column (field) with a name and a data type\n",
    "  * integer\n",
    "  * real - float\n",
    "  * text - varchar\n",
    "  * date \n",
    "  \n",
    "* Describe any constraints\n",
    "  * One important constraint is to identify the primary key"
   ]
  },
  {
   "cell_type": "markdown",
   "metadata": {},
   "source": [
    "# SQL: Connecting to Your Database\n",
    "\n",
    "1. Load sql module in the notebook: `%load_ext sql`\n",
    "\n",
    "1. Connect to **your** database: `postgresql://yasiro01:@localhost/yasiro01`\n",
    "  * Replace *yasiro01* with your name both as a user and a database name"
   ]
  },
  {
   "cell_type": "code",
   "execution_count": 1,
   "metadata": {},
   "outputs": [],
   "source": [
    "import warnings\n",
    "warnings.filterwarnings('ignore')\n",
    "\n",
    "%load_ext sql\n"
   ]
  },
  {
   "cell_type": "code",
   "execution_count": 2,
   "metadata": {},
   "outputs": [
    {
     "data": {
      "text/plain": [
       "'Connected: yasiro01@yasiro01'"
      ]
     },
     "execution_count": 2,
     "metadata": {},
     "output_type": "execute_result"
    }
   ],
   "source": [
    "%%sql \n",
    "\n",
    "postgresql://yasiro01:@localhost/yasiro01\n"
   ]
  },
  {
   "cell_type": "markdown",
   "metadata": {},
   "source": [
    "# SQL: Data Manipulation\n",
    "\n",
    "* **C**reate\n",
    "* **R**ead\n",
    "* **U**pdate\n",
    "* **D**elete"
   ]
  },
  {
   "cell_type": "markdown",
   "metadata": {},
   "source": [
    "# SQL: Database Structure Manipulation\n",
    "\n",
    "SQL can be used to create both the database structure and data inside."
   ]
  },
  {
   "cell_type": "code",
   "execution_count": 26,
   "metadata": {},
   "outputs": [
    {
     "name": "stdout",
     "output_type": "stream",
     "text": [
      "Done.\n",
      "Done.\n"
     ]
    },
    {
     "data": {
      "text/plain": [
       "[]"
      ]
     },
     "execution_count": 26,
     "metadata": {},
     "output_type": "execute_result"
    }
   ],
   "source": [
    "%%sql\n",
    "\n",
    "drop table if exists student;\n",
    "\n",
    "create table student (\n",
    "    username varchar(8),\n",
    "    name_first varchar(50),\n",
    "    name_last varchar(50),\n",
    "    dob date,\n",
    "    \n",
    "    constraint s_id_pk primary key(username)\n",
    ");"
   ]
  },
  {
   "cell_type": "markdown",
   "metadata": {},
   "source": [
    "# SQL: Medatada\n",
    "\n",
    "Each table hold description of the data (metadata) in its *INFORMATION_SCHEMA.COLUMNS*. Some metadata fields are:\n",
    "\n",
    "* table_name\n",
    "\n",
    "* column_name\n",
    "\n",
    "* is_nullable\n",
    "\n",
    "* character_maximum_length\n",
    "\n",
    "* is_updatable"
   ]
  },
  {
   "cell_type": "code",
   "execution_count": 27,
   "metadata": {},
   "outputs": [
    {
     "name": "stdout",
     "output_type": "stream",
     "text": [
      "4 rows affected.\n"
     ]
    },
    {
     "data": {
      "text/html": [
       "<table>\n",
       "    <tr>\n",
       "        <th>column_name</th>\n",
       "        <th>data_type</th>\n",
       "        <th>character_maximum_length</th>\n",
       "    </tr>\n",
       "    <tr>\n",
       "        <td>username</td>\n",
       "        <td>character varying</td>\n",
       "        <td>8</td>\n",
       "    </tr>\n",
       "    <tr>\n",
       "        <td>name_first</td>\n",
       "        <td>character varying</td>\n",
       "        <td>50</td>\n",
       "    </tr>\n",
       "    <tr>\n",
       "        <td>name_last</td>\n",
       "        <td>character varying</td>\n",
       "        <td>50</td>\n",
       "    </tr>\n",
       "    <tr>\n",
       "        <td>dob</td>\n",
       "        <td>date</td>\n",
       "        <td>None</td>\n",
       "    </tr>\n",
       "</table>"
      ],
      "text/plain": [
       "[('username', 'character varying', 8),\n",
       " ('name_first', 'character varying', 50),\n",
       " ('name_last', 'character varying', 50),\n",
       " ('dob', 'date', None)]"
      ]
     },
     "execution_count": 27,
     "metadata": {},
     "output_type": "execute_result"
    }
   ],
   "source": [
    "%%sql\n",
    "\n",
    "select column_name, data_type, character_maximum_length\n",
    "from INFORMATION_SCHEMA.COLUMNS\n",
    "where table_name = 'student';\n",
    "\n"
   ]
  },
  {
   "cell_type": "markdown",
   "metadata": {},
   "source": [
    "# SQL: Create\n",
    "\n",
    "SQL has another clause, `INSERT`, to add **data** to a database\n",
    "\n",
    "    insert into table (column_1, column_2, ..., column_n) values(value_1, value_2, ..., value_n);\n",
    "    \n",
    "The list of columns is optional. If it is not given then value_1, value_2, etc. must be in the order they appear in the create table statement. If you give the column list then the columns and values must be in the same order.\n",
    "\n",
    "If you do not give a column its value, it will be null or the default value you specify."
   ]
  },
  {
   "cell_type": "code",
   "execution_count": 28,
   "metadata": {},
   "outputs": [
    {
     "name": "stdout",
     "output_type": "stream",
     "text": [
      "1 rows affected.\n",
      "1 rows affected.\n",
      "1 rows affected.\n"
     ]
    },
    {
     "data": {
      "text/plain": [
       "[]"
      ]
     },
     "execution_count": 28,
     "metadata": {},
     "output_type": "execute_result"
    }
   ],
   "source": [
    "%%sql\n",
    "\n",
    "insert into student (username, name_first, name_last) values ('pottha01', 'Harry', 'Potter');\n",
    "insert into student (name_first, name_last, username) values ('Ron', 'Weasley', 'weasro02');\n",
    "insert into student values('granhe03', 'Hermione', 'Granger', '2018-04-11');"
   ]
  },
  {
   "cell_type": "code",
   "execution_count": 30,
   "metadata": {},
   "outputs": [
    {
     "name": "stdout",
     "output_type": "stream",
     "text": [
      "3 rows affected.\n"
     ]
    },
    {
     "data": {
      "text/html": [
       "<table>\n",
       "    <tr>\n",
       "        <th>username</th>\n",
       "        <th>name_first</th>\n",
       "        <th>name_last</th>\n",
       "        <th>dob</th>\n",
       "    </tr>\n",
       "    <tr>\n",
       "        <td>pottha01</td>\n",
       "        <td>Harry</td>\n",
       "        <td>Potter</td>\n",
       "        <td>None</td>\n",
       "    </tr>\n",
       "    <tr>\n",
       "        <td>weasro02</td>\n",
       "        <td>Ron</td>\n",
       "        <td>Weasley</td>\n",
       "        <td>None</td>\n",
       "    </tr>\n",
       "    <tr>\n",
       "        <td>granhe03</td>\n",
       "        <td>Hermione</td>\n",
       "        <td>Granger</td>\n",
       "        <td>2018-04-11</td>\n",
       "    </tr>\n",
       "</table>"
      ],
      "text/plain": [
       "[('pottha01', 'Harry', 'Potter', None),\n",
       " ('weasro02', 'Ron', 'Weasley', None),\n",
       " ('granhe03', 'Hermione', 'Granger', datetime.date(2018, 4, 11))]"
      ]
     },
     "execution_count": 30,
     "metadata": {},
     "output_type": "execute_result"
    }
   ],
   "source": [
    "%%sql\n",
    "\n",
    "select *\n",
    "from student;"
   ]
  },
  {
   "cell_type": "markdown",
   "metadata": {},
   "source": [
    "# SQL: Read\n",
    "\n",
    "Use `SELECT` clause to read (retrieve) data from the database."
   ]
  },
  {
   "cell_type": "code",
   "execution_count": 31,
   "metadata": {},
   "outputs": [
    {
     "name": "stdout",
     "output_type": "stream",
     "text": [
      "3 rows affected.\n"
     ]
    },
    {
     "data": {
      "text/html": [
       "<table>\n",
       "    <tr>\n",
       "        <th>username</th>\n",
       "        <th>name_first</th>\n",
       "        <th>name_last</th>\n",
       "        <th>dob</th>\n",
       "    </tr>\n",
       "    <tr>\n",
       "        <td>pottha01</td>\n",
       "        <td>Harry</td>\n",
       "        <td>Potter</td>\n",
       "        <td>None</td>\n",
       "    </tr>\n",
       "    <tr>\n",
       "        <td>weasro02</td>\n",
       "        <td>Ron</td>\n",
       "        <td>Weasley</td>\n",
       "        <td>None</td>\n",
       "    </tr>\n",
       "    <tr>\n",
       "        <td>granhe03</td>\n",
       "        <td>Hermione</td>\n",
       "        <td>Granger</td>\n",
       "        <td>2018-04-11</td>\n",
       "    </tr>\n",
       "</table>"
      ],
      "text/plain": [
       "[('pottha01', 'Harry', 'Potter', None),\n",
       " ('weasro02', 'Ron', 'Weasley', None),\n",
       " ('granhe03', 'Hermione', 'Granger', datetime.date(2018, 4, 11))]"
      ]
     },
     "execution_count": 31,
     "metadata": {},
     "output_type": "execute_result"
    }
   ],
   "source": [
    "%%sql\n",
    "\n",
    "select *\n",
    "from student;"
   ]
  },
  {
   "cell_type": "markdown",
   "metadata": {},
   "source": [
    "# SQL: Conditional Read"
   ]
  },
  {
   "cell_type": "code",
   "execution_count": 34,
   "metadata": {},
   "outputs": [
    {
     "name": "stdout",
     "output_type": "stream",
     "text": [
      "2 rows affected.\n"
     ]
    },
    {
     "data": {
      "text/html": [
       "<table>\n",
       "    <tr>\n",
       "        <th>username</th>\n",
       "        <th>name_first</th>\n",
       "        <th>name_last</th>\n",
       "        <th>dob</th>\n",
       "    </tr>\n",
       "    <tr>\n",
       "        <td>pottha01</td>\n",
       "        <td>Harry</td>\n",
       "        <td>Potter</td>\n",
       "        <td>None</td>\n",
       "    </tr>\n",
       "    <tr>\n",
       "        <td>weasro02</td>\n",
       "        <td>Ron</td>\n",
       "        <td>Weasley</td>\n",
       "        <td>None</td>\n",
       "    </tr>\n",
       "</table>"
      ],
      "text/plain": [
       "[('pottha01', 'Harry', 'Potter', None), ('weasro02', 'Ron', 'Weasley', None)]"
      ]
     },
     "execution_count": 34,
     "metadata": {},
     "output_type": "execute_result"
    }
   ],
   "source": [
    "%%sql\n",
    "\n",
    "select *\n",
    "from student\n",
    "where dob is null;"
   ]
  },
  {
   "cell_type": "markdown",
   "metadata": {},
   "source": [
    "# SQL: Update\n",
    "\n",
    "Use `UPDATE` clause to update (change) data in the database.\n"
   ]
  },
  {
   "cell_type": "code",
   "execution_count": 37,
   "metadata": {},
   "outputs": [
    {
     "name": "stdout",
     "output_type": "stream",
     "text": [
      "3 rows affected.\n"
     ]
    },
    {
     "data": {
      "text/plain": [
       "[]"
      ]
     },
     "execution_count": 37,
     "metadata": {},
     "output_type": "execute_result"
    }
   ],
   "source": [
    "%%sql\n",
    "\n",
    "update student\n",
    "set dob = '04/13/2016';"
   ]
  },
  {
   "cell_type": "code",
   "execution_count": 38,
   "metadata": {},
   "outputs": [
    {
     "name": "stdout",
     "output_type": "stream",
     "text": [
      "3 rows affected.\n"
     ]
    },
    {
     "data": {
      "text/html": [
       "<table>\n",
       "    <tr>\n",
       "        <th>username</th>\n",
       "        <th>name_first</th>\n",
       "        <th>name_last</th>\n",
       "        <th>dob</th>\n",
       "    </tr>\n",
       "    <tr>\n",
       "        <td>pottha01</td>\n",
       "        <td>Harry</td>\n",
       "        <td>Potter</td>\n",
       "        <td>2016-04-13</td>\n",
       "    </tr>\n",
       "    <tr>\n",
       "        <td>weasro02</td>\n",
       "        <td>Ron</td>\n",
       "        <td>Weasley</td>\n",
       "        <td>2016-04-13</td>\n",
       "    </tr>\n",
       "    <tr>\n",
       "        <td>granhe03</td>\n",
       "        <td>Hermione</td>\n",
       "        <td>Granger</td>\n",
       "        <td>2016-04-13</td>\n",
       "    </tr>\n",
       "</table>"
      ],
      "text/plain": [
       "[('pottha01', 'Harry', 'Potter', datetime.date(2016, 4, 13)),\n",
       " ('weasro02', 'Ron', 'Weasley', datetime.date(2016, 4, 13)),\n",
       " ('granhe03', 'Hermione', 'Granger', datetime.date(2016, 4, 13))]"
      ]
     },
     "execution_count": 38,
     "metadata": {},
     "output_type": "execute_result"
    }
   ],
   "source": [
    "%%sql\n",
    "\n",
    "select *\n",
    "from student"
   ]
  },
  {
   "cell_type": "markdown",
   "metadata": {},
   "source": [
    "# SQL: Conditional Update\n",
    "\n",
    "Populate the database first"
   ]
  },
  {
   "cell_type": "code",
   "execution_count": 39,
   "metadata": {},
   "outputs": [
    {
     "name": "stdout",
     "output_type": "stream",
     "text": [
      "1 rows affected.\n",
      "1 rows affected.\n",
      "1 rows affected.\n",
      "1 rows affected.\n",
      "1 rows affected.\n",
      "1 rows affected.\n"
     ]
    },
    {
     "data": {
      "text/plain": [
       "[]"
      ]
     },
     "execution_count": 39,
     "metadata": {},
     "output_type": "execute_result"
    }
   ],
   "source": [
    "%%sql\n",
    "\n",
    "insert into student values('aardal01', 'Alice', 'Aardvark', '2018-04-13');\n",
    "insert into student values('beavbo02', 'Bob', 'Beaver', '2018/04/13');\n",
    "insert into student values('crocch03', 'Charlie', 'Crocodile', '20180413');\n",
    "insert into student values('dogdi04', 'Diana', 'Dog', '04/13/2018');\n",
    "insert into student values('eaglev05', 'Eve', 'Eagle', '4/13/18');\n",
    "insert into student values('foxfr06', 'Fred', 'Fox');"
   ]
  },
  {
   "cell_type": "code",
   "execution_count": 41,
   "metadata": {},
   "outputs": [
    {
     "name": "stdout",
     "output_type": "stream",
     "text": [
      "1 rows affected.\n"
     ]
    },
    {
     "data": {
      "text/plain": [
       "[]"
      ]
     },
     "execution_count": 41,
     "metadata": {},
     "output_type": "execute_result"
    }
   ],
   "source": [
    "%%sql\n",
    "\n",
    "insert into student values('goatge07', 'George', 'Goat', '4/5/18');"
   ]
  },
  {
   "cell_type": "code",
   "execution_count": 42,
   "metadata": {},
   "outputs": [
    {
     "name": "stdout",
     "output_type": "stream",
     "text": [
      "10 rows affected.\n"
     ]
    },
    {
     "data": {
      "text/html": [
       "<table>\n",
       "    <tr>\n",
       "        <th>username</th>\n",
       "        <th>name_first</th>\n",
       "        <th>name_last</th>\n",
       "        <th>dob</th>\n",
       "    </tr>\n",
       "    <tr>\n",
       "        <td>pottha01</td>\n",
       "        <td>Harry</td>\n",
       "        <td>Potter</td>\n",
       "        <td>2016-04-13</td>\n",
       "    </tr>\n",
       "    <tr>\n",
       "        <td>weasro02</td>\n",
       "        <td>Ron</td>\n",
       "        <td>Weasley</td>\n",
       "        <td>2016-04-13</td>\n",
       "    </tr>\n",
       "    <tr>\n",
       "        <td>granhe03</td>\n",
       "        <td>Hermione</td>\n",
       "        <td>Granger</td>\n",
       "        <td>2016-04-13</td>\n",
       "    </tr>\n",
       "    <tr>\n",
       "        <td>aardal01</td>\n",
       "        <td>Alice</td>\n",
       "        <td>Aardvark</td>\n",
       "        <td>2018-04-13</td>\n",
       "    </tr>\n",
       "    <tr>\n",
       "        <td>beavbo02</td>\n",
       "        <td>Bob</td>\n",
       "        <td>Beaver</td>\n",
       "        <td>2018-04-13</td>\n",
       "    </tr>\n",
       "    <tr>\n",
       "        <td>crocch03</td>\n",
       "        <td>Charlie</td>\n",
       "        <td>Crocodile</td>\n",
       "        <td>2018-04-13</td>\n",
       "    </tr>\n",
       "    <tr>\n",
       "        <td>dogdi04</td>\n",
       "        <td>Diana</td>\n",
       "        <td>Dog</td>\n",
       "        <td>2018-04-13</td>\n",
       "    </tr>\n",
       "    <tr>\n",
       "        <td>eaglev05</td>\n",
       "        <td>Eve</td>\n",
       "        <td>Eagle</td>\n",
       "        <td>2018-04-13</td>\n",
       "    </tr>\n",
       "    <tr>\n",
       "        <td>foxfr06</td>\n",
       "        <td>Fred</td>\n",
       "        <td>Fox</td>\n",
       "        <td>None</td>\n",
       "    </tr>\n",
       "    <tr>\n",
       "        <td>goatge07</td>\n",
       "        <td>George</td>\n",
       "        <td>Goat</td>\n",
       "        <td>2018-04-05</td>\n",
       "    </tr>\n",
       "</table>"
      ],
      "text/plain": [
       "[('pottha01', 'Harry', 'Potter', datetime.date(2016, 4, 13)),\n",
       " ('weasro02', 'Ron', 'Weasley', datetime.date(2016, 4, 13)),\n",
       " ('granhe03', 'Hermione', 'Granger', datetime.date(2016, 4, 13)),\n",
       " ('aardal01', 'Alice', 'Aardvark', datetime.date(2018, 4, 13)),\n",
       " ('beavbo02', 'Bob', 'Beaver', datetime.date(2018, 4, 13)),\n",
       " ('crocch03', 'Charlie', 'Crocodile', datetime.date(2018, 4, 13)),\n",
       " ('dogdi04', 'Diana', 'Dog', datetime.date(2018, 4, 13)),\n",
       " ('eaglev05', 'Eve', 'Eagle', datetime.date(2018, 4, 13)),\n",
       " ('foxfr06', 'Fred', 'Fox', None),\n",
       " ('goatge07', 'George', 'Goat', datetime.date(2018, 4, 5))]"
      ]
     },
     "execution_count": 42,
     "metadata": {},
     "output_type": "execute_result"
    }
   ],
   "source": [
    "%%sql\n",
    "\n",
    "select *\n",
    "from student;\n"
   ]
  },
  {
   "cell_type": "code",
   "execution_count": 43,
   "metadata": {},
   "outputs": [
    {
     "name": "stdout",
     "output_type": "stream",
     "text": [
      "1 rows affected.\n"
     ]
    },
    {
     "data": {
      "text/plain": [
       "[]"
      ]
     },
     "execution_count": 43,
     "metadata": {},
     "output_type": "execute_result"
    }
   ],
   "source": [
    "%%sql\n",
    "\n",
    "update student\n",
    "set dob = '2017-12-10'\n",
    "where dob is null;"
   ]
  },
  {
   "cell_type": "code",
   "execution_count": 47,
   "metadata": {},
   "outputs": [
    {
     "name": "stdout",
     "output_type": "stream",
     "text": [
      "10 rows affected.\n"
     ]
    },
    {
     "data": {
      "text/html": [
       "<table>\n",
       "    <tr>\n",
       "        <th>username</th>\n",
       "        <th>name_first</th>\n",
       "        <th>name_last</th>\n",
       "        <th>dob</th>\n",
       "    </tr>\n",
       "    <tr>\n",
       "        <td>pottha01</td>\n",
       "        <td>Harry</td>\n",
       "        <td>Potter</td>\n",
       "        <td>2016-04-13</td>\n",
       "    </tr>\n",
       "    <tr>\n",
       "        <td>weasro02</td>\n",
       "        <td>Ron</td>\n",
       "        <td>Weasley</td>\n",
       "        <td>2016-04-13</td>\n",
       "    </tr>\n",
       "    <tr>\n",
       "        <td>granhe03</td>\n",
       "        <td>Hermione</td>\n",
       "        <td>Granger</td>\n",
       "        <td>2016-04-13</td>\n",
       "    </tr>\n",
       "    <tr>\n",
       "        <td>aardal01</td>\n",
       "        <td>Alice</td>\n",
       "        <td>Aardvark</td>\n",
       "        <td>2018-04-13</td>\n",
       "    </tr>\n",
       "    <tr>\n",
       "        <td>beavbo02</td>\n",
       "        <td>Bob</td>\n",
       "        <td>Beaver</td>\n",
       "        <td>2018-04-13</td>\n",
       "    </tr>\n",
       "    <tr>\n",
       "        <td>crocch03</td>\n",
       "        <td>Charlie</td>\n",
       "        <td>Crocodile</td>\n",
       "        <td>2018-04-13</td>\n",
       "    </tr>\n",
       "    <tr>\n",
       "        <td>dogdi04</td>\n",
       "        <td>Diana</td>\n",
       "        <td>Dog</td>\n",
       "        <td>2018-04-13</td>\n",
       "    </tr>\n",
       "    <tr>\n",
       "        <td>eaglev05</td>\n",
       "        <td>Eve</td>\n",
       "        <td>Eagle</td>\n",
       "        <td>2018-04-13</td>\n",
       "    </tr>\n",
       "    <tr>\n",
       "        <td>goatge07</td>\n",
       "        <td>George</td>\n",
       "        <td>Goat</td>\n",
       "        <td>2018-04-05</td>\n",
       "    </tr>\n",
       "    <tr>\n",
       "        <td>foxfr06</td>\n",
       "        <td>Fred</td>\n",
       "        <td>Fox</td>\n",
       "        <td>2017-12-10</td>\n",
       "    </tr>\n",
       "</table>"
      ],
      "text/plain": [
       "[('pottha01', 'Harry', 'Potter', datetime.date(2016, 4, 13)),\n",
       " ('weasro02', 'Ron', 'Weasley', datetime.date(2016, 4, 13)),\n",
       " ('granhe03', 'Hermione', 'Granger', datetime.date(2016, 4, 13)),\n",
       " ('aardal01', 'Alice', 'Aardvark', datetime.date(2018, 4, 13)),\n",
       " ('beavbo02', 'Bob', 'Beaver', datetime.date(2018, 4, 13)),\n",
       " ('crocch03', 'Charlie', 'Crocodile', datetime.date(2018, 4, 13)),\n",
       " ('dogdi04', 'Diana', 'Dog', datetime.date(2018, 4, 13)),\n",
       " ('eaglev05', 'Eve', 'Eagle', datetime.date(2018, 4, 13)),\n",
       " ('goatge07', 'George', 'Goat', datetime.date(2018, 4, 5)),\n",
       " ('foxfr06', 'Fred', 'Fox', datetime.date(2017, 12, 10))]"
      ]
     },
     "execution_count": 47,
     "metadata": {},
     "output_type": "execute_result"
    }
   ],
   "source": [
    "%%sql\n",
    "\n",
    "select *\n",
    "from student\n"
   ]
  },
  {
   "cell_type": "code",
   "execution_count": 48,
   "metadata": {},
   "outputs": [
    {
     "name": "stdout",
     "output_type": "stream",
     "text": [
      "1 rows affected.\n"
     ]
    },
    {
     "data": {
      "text/plain": [
       "[]"
      ]
     },
     "execution_count": 48,
     "metadata": {},
     "output_type": "execute_result"
    }
   ],
   "source": [
    "%%sql\n",
    "\n",
    "update student\n",
    "set name_first = 'Fiona'\n",
    "where name_first = 'Fred';\n"
   ]
  },
  {
   "cell_type": "code",
   "execution_count": 49,
   "metadata": {},
   "outputs": [
    {
     "name": "stdout",
     "output_type": "stream",
     "text": [
      "10 rows affected.\n"
     ]
    },
    {
     "data": {
      "text/html": [
       "<table>\n",
       "    <tr>\n",
       "        <th>username</th>\n",
       "        <th>name_first</th>\n",
       "        <th>name_last</th>\n",
       "        <th>dob</th>\n",
       "    </tr>\n",
       "    <tr>\n",
       "        <td>pottha01</td>\n",
       "        <td>Harry</td>\n",
       "        <td>Potter</td>\n",
       "        <td>2016-04-13</td>\n",
       "    </tr>\n",
       "    <tr>\n",
       "        <td>weasro02</td>\n",
       "        <td>Ron</td>\n",
       "        <td>Weasley</td>\n",
       "        <td>2016-04-13</td>\n",
       "    </tr>\n",
       "    <tr>\n",
       "        <td>granhe03</td>\n",
       "        <td>Hermione</td>\n",
       "        <td>Granger</td>\n",
       "        <td>2016-04-13</td>\n",
       "    </tr>\n",
       "    <tr>\n",
       "        <td>aardal01</td>\n",
       "        <td>Alice</td>\n",
       "        <td>Aardvark</td>\n",
       "        <td>2018-04-13</td>\n",
       "    </tr>\n",
       "    <tr>\n",
       "        <td>beavbo02</td>\n",
       "        <td>Bob</td>\n",
       "        <td>Beaver</td>\n",
       "        <td>2018-04-13</td>\n",
       "    </tr>\n",
       "    <tr>\n",
       "        <td>crocch03</td>\n",
       "        <td>Charlie</td>\n",
       "        <td>Crocodile</td>\n",
       "        <td>2018-04-13</td>\n",
       "    </tr>\n",
       "    <tr>\n",
       "        <td>dogdi04</td>\n",
       "        <td>Diana</td>\n",
       "        <td>Dog</td>\n",
       "        <td>2018-04-13</td>\n",
       "    </tr>\n",
       "    <tr>\n",
       "        <td>eaglev05</td>\n",
       "        <td>Eve</td>\n",
       "        <td>Eagle</td>\n",
       "        <td>2018-04-13</td>\n",
       "    </tr>\n",
       "    <tr>\n",
       "        <td>goatge07</td>\n",
       "        <td>George</td>\n",
       "        <td>Goat</td>\n",
       "        <td>2018-04-05</td>\n",
       "    </tr>\n",
       "    <tr>\n",
       "        <td>foxfr06</td>\n",
       "        <td>Fiona</td>\n",
       "        <td>Fox</td>\n",
       "        <td>2017-12-10</td>\n",
       "    </tr>\n",
       "</table>"
      ],
      "text/plain": [
       "[('pottha01', 'Harry', 'Potter', datetime.date(2016, 4, 13)),\n",
       " ('weasro02', 'Ron', 'Weasley', datetime.date(2016, 4, 13)),\n",
       " ('granhe03', 'Hermione', 'Granger', datetime.date(2016, 4, 13)),\n",
       " ('aardal01', 'Alice', 'Aardvark', datetime.date(2018, 4, 13)),\n",
       " ('beavbo02', 'Bob', 'Beaver', datetime.date(2018, 4, 13)),\n",
       " ('crocch03', 'Charlie', 'Crocodile', datetime.date(2018, 4, 13)),\n",
       " ('dogdi04', 'Diana', 'Dog', datetime.date(2018, 4, 13)),\n",
       " ('eaglev05', 'Eve', 'Eagle', datetime.date(2018, 4, 13)),\n",
       " ('goatge07', 'George', 'Goat', datetime.date(2018, 4, 5)),\n",
       " ('foxfr06', 'Fiona', 'Fox', datetime.date(2017, 12, 10))]"
      ]
     },
     "execution_count": 49,
     "metadata": {},
     "output_type": "execute_result"
    }
   ],
   "source": [
    "%%sql\n",
    "\n",
    "select *\n",
    "from student"
   ]
  },
  {
   "cell_type": "markdown",
   "metadata": {},
   "source": [
    "# SQL: Delete\n",
    "\n",
    "Use `DELETE` clause to delete (remove) data from the database.\n"
   ]
  },
  {
   "cell_type": "code",
   "execution_count": 50,
   "metadata": {},
   "outputs": [
    {
     "name": "stdout",
     "output_type": "stream",
     "text": [
      "10 rows affected.\n"
     ]
    },
    {
     "data": {
      "text/plain": [
       "[]"
      ]
     },
     "execution_count": 50,
     "metadata": {},
     "output_type": "execute_result"
    }
   ],
   "source": [
    "%%sql\n",
    "\n",
    "delete\n",
    "from student"
   ]
  },
  {
   "cell_type": "code",
   "execution_count": 51,
   "metadata": {},
   "outputs": [
    {
     "name": "stdout",
     "output_type": "stream",
     "text": [
      "0 rows affected.\n"
     ]
    },
    {
     "data": {
      "text/html": [
       "<table>\n",
       "    <tr>\n",
       "        <th>username</th>\n",
       "        <th>name_first</th>\n",
       "        <th>name_last</th>\n",
       "        <th>dob</th>\n",
       "    </tr>\n",
       "</table>"
      ],
      "text/plain": [
       "[]"
      ]
     },
     "execution_count": 51,
     "metadata": {},
     "output_type": "execute_result"
    }
   ],
   "source": [
    "%%sql\n",
    "\n",
    "select *\n",
    "from student"
   ]
  },
  {
   "cell_type": "markdown",
   "metadata": {},
   "source": [
    "# SQL: Conditional Delete\n",
    "\n",
    "Populate the database first"
   ]
  },
  {
   "cell_type": "code",
   "execution_count": 52,
   "metadata": {},
   "outputs": [
    {
     "name": "stdout",
     "output_type": "stream",
     "text": [
      "1 rows affected.\n",
      "1 rows affected.\n",
      "1 rows affected.\n",
      "1 rows affected.\n",
      "1 rows affected.\n",
      "1 rows affected.\n"
     ]
    },
    {
     "data": {
      "text/plain": [
       "[]"
      ]
     },
     "execution_count": 52,
     "metadata": {},
     "output_type": "execute_result"
    }
   ],
   "source": [
    "%%sql\n",
    "\n",
    "insert into student values('aardal01', 'Alice', 'Aardvark', '2018-04-13');\n",
    "insert into student values('beavbo02', 'Bob', 'Beaver', '2018/04/13');\n",
    "insert into student values('crocch03', 'Charlie', 'Crocodile', '20180413');\n",
    "insert into student values('dogdi04', 'Diana', 'Dog', '04/13/2018');\n",
    "insert into student values('eaglev05', 'Eve', 'Eagle', '4/13/18');\n",
    "insert into student values('foxfr06', 'Fred', 'Fox');"
   ]
  },
  {
   "cell_type": "code",
   "execution_count": 53,
   "metadata": {},
   "outputs": [
    {
     "name": "stdout",
     "output_type": "stream",
     "text": [
      "6 rows affected.\n"
     ]
    },
    {
     "data": {
      "text/html": [
       "<table>\n",
       "    <tr>\n",
       "        <th>username</th>\n",
       "        <th>name_first</th>\n",
       "        <th>name_last</th>\n",
       "        <th>dob</th>\n",
       "    </tr>\n",
       "    <tr>\n",
       "        <td>aardal01</td>\n",
       "        <td>Alice</td>\n",
       "        <td>Aardvark</td>\n",
       "        <td>2018-04-13</td>\n",
       "    </tr>\n",
       "    <tr>\n",
       "        <td>beavbo02</td>\n",
       "        <td>Bob</td>\n",
       "        <td>Beaver</td>\n",
       "        <td>2018-04-13</td>\n",
       "    </tr>\n",
       "    <tr>\n",
       "        <td>crocch03</td>\n",
       "        <td>Charlie</td>\n",
       "        <td>Crocodile</td>\n",
       "        <td>2018-04-13</td>\n",
       "    </tr>\n",
       "    <tr>\n",
       "        <td>dogdi04</td>\n",
       "        <td>Diana</td>\n",
       "        <td>Dog</td>\n",
       "        <td>2018-04-13</td>\n",
       "    </tr>\n",
       "    <tr>\n",
       "        <td>eaglev05</td>\n",
       "        <td>Eve</td>\n",
       "        <td>Eagle</td>\n",
       "        <td>2018-04-13</td>\n",
       "    </tr>\n",
       "    <tr>\n",
       "        <td>foxfr06</td>\n",
       "        <td>Fred</td>\n",
       "        <td>Fox</td>\n",
       "        <td>None</td>\n",
       "    </tr>\n",
       "</table>"
      ],
      "text/plain": [
       "[('aardal01', 'Alice', 'Aardvark', datetime.date(2018, 4, 13)),\n",
       " ('beavbo02', 'Bob', 'Beaver', datetime.date(2018, 4, 13)),\n",
       " ('crocch03', 'Charlie', 'Crocodile', datetime.date(2018, 4, 13)),\n",
       " ('dogdi04', 'Diana', 'Dog', datetime.date(2018, 4, 13)),\n",
       " ('eaglev05', 'Eve', 'Eagle', datetime.date(2018, 4, 13)),\n",
       " ('foxfr06', 'Fred', 'Fox', None)]"
      ]
     },
     "execution_count": 53,
     "metadata": {},
     "output_type": "execute_result"
    }
   ],
   "source": [
    "%%sql\n",
    "\n",
    "select *\n",
    "from student"
   ]
  },
  {
   "cell_type": "code",
   "execution_count": 54,
   "metadata": {},
   "outputs": [
    {
     "name": "stdout",
     "output_type": "stream",
     "text": [
      "1 rows affected.\n"
     ]
    },
    {
     "data": {
      "text/plain": [
       "[]"
      ]
     },
     "execution_count": 54,
     "metadata": {},
     "output_type": "execute_result"
    }
   ],
   "source": [
    "%%sql\n",
    "\n",
    "delete\n",
    "from student\n",
    "where name_first like 'Ch%'"
   ]
  },
  {
   "cell_type": "code",
   "execution_count": 55,
   "metadata": {},
   "outputs": [
    {
     "name": "stdout",
     "output_type": "stream",
     "text": [
      "5 rows affected.\n"
     ]
    },
    {
     "data": {
      "text/html": [
       "<table>\n",
       "    <tr>\n",
       "        <th>username</th>\n",
       "        <th>name_first</th>\n",
       "        <th>name_last</th>\n",
       "        <th>dob</th>\n",
       "    </tr>\n",
       "    <tr>\n",
       "        <td>aardal01</td>\n",
       "        <td>Alice</td>\n",
       "        <td>Aardvark</td>\n",
       "        <td>2018-04-13</td>\n",
       "    </tr>\n",
       "    <tr>\n",
       "        <td>beavbo02</td>\n",
       "        <td>Bob</td>\n",
       "        <td>Beaver</td>\n",
       "        <td>2018-04-13</td>\n",
       "    </tr>\n",
       "    <tr>\n",
       "        <td>dogdi04</td>\n",
       "        <td>Diana</td>\n",
       "        <td>Dog</td>\n",
       "        <td>2018-04-13</td>\n",
       "    </tr>\n",
       "    <tr>\n",
       "        <td>eaglev05</td>\n",
       "        <td>Eve</td>\n",
       "        <td>Eagle</td>\n",
       "        <td>2018-04-13</td>\n",
       "    </tr>\n",
       "    <tr>\n",
       "        <td>foxfr06</td>\n",
       "        <td>Fred</td>\n",
       "        <td>Fox</td>\n",
       "        <td>None</td>\n",
       "    </tr>\n",
       "</table>"
      ],
      "text/plain": [
       "[('aardal01', 'Alice', 'Aardvark', datetime.date(2018, 4, 13)),\n",
       " ('beavbo02', 'Bob', 'Beaver', datetime.date(2018, 4, 13)),\n",
       " ('dogdi04', 'Diana', 'Dog', datetime.date(2018, 4, 13)),\n",
       " ('eaglev05', 'Eve', 'Eagle', datetime.date(2018, 4, 13)),\n",
       " ('foxfr06', 'Fred', 'Fox', None)]"
      ]
     },
     "execution_count": 55,
     "metadata": {},
     "output_type": "execute_result"
    }
   ],
   "source": [
    "%%sql\n",
    "\n",
    "select *\n",
    "from student"
   ]
  },
  {
   "cell_type": "code",
   "execution_count": 59,
   "metadata": {},
   "outputs": [
    {
     "name": "stdout",
     "output_type": "stream",
     "text": [
      "3 rows affected.\n"
     ]
    },
    {
     "data": {
      "text/plain": [
       "[]"
      ]
     },
     "execution_count": 59,
     "metadata": {},
     "output_type": "execute_result"
    }
   ],
   "source": [
    "%%sql\n",
    "\n",
    "delete\n",
    "from student\n",
    "where name_last like '%a%'"
   ]
  },
  {
   "cell_type": "code",
   "execution_count": 60,
   "metadata": {},
   "outputs": [
    {
     "name": "stdout",
     "output_type": "stream",
     "text": [
      "1 rows affected.\n"
     ]
    },
    {
     "data": {
      "text/html": [
       "<table>\n",
       "    <tr>\n",
       "        <th>username</th>\n",
       "        <th>name_first</th>\n",
       "        <th>name_last</th>\n",
       "        <th>dob</th>\n",
       "    </tr>\n",
       "    <tr>\n",
       "        <td>foxfr06</td>\n",
       "        <td>Fred</td>\n",
       "        <td>Fox</td>\n",
       "        <td>None</td>\n",
       "    </tr>\n",
       "</table>"
      ],
      "text/plain": [
       "[('foxfr06', 'Fred', 'Fox', None)]"
      ]
     },
     "execution_count": 60,
     "metadata": {},
     "output_type": "execute_result"
    }
   ],
   "source": [
    "%%sql\n",
    "\n",
    "select *\n",
    "from student"
   ]
  }
 ],
 "metadata": {
  "kernelspec": {
   "display_name": "Python 3",
   "language": "python",
   "name": "python3"
  },
  "language_info": {
   "codemirror_mode": {
    "name": "ipython",
    "version": 3
   },
   "file_extension": ".py",
   "mimetype": "text/x-python",
   "name": "python",
   "nbconvert_exporter": "python",
   "pygments_lexer": "ipython3",
   "version": "3.5.1"
  }
 },
 "nbformat": 4,
 "nbformat_minor": 2
}
